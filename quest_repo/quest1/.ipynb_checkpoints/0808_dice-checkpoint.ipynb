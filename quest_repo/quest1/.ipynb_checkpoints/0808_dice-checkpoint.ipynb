{
 "cells": [
  {
   "cell_type": "markdown",
   "id": "736485c1",
   "metadata": {},
   "source": [
    "## Car 예시로 연습"
   ]
  },
  {
   "cell_type": "code",
   "execution_count": 30,
   "id": "e6fb992d",
   "metadata": {},
   "outputs": [],
   "source": [
    "class Car:\n",
    "    manufacture = \"India\"\n",
    "\n",
    "    def __init__(self, color='red', category='sedan'):\n",
    "        self.color = color\n",
    "        self.category = category\n",
    "\n",
    "    def drive(self):\n",
    "        print(\"I'm driving\")\n",
    "\n",
    "    def accel(self, speed_up, current_speed=10):\n",
    "        self.speed_up = speed_up\n",
    "        self.current_speed = current_speed + self.speed_up\n",
    "        print(\"speed up\", self.speed_up, \"driving at\", self.current_speed)"
   ]
  },
  {
   "cell_type": "markdown",
   "id": "54cc9c82",
   "metadata": {},
   "source": [
    "- Car라는 클래스를 생성했다.\n",
    "- init, drive, accel 메서드를 포함한다."
   ]
  },
  {
   "cell_type": "code",
   "execution_count": 31,
   "id": "12fa8fe1",
   "metadata": {},
   "outputs": [
    {
     "name": "stdout",
     "output_type": "stream",
     "text": [
      "India red sports car\n",
      "India white sedan\n"
     ]
    }
   ],
   "source": [
    "car1 = Car('red','sports car')\n",
    "car2 = Car('white')\n",
    "\n",
    "print(car1.manufacture, car1.color, car1.category)\n",
    "print(car2.manufacture, car2.color, car2.category)"
   ]
  },
  {
   "cell_type": "markdown",
   "id": "8085fc4f",
   "metadata": {},
   "source": [
    "- manufacture는 클래스 변수로, 모든 객체에서 같은 값을 조회할 수 있다.\n",
    "- color과 category는 self.를 사용하여 생성된 인스턴스 변수로, 서로 다른 객체 간 값 공유가 불가능하다."
   ]
  },
  {
   "cell_type": "code",
   "execution_count": 32,
   "id": "7df9c05a",
   "metadata": {},
   "outputs": [],
   "source": [
    "class NewCar(Car):\n",
    "    def __init__(self, color, category, maker):\n",
    "        super().__init__(color, category)\n",
    "        self.maker = maker\n",
    "\n",
    "    def fly(self):\n",
    "        print(\"I'm flying!! This is the new car!!\")\n",
    "\n",
    "    def accel(self, speed_up, level=1, current_speed=10):\n",
    "        self.boost[level] = {1 : 0, 2 : 30, 3 : 50}\n",
    "        self.speed_up = speed_up + self.boost[level]\n",
    "        self.current_speed = current_speed + self.speed_up\n",
    "        print(\"speed up\", self.speed_up, \"driving at\", self.current_speed)"
   ]
  },
  {
   "cell_type": "markdown",
   "id": "db2c5512",
   "metadata": {},
   "source": [
    "- Car라는 부모 클래스를 상속받아 NewCar라는 자식 클래스를 생성했다.\n",
    "- super()를 사용하여 부모 메서드를 호출하여 기존 속성을 유지하며 maker라는 속성을 추가했다.\n",
    "- fly라는 메서드를 추가했다.\n",
    "- drive 메서드를 재정의(override)했다."
   ]
  },
  {
   "cell_type": "markdown",
   "id": "267ce773",
   "metadata": {},
   "source": [
    "## n면체 주사위 만들기"
   ]
  },
  {
   "cell_type": "markdown",
   "id": "2cf2dfb2",
   "metadata": {},
   "source": [
    "- 나만의 n면체 주사위 클래스 이름은 FunnyDice로 합니다. (Dice는 주사위라는 뜻이에요)\n",
    "- 주사위 면의 개수 n을 인스턴스 변수로 선언해 주사위 면의 개수 n을 입력할 수 있게 합니다.\n",
    "- throw란 메서드로 주사위를 던져서 1 ~ n 중 하나의 값이 나오게 합니다.\n",
    "- 주사위의 값을 특정한 값으로 세팅하기 : setval이란 기능을 통해 특정 값을 user가 선택할 수 있는 치팅 기능을 넣어도 재밌을 것 같네요.\n",
    "- 현재 주사위 값 얻기 : 주사위를 던졌든, 주사위 값을 세팅했든 주사위의 값을 user한테 알려줘야 합니다. getval이란 기능을 추가해서 user가 현재 주사위의 값을 읽을 수 있게 해줍니다."
   ]
  },
  {
   "cell_type": "code",
   "execution_count": 1,
   "id": "e8209561",
   "metadata": {},
   "outputs": [],
   "source": [
    "from random import randrange"
   ]
  },
  {
   "cell_type": "code",
   "execution_count": 41,
   "id": "1fb13e97",
   "metadata": {},
   "outputs": [],
   "source": [
    "class FunnyDice:\n",
    "    def __init__(self, n=6):\n",
    "        self.n = int(n) # 주사위 면 수의 타입을 정수형으로 변환\n",
    "        self.numbers = list(range(1, n+1)) # 주사위 눈을 리스트로 만듦\n",
    "        self.index = randrange(0, self.n) # 주사위를 던지기 전 눈의 수를 위한 인덱스 추가\n",
    "        self.val = self.numbers[self.index] # 인덱스에 해당하는 주사위 눈\n",
    "\n",
    "    def throw(self):\n",
    "        self.index = randrange(0, self.n) # 던졌을 때, 주사위 눈의 수의 인덱스\n",
    "        self.val = self.numbers[self.index] # 던졌을 때, 주사위 눈\n",
    "\n",
    "    def getval(self):\n",
    "        return self.val # 주사위 눈 변수 val를 반환\n",
    "\n",
    "    def setval(self, val): # 사용자가 주사위 값을 세팅\n",
    "        if val <= self.n:\n",
    "            self.val = val\n",
    "        else:\n",
    "            msg = f\"주사위에 없는 숫자입니다. 주사위는 1 ~ {self.n}까지 있습니다. \"\n",
    "            raise ValueError(msg)"
   ]
  },
  {
   "cell_type": "code",
   "execution_count": 46,
   "id": "31cc82ed",
   "metadata": {},
   "outputs": [
    {
     "data": {
      "text/plain": [
       "3"
      ]
     },
     "execution_count": 46,
     "metadata": {},
     "output_type": "execute_result"
    }
   ],
   "source": [
    "dice = FunnyDice(8)\n",
    "dice.setval(3)\n",
    "# dice.throw()\n",
    "dice.getval()"
   ]
  },
  {
   "cell_type": "markdown",
   "id": "000779e8",
   "metadata": {},
   "source": [
    "- 주사위 눈을 3으로 세팅하여 결과값이 3으로 출력된다."
   ]
  },
  {
   "cell_type": "code",
   "execution_count": 45,
   "id": "269dc0f1",
   "metadata": {},
   "outputs": [
    {
     "ename": "ValueError",
     "evalue": "주사위에 없는 숫자입니다. 주사위는 1 ~ 8까지 있습니다. ",
     "output_type": "error",
     "traceback": [
      "\u001b[0;31m---------------------------------------------------------------------------\u001b[0m",
      "\u001b[0;31mValueError\u001b[0m                                Traceback (most recent call last)",
      "\u001b[0;32m/tmp/ipykernel_31/1129958640.py\u001b[0m in \u001b[0;36m<module>\u001b[0;34m\u001b[0m\n\u001b[1;32m      1\u001b[0m \u001b[0mdice\u001b[0m \u001b[0;34m=\u001b[0m \u001b[0mFunnyDice\u001b[0m\u001b[0;34m(\u001b[0m\u001b[0;36m8\u001b[0m\u001b[0;34m)\u001b[0m\u001b[0;34m\u001b[0m\u001b[0;34m\u001b[0m\u001b[0m\n\u001b[0;32m----> 2\u001b[0;31m \u001b[0mdice\u001b[0m\u001b[0;34m.\u001b[0m\u001b[0msetval\u001b[0m\u001b[0;34m(\u001b[0m\u001b[0;36m9\u001b[0m\u001b[0;34m)\u001b[0m\u001b[0;34m\u001b[0m\u001b[0;34m\u001b[0m\u001b[0m\n\u001b[0m\u001b[1;32m      3\u001b[0m \u001b[0;31m# dice.throw()\u001b[0m\u001b[0;34m\u001b[0m\u001b[0;34m\u001b[0m\u001b[0m\n\u001b[1;32m      4\u001b[0m \u001b[0mdice\u001b[0m\u001b[0;34m.\u001b[0m\u001b[0mgetval\u001b[0m\u001b[0;34m(\u001b[0m\u001b[0;34m)\u001b[0m\u001b[0;34m\u001b[0m\u001b[0;34m\u001b[0m\u001b[0m\n",
      "\u001b[0;32m/tmp/ipykernel_31/465141973.py\u001b[0m in \u001b[0;36msetval\u001b[0;34m(self, val)\u001b[0m\n\u001b[1;32m     18\u001b[0m         \u001b[0;32melse\u001b[0m\u001b[0;34m:\u001b[0m\u001b[0;34m\u001b[0m\u001b[0;34m\u001b[0m\u001b[0m\n\u001b[1;32m     19\u001b[0m             \u001b[0mmsg\u001b[0m \u001b[0;34m=\u001b[0m \u001b[0;34mf\"주사위에 없는 숫자입니다. 주사위는 1 ~ {self.n}까지 있습니다. \"\u001b[0m\u001b[0;34m\u001b[0m\u001b[0;34m\u001b[0m\u001b[0m\n\u001b[0;32m---> 20\u001b[0;31m             \u001b[0;32mraise\u001b[0m \u001b[0mValueError\u001b[0m\u001b[0;34m(\u001b[0m\u001b[0mmsg\u001b[0m\u001b[0;34m)\u001b[0m\u001b[0;34m\u001b[0m\u001b[0;34m\u001b[0m\u001b[0m\n\u001b[0m",
      "\u001b[0;31mValueError\u001b[0m: 주사위에 없는 숫자입니다. 주사위는 1 ~ 8까지 있습니다. "
     ]
    }
   ],
   "source": [
    "dice = FunnyDice(8)\n",
    "dice.setval(9)\n",
    "# dice.throw()\n",
    "dice.getval()"
   ]
  },
  {
   "cell_type": "markdown",
   "id": "5fd09993",
   "metadata": {},
   "source": [
    "- 클래스가 잘 동작하는지 확인해 봤다.\n",
    "- FunnyDice(8): 인자를 8로 설정하여 주사위 면의 수를 8개로 지정했다.\n",
    "- setval(6): 주사위 값을 6으로 세팅했다. => 사기치는 것?\n",
    "- n 보다 큰 값으로 주사위 값을 세팅하면 설정한 에러 메세지를 출력할 수 있다."
   ]
  },
  {
   "cell_type": "code",
   "execution_count": 44,
   "id": "fd627b75",
   "metadata": {},
   "outputs": [
    {
     "data": {
      "text/plain": [
       "3"
      ]
     },
     "execution_count": 44,
     "metadata": {},
     "output_type": "execute_result"
    }
   ],
   "source": [
    "dice = FunnyDice(8)\n",
    "# dice.setval(6)\n",
    "dice.throw()\n",
    "dice.getval()"
   ]
  },
  {
   "cell_type": "markdown",
   "id": "ea04d50f",
   "metadata": {},
   "source": [
    "- throw()와 getval()로 주사위를 던지고 주사위 눈의 수를 얻었다."
   ]
  },
  {
   "cell_type": "code",
   "execution_count": 38,
   "id": "5ee1ac98",
   "metadata": {},
   "outputs": [],
   "source": [
    "def get_inputs():\n",
    "    n = int(input(\"주사위 면의 개수를 입력하세요: \"))\n",
    "    return n"
   ]
  },
  {
   "cell_type": "markdown",
   "id": "608cdd22",
   "metadata": {},
   "source": [
    "- input() 함수를 사용하여 사용자로부터 주사위 면수 n 값을 받도록 했다."
   ]
  },
  {
   "cell_type": "code",
   "execution_count": 39,
   "id": "12c6bfec",
   "metadata": {},
   "outputs": [],
   "source": [
    "def main():\n",
    "    n = get_inputs()\n",
    "    mydice = FunnyDice(n)\n",
    "    mydice.throw()\n",
    "    print(f\"행운의 숫자는? {mydice.getval()}\")"
   ]
  },
  {
   "cell_type": "markdown",
   "id": "acad19ea",
   "metadata": {},
   "source": [
    "- main() 함수란, 스크립트 파일의 주요 동작을 정의하고 실행하는 역할을 하는 것이다. \n",
    "- 실제 프로그램의 동작 로직을 이 함수 안에 구현하게 된다."
   ]
  },
  {
   "cell_type": "code",
   "execution_count": 40,
   "id": "9eb23f95",
   "metadata": {},
   "outputs": [
    {
     "name": "stdout",
     "output_type": "stream",
     "text": [
      "주사위 면의 개수를 입력하세요: 83\n",
      "행운의 숫자는? 78\n"
     ]
    }
   ],
   "source": [
    "if __name__ == '__main__':\n",
    "    main()"
   ]
  },
  {
   "cell_type": "markdown",
   "id": "b63a19ec",
   "metadata": {},
   "source": [
    "- \\__name__ 변수의 값이 \\__main__일 때에만 코드 블록 안의 내용이 실행되도록 하는 조건문이다. \n",
    "- \\__main__은 현재 스크립트 파일이 직접 실행되었을 때 \\__name__ 변수의 값이다. \n",
    "- 즉, 이 조건문은 현재 파일이 스크립트로 실행될 때만 참이 된다.\n",
    "- 스크립트 파일이 직접 실행될 때 main() 함수 내의 코드가 실행되며, 다른 모듈로 임포트될 때는 main() 함수가 실행되지 않는다."
   ]
  },
  {
   "cell_type": "markdown",
   "id": "9573b4e7",
   "metadata": {},
   "source": [
    "## 나만의 n면체 주사위 만들기"
   ]
  },
  {
   "cell_type": "markdown",
   "id": "21b6cdf3",
   "metadata": {},
   "source": [
    "- 주사위 2개를 동시에 던지고, 두 주사위 눈의 수가 같으면 한 번 더 진행한다"
   ]
  },
  {
   "cell_type": "code",
   "execution_count": 2,
   "id": "c2f0c567",
   "metadata": {},
   "outputs": [],
   "source": [
    "class FunnyDice:\n",
    "    def __init__(self, n=6):\n",
    "        self.n = int(n) # 주사위 면 수의 타입을 정수형으로 변환\n",
    "        self.numbers = list(range(1, n+1)) # 주사위 눈을 리스트로 만듦\n",
    "        self.index1 = randrange(0, self.n) # 1번 주사위를 던지기 전 눈의 수를 위한 인덱스 추가\n",
    "        self.val1 = self.numbers[self.index1] # 인덱스에 해당하는 1번 주사위 눈\n",
    "        self.index2 = randrange(0, self.n) # 2번 주사위를 던지기 전 눈의 수를 위한 인덱스 추가\n",
    "        self.val2 = self.numbers[self.index2] # 인덱스에 해당하는 2번 주사위 눈\n",
    "\n",
    "    def throw(self):\n",
    "        self.index1 = randrange(0, self.n) # 던졌을 때, 1번 주사위 눈의 수의 인덱스\n",
    "        self.val1 = self.numbers[self.index1] # 던졌을 때, 1번 주사위 눈\n",
    "        self.index2 = randrange(0, self.n) # 던졌을 때, 1번 주사위 눈의 수의 인덱스\n",
    "        self.val2 = self.numbers[self.index2] # 던졌을 때, 1번 주사위 눈\n",
    "\n",
    "    def getval(self):\n",
    "        if self.val1 != self.val2:\n",
    "            return self.val1, self.val2 # 주사위 눈 변수 val1, val2를 반환\n",
    "        else:\n",
    "            print(f\"두 주사위 눈이 {self.val1}, {self.val2}로 같습니다. 다시 던집니다.\")\n",
    "            while self.val1 == self.val2: # 두 주사위 눈이 같지 않을 때까지 주사위를 던지도록 함\n",
    "                self.throw()\n",
    "            return self.val1, self.val2\n",
    "\n",
    "    def setval(self, val): # 사용자가 주사위 값을 세팅\n",
    "        if val <= self.n:\n",
    "            self.val = val\n",
    "        else:\n",
    "            msg = f\"주사위에 없는 숫자입니다. 주사위는 1 ~ {self.n}까지 있습니다. \"\n",
    "            raise ValueError(msg)"
   ]
  },
  {
   "cell_type": "code",
   "execution_count": 3,
   "id": "fd427ea4",
   "metadata": {},
   "outputs": [],
   "source": [
    "def get_inputs():\n",
    "    n = int(input(\"주사위 면의 개수를 입력하세요: \"))\n",
    "    return n"
   ]
  },
  {
   "cell_type": "code",
   "execution_count": 4,
   "id": "8edc0f36",
   "metadata": {},
   "outputs": [],
   "source": [
    "def main():\n",
    "    n = get_inputs()\n",
    "    mydice = FunnyDice(n)\n",
    "    mydice.throw()\n",
    "    print(f\"행운의 숫자는? {mydice.getval()}\")"
   ]
  },
  {
   "cell_type": "code",
   "execution_count": 11,
   "id": "4165fe0a",
   "metadata": {},
   "outputs": [
    {
     "name": "stdout",
     "output_type": "stream",
     "text": [
      "주사위 면의 개수를 입력하세요: 6\n",
      "두 주사위 눈이 4, 4로 같습니다. 다시 던집니다.\n",
      "행운의 숫자는? (2, 1)\n"
     ]
    }
   ],
   "source": [
    "if __name__ == '__main__':\n",
    "    main()"
   ]
  },
  {
   "cell_type": "markdown",
   "id": "44ed2f1b",
   "metadata": {},
   "source": [
    "- 두 주사위 눈이 4로 동일해서 주사위를 한 번 더 던졌다.\n",
    "- 다음 결과는 각각 2와 1로 두 주사위 눈이 같지 않으므로 주사위 값을 출력한다."
   ]
  },
  {
   "cell_type": "markdown",
   "id": "e68b1448",
   "metadata": {},
   "source": [
    "# 회고"
   ]
  },
  {
   "cell_type": "markdown",
   "id": "a07a9455",
   "metadata": {},
   "source": [
    "### 어려웠던 점\n",
    "> - 초반에 클래스와 관련한 용어들이 굉장히 많이 언급되면서 정확한 의미를 파악하는데 조금 힘들었다.  \n",
    "> - self를 이해하고 사용하는 것이 낯설고 어려웠는데, 그루님이 설명해주셔서 도움이 됐다.  \n",
    "> - 주사위를 던지기 전과 던질 때, 던진 후 등 각 상황에 대해 각각 메서드를 지정하고 클래스로 구현하는 점이 힘들었다.\n",
    "\n",
    "### 학습한 내용\n",
    "> - Car 라는 클래스로 클래스의 속성과 메서드가 각각 어떤 역할인지 구분했다.  \n",
    "> - self란 객체 내에 속성 값을 받아 저장하게 하여 외부 호출 및 내부 함수에서 해당 변수들을 사용할 수 있게 해주는 것이라는 것을 그루님의 설명과 인터넷을 참고하여 알게됐다.\n",
    "> - \\_init__과 같이 메서드이름 앞뒤에 언더바가 두 개 들어가는 메서드는 '매직메서드'라고 불리는 것을 알게됐다.  \n",
    "> - 변수를 선언하는 방법에 따라 '클래스 변수'와 '인스턴스 변수'가 생성되는 것에 대해 알게됐다.  \n",
    "> - 클래스 상속기능을 사용하는 방법으로 add, override, super()에 대해 배웠다.  \n",
    "> - n면체 주사위 만들기 코드를 구현하고 응용하여 주사위 코드를 커스터마이징하면서 파이썬 기초단계에서 배운 while문을 사용해 봤다."
   ]
  },
  {
   "cell_type": "markdown",
   "id": "77783ae1",
   "metadata": {},
   "source": [
    "# 참고"
   ]
  },
  {
   "cell_type": "markdown",
   "id": "57c98244",
   "metadata": {},
   "source": [
    "- https://ctkim.tistory.com/entry/Python-%EC%9E%85%EB%AC%B8-%EA%B0%95%EC%A2%8C-14-%ED%8C%8C%EC%9D%B4%EC%8D%AC-%ED%81%B4%EB%9E%98%EC%8A%A4%EC%99%80-%EA%B0%9D%EC%B2%B4-%EC%A0%95%EB%A6%AC-%EB%B0%8F-%EC%82%AC%EC%9A%A9%EB%B2%95\n",
    "\n",
    "- https://jimmy-ai.tistory.com/231"
   ]
  },
  {
   "cell_type": "code",
   "execution_count": null,
   "id": "802ca12d",
   "metadata": {},
   "outputs": [],
   "source": []
  }
 ],
 "metadata": {
  "kernelspec": {
   "display_name": "Python 3 (ipykernel)",
   "language": "python",
   "name": "python3"
  },
  "language_info": {
   "codemirror_mode": {
    "name": "ipython",
    "version": 3
   },
   "file_extension": ".py",
   "mimetype": "text/x-python",
   "name": "python",
   "nbconvert_exporter": "python",
   "pygments_lexer": "ipython3",
   "version": "3.9.7"
  }
 },
 "nbformat": 4,
 "nbformat_minor": 5
}
