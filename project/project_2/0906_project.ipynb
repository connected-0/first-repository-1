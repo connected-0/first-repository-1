{
 "cells": [
  {
   "cell_type": "markdown",
   "id": "19608c9f-20af-4de8-a69a-dda21d183c33",
   "metadata": {},
   "source": [
    "## 1. 손글씨 데이터"
   ]
  },
  {
   "cell_type": "markdown",
   "id": "7829dd6d-b810-4ab5-8805-1d54762ddf95",
   "metadata": {},
   "source": [
    "### (1) 필요한 모듈 import하기"
   ]
  },
  {
   "cell_type": "code",
   "execution_count": 1,
   "id": "cd1becb2-b761-4813-bc36-ce3a699dae77",
   "metadata": {},
   "outputs": [
    {
     "name": "stdout",
     "output_type": "stream",
     "text": [
      "Requirement already satisfied: scikit-learn in /home/cellularhacker/miniconda3/lib/python3.11/site-packages (1.3.0)\n",
      "Requirement already satisfied: numpy>=1.17.3 in /home/cellularhacker/miniconda3/lib/python3.11/site-packages (from scikit-learn) (1.25.2)\n",
      "Requirement already satisfied: scipy>=1.5.0 in /home/cellularhacker/miniconda3/lib/python3.11/site-packages (from scikit-learn) (1.11.2)\n",
      "Requirement already satisfied: joblib>=1.1.1 in /home/cellularhacker/miniconda3/lib/python3.11/site-packages (from scikit-learn) (1.3.2)\n",
      "Requirement already satisfied: threadpoolctl>=2.0.0 in /home/cellularhacker/miniconda3/lib/python3.11/site-packages (from scikit-learn) (3.2.0)\n",
      "Requirement already satisfied: pandas in /home/cellularhacker/miniconda3/lib/python3.11/site-packages (2.1.0)\n",
      "Requirement already satisfied: numpy>=1.23.2 in /home/cellularhacker/miniconda3/lib/python3.11/site-packages (from pandas) (1.25.2)\n",
      "Requirement already satisfied: python-dateutil>=2.8.2 in /home/cellularhacker/miniconda3/lib/python3.11/site-packages (from pandas) (2.8.2)\n",
      "Requirement already satisfied: pytz>=2020.1 in /home/cellularhacker/miniconda3/lib/python3.11/site-packages (from pandas) (2023.3)\n",
      "Requirement already satisfied: tzdata>=2022.1 in /home/cellularhacker/miniconda3/lib/python3.11/site-packages (from pandas) (2023.3)\n",
      "Requirement already satisfied: six>=1.5 in /home/cellularhacker/miniconda3/lib/python3.11/site-packages (from python-dateutil>=2.8.2->pandas) (1.16.0)\n",
      "Requirement already satisfied: matplotlib in /home/cellularhacker/miniconda3/lib/python3.11/site-packages (3.7.2)\n",
      "Requirement already satisfied: contourpy>=1.0.1 in /home/cellularhacker/miniconda3/lib/python3.11/site-packages (from matplotlib) (1.1.0)\n",
      "Requirement already satisfied: cycler>=0.10 in /home/cellularhacker/miniconda3/lib/python3.11/site-packages (from matplotlib) (0.11.0)\n",
      "Requirement already satisfied: fonttools>=4.22.0 in /home/cellularhacker/miniconda3/lib/python3.11/site-packages (from matplotlib) (4.42.1)\n",
      "Requirement already satisfied: kiwisolver>=1.0.1 in /home/cellularhacker/miniconda3/lib/python3.11/site-packages (from matplotlib) (1.4.5)\n",
      "Requirement already satisfied: numpy>=1.20 in /home/cellularhacker/miniconda3/lib/python3.11/site-packages (from matplotlib) (1.25.2)\n",
      "Requirement already satisfied: packaging>=20.0 in /home/cellularhacker/miniconda3/lib/python3.11/site-packages (from matplotlib) (23.0)\n",
      "Requirement already satisfied: pillow>=6.2.0 in /home/cellularhacker/miniconda3/lib/python3.11/site-packages (from matplotlib) (10.0.0)\n",
      "Requirement already satisfied: pyparsing<3.1,>=2.3.1 in /home/cellularhacker/miniconda3/lib/python3.11/site-packages (from matplotlib) (3.0.9)\n",
      "Requirement already satisfied: python-dateutil>=2.7 in /home/cellularhacker/miniconda3/lib/python3.11/site-packages (from matplotlib) (2.8.2)\n",
      "Requirement already satisfied: six>=1.5 in /home/cellularhacker/miniconda3/lib/python3.11/site-packages (from python-dateutil>=2.7->matplotlib) (1.16.0)\n",
      "Requirement already satisfied: numpy in /home/cellularhacker/miniconda3/lib/python3.11/site-packages (1.25.2)\n",
      "Requirement already satisfied: seaborn in /home/cellularhacker/miniconda3/lib/python3.11/site-packages (0.12.2)\n",
      "Requirement already satisfied: numpy!=1.24.0,>=1.17 in /home/cellularhacker/miniconda3/lib/python3.11/site-packages (from seaborn) (1.25.2)\n",
      "Requirement already satisfied: pandas>=0.25 in /home/cellularhacker/miniconda3/lib/python3.11/site-packages (from seaborn) (2.1.0)\n",
      "Requirement already satisfied: matplotlib!=3.6.1,>=3.1 in /home/cellularhacker/miniconda3/lib/python3.11/site-packages (from seaborn) (3.7.2)\n",
      "Requirement already satisfied: contourpy>=1.0.1 in /home/cellularhacker/miniconda3/lib/python3.11/site-packages (from matplotlib!=3.6.1,>=3.1->seaborn) (1.1.0)\n",
      "Requirement already satisfied: cycler>=0.10 in /home/cellularhacker/miniconda3/lib/python3.11/site-packages (from matplotlib!=3.6.1,>=3.1->seaborn) (0.11.0)\n",
      "Requirement already satisfied: fonttools>=4.22.0 in /home/cellularhacker/miniconda3/lib/python3.11/site-packages (from matplotlib!=3.6.1,>=3.1->seaborn) (4.42.1)\n",
      "Requirement already satisfied: kiwisolver>=1.0.1 in /home/cellularhacker/miniconda3/lib/python3.11/site-packages (from matplotlib!=3.6.1,>=3.1->seaborn) (1.4.5)\n",
      "Requirement already satisfied: packaging>=20.0 in /home/cellularhacker/miniconda3/lib/python3.11/site-packages (from matplotlib!=3.6.1,>=3.1->seaborn) (23.0)\n",
      "Requirement already satisfied: pillow>=6.2.0 in /home/cellularhacker/miniconda3/lib/python3.11/site-packages (from matplotlib!=3.6.1,>=3.1->seaborn) (10.0.0)\n",
      "Requirement already satisfied: pyparsing<3.1,>=2.3.1 in /home/cellularhacker/miniconda3/lib/python3.11/site-packages (from matplotlib!=3.6.1,>=3.1->seaborn) (3.0.9)\n",
      "Requirement already satisfied: python-dateutil>=2.7 in /home/cellularhacker/miniconda3/lib/python3.11/site-packages (from matplotlib!=3.6.1,>=3.1->seaborn) (2.8.2)\n",
      "Requirement already satisfied: pytz>=2020.1 in /home/cellularhacker/miniconda3/lib/python3.11/site-packages (from pandas>=0.25->seaborn) (2023.3)\n",
      "Requirement already satisfied: tzdata>=2022.1 in /home/cellularhacker/miniconda3/lib/python3.11/site-packages (from pandas>=0.25->seaborn) (2023.3)\n",
      "Requirement already satisfied: six>=1.5 in /home/cellularhacker/miniconda3/lib/python3.11/site-packages (from python-dateutil>=2.7->matplotlib!=3.6.1,>=3.1->seaborn) (1.16.0)\n"
     ]
    }
   ],
   "source": [
    "!pip install scikit-learn\n",
    "!pip install pandas\n",
    "!pip install matplotlib\n",
    "!pip install numpy\n",
    "!pip install seaborn"
   ]
  },
  {
   "cell_type": "code",
   "execution_count": 2,
   "id": "1a8c327a-453c-4baa-9970-0b3147be8f1e",
   "metadata": {},
   "outputs": [],
   "source": [
    "import pandas as pd\n",
    "import numpy as np\n",
    "import matplotlib.pyplot as plt\n",
    "\n",
    "from sklearn.datasets import load_digits\n",
    "from sklearn.datasets import load_wine\n",
    "from sklearn.datasets import load_breast_cancer\n",
    "\n",
    "from sklearn.model_selection import train_test_split\n",
    "from sklearn.metrics import classification_report\n",
    "from sklearn.metrics import accuracy_score\n",
    "\n",
    "from sklearn.tree import DecisionTreeClassifier \n",
    "from sklearn.ensemble import RandomForestClassifier\n",
    "from sklearn import svm\n",
    "from sklearn.linear_model import SGDClassifier\n",
    "from sklearn.linear_model import LogisticRegression\n",
    "\n",
    "import warnings\n",
    "warnings.filterwarnings(\"ignore\")"
   ]
  },
  {
   "cell_type": "code",
   "execution_count": 3,
   "id": "d1bf79d8-fc43-41be-9d74-3849020a3c75",
   "metadata": {},
   "outputs": [
    {
     "name": "stdout",
     "output_type": "stream",
     "text": [
      "Hello\n"
     ]
    }
   ],
   "source": [
    "print('Hello')"
   ]
  },
  {
   "cell_type": "markdown",
   "id": "45c8f157-9614-489f-87b8-05b11225913a",
   "metadata": {},
   "source": [
    "### (2) 데이터 준비"
   ]
  },
  {
   "cell_type": "code",
   "execution_count": 4,
   "id": "a85ce4f2-1500-4c6c-b4ef-d31a4ffe8793",
   "metadata": {},
   "outputs": [],
   "source": [
    "digits = load_digits()"
   ]
  },
  {
   "cell_type": "markdown",
   "id": "99f9b9f4-54a6-4359-8306-c723f1bdf64a",
   "metadata": {},
   "source": [
    "### (3) 데이터 이해하기"
   ]
  },
  {
   "cell_type": "code",
   "execution_count": 5,
   "id": "a6865adc-75f1-4072-9368-9ce622ab81ac",
   "metadata": {},
   "outputs": [
    {
     "data": {
      "text/plain": [
       "dict_keys(['data', 'target', 'frame', 'feature_names', 'target_names', 'images', 'DESCR'])"
      ]
     },
     "execution_count": 5,
     "metadata": {},
     "output_type": "execute_result"
    }
   ],
   "source": [
    "digits.keys()"
   ]
  },
  {
   "cell_type": "code",
   "execution_count": 6,
   "id": "d0b3ed9a-cb03-4a82-90fa-dceac0303caf",
   "metadata": {},
   "outputs": [],
   "source": [
    "# Feature / Label Data 지정\n",
    "digits_f = digits.data\n",
    "digits_t = digits.target\n",
    "digits_n = digits.target_names"
   ]
  },
  {
   "cell_type": "code",
   "execution_count": 7,
   "id": "19072d9f-9608-4e91-8fb3-f58859663689",
   "metadata": {},
   "outputs": [
    {
     "data": {
      "text/plain": [
       "array([0, 1, 2, 3, 4, 5, 6, 7, 8, 9])"
      ]
     },
     "execution_count": 7,
     "metadata": {},
     "output_type": "execute_result"
    }
   ],
   "source": [
    "# Target Names 출력\n",
    "digits_n"
   ]
  },
  {
   "cell_type": "code",
   "execution_count": 8,
   "id": "1bff53c5-17ae-4915-aead-acd5880779dd",
   "metadata": {},
   "outputs": [
    {
     "name": "stdout",
     "output_type": "stream",
     "text": [
      "1797 1797 10\n"
     ]
    }
   ],
   "source": [
    "# feature와 target data의 size 확인\n",
    "print(len(digits_f), len(digits_t), len(digits_n))"
   ]
  },
  {
   "cell_type": "code",
   "execution_count": 9,
   "id": "20621f57-01c0-466d-859c-313b0a696bea",
   "metadata": {},
   "outputs": [
    {
     "data": {
      "text/plain": [
       "(-0.5, 7.5, 7.5, -0.5)"
      ]
     },
     "execution_count": 9,
     "metadata": {},
     "output_type": "execute_result"
    },
    {
     "data": {
      "image/png": "[encoded data removed]",
      "text/plain": [
       "<Figure size 640x480 with 1 Axes>"
      ]
     },
     "metadata": {},
     "output_type": "display_data"
    }
   ],
   "source": [
    "# 데이터 이미지로 출력\n",
    "plt.imshow(digits_f[0].reshape(8,8), cmap='gray')\n",
    "plt.axis('off')"
   ]
  },
  {
   "cell_type": "code",
   "execution_count": 10,
   "id": "c9507395-ba08-4cc0-a005-7941d5317d55",
   "metadata": {},
   "outputs": [
    {
     "name": "stdout",
     "output_type": "stream",
     "text": [
      ".. _digits_dataset:\n",
      "\n",
      "Optical recognition of handwritten digits dataset\n",
      "--------------------------------------------------\n",
      "\n",
      "**Data Set Characteristics:**\n",
      "\n",
      "    :Number of Instances: 1797\n",
      "    :Number of Attributes: 64\n",
      "    :Attribute Information: 8x8 image of integer pixels in the range 0..16.\n",
      "    :Missing Attribute Values: None\n",
      "    :Creator: E. Alpaydin (alpaydin '@' boun.edu.tr)\n",
      "    :Date: July; 1998\n",
      "\n",
      "This is a copy of the test set of the UCI ML hand-written digits datasets\n",
      "https://archive.ics.uci.edu/ml/datasets/Optical+Recognition+of+Handwritten+Digits\n",
      "\n",
      "The data set contains images of hand-written digits: 10 classes where\n",
      "each class refers to a digit.\n",
      "\n",
      "Preprocessing programs made available by NIST were used to extract\n",
      "normalized bitmaps of handwritten digits from a preprinted form. From a\n",
      "total of 43 people, 30 contributed to the training set and different 13\n",
      "to the test set. 32x32 bitmaps are divided into nonoverlapping blocks of\n",
      "4x4 and the number of on pixels are counted in each block. This generates\n",
      "an input matrix of 8x8 where each element is an integer in the range\n",
      "0..16. This reduces dimensionality and gives invariance to small\n",
      "distortions.\n",
      "\n",
      "For info on NIST preprocessing routines, see M. D. Garris, J. L. Blue, G.\n",
      "T. Candela, D. L. Dimmick, J. Geist, P. J. Grother, S. A. Janet, and C.\n",
      "L. Wilson, NIST Form-Based Handprint Recognition System, NISTIR 5469,\n",
      "1994.\n",
      "\n",
      ".. topic:: References\n",
      "\n",
      "  - C. Kaynak (1995) Methods of Combining Multiple Classifiers and Their\n",
      "    Applications to Handwritten Digit Recognition, MSc Thesis, Institute of\n",
      "    Graduate Studies in Science and Engineering, Bogazici University.\n",
      "  - E. Alpaydin, C. Kaynak (1998) Cascading Classifiers, Kybernetika.\n",
      "  - Ken Tang and Ponnuthurai N. Suganthan and Xi Yao and A. Kai Qin.\n",
      "    Linear dimensionalityreduction using relevance weighted LDA. School of\n",
      "    Electrical and Electronic Engineering Nanyang Technological University.\n",
      "    2005.\n",
      "  - Claudio Gentile. A New Approximate Maximal Margin Classification\n",
      "    Algorithm. NIPS. 2000.\n",
      "\n"
     ]
    }
   ],
   "source": [
    "# 데이터 상세설명 출력\n",
    "print(digits.DESCR)"
   ]
  },
  {
   "cell_type": "code",
   "execution_count": 11,
   "id": "5a8e300b-2aac-4a93-adc0-18ea505d51d2",
   "metadata": {},
   "outputs": [
    {
     "data": {
      "text/plain": [
       "array([178, 182, 177, 183, 181, 182, 181, 179, 174, 180])"
      ]
     },
     "execution_count": 11,
     "metadata": {},
     "output_type": "execute_result"
    }
   ],
   "source": [
    "# target 데이터 각 클래스 샘플 수 출력\n",
    "class_counts = np.bincount(digits.target)\n",
    "class_counts"
   ]
  },
  {
   "cell_type": "markdown",
   "id": "7f6c76a6-2187-48fb-905c-21266968cb3f",
   "metadata": {},
   "source": [
    "> 0~9까지의 데이터가 균일하게 분포되어 있는 것을 확인할 수 있다."
   ]
  },
  {
   "cell_type": "markdown",
   "id": "874df993-a605-4b96-8e2f-2e6d2bc2583d",
   "metadata": {},
   "source": [
    "### (4) train, test 데이터 분리"
   ]
  },
  {
   "cell_type": "code",
   "execution_count": 12,
   "id": "533ae537-09b7-4b8d-8c8c-4028ca8575da",
   "metadata": {},
   "outputs": [],
   "source": [
    "X_train, X_test, y_train, y_test = train_test_split(\n",
    "    digits_f, digits_t, test_size=0.2, random_state=7)"
   ]
  },
  {
   "cell_type": "code",
   "execution_count": 13,
   "id": "ff234612-b1e5-4e5b-9e5b-323caaf0c732",
   "metadata": {},
   "outputs": [
    {
     "name": "stdout",
     "output_type": "stream",
     "text": [
      "(1437, 64) (360, 64) (1437,) (360,)\n"
     ]
    }
   ],
   "source": [
    "print(X_train.shape, X_test.shape, y_train.shape, y_test.shape)"
   ]
  },
  {
   "cell_type": "markdown",
   "id": "3281825e-1078-41ee-bf19-4a98f9ce62c8",
   "metadata": {},
   "source": [
    "### (5) 다양한 모델로 학습시켜보기"
   ]
  },
  {
   "cell_type": "markdown",
   "id": "741ea169-69d0-452d-85a7-c6aebd9c526b",
   "metadata": {},
   "source": [
    "#### Decision Tree 사용해 보기"
   ]
  },
  {
   "cell_type": "code",
   "execution_count": 14,
   "id": "cec46b87-5432-47a5-86d9-fbe6172184c2",
   "metadata": {},
   "outputs": [
    {
     "name": "stdout",
     "output_type": "stream",
     "text": [
      "              precision    recall  f1-score   support\n",
      "\n",
      "           0       1.00      0.98      0.99        43\n",
      "           1       0.81      0.81      0.81        42\n",
      "           2       0.79      0.82      0.80        40\n",
      "           3       0.79      0.91      0.85        34\n",
      "           4       0.83      0.95      0.89        37\n",
      "           5       0.90      0.96      0.93        28\n",
      "           6       0.84      0.93      0.88        28\n",
      "           7       0.96      0.82      0.89        33\n",
      "           8       0.88      0.65      0.75        43\n",
      "           9       0.78      0.78      0.78        32\n",
      "\n",
      "    accuracy                           0.86       360\n",
      "   macro avg       0.86      0.86      0.86       360\n",
      "weighted avg       0.86      0.86      0.85       360\n",
      "\n"
     ]
    }
   ],
   "source": [
    "decision_tree = DecisionTreeClassifier(random_state=32) # 모델 생성\n",
    "\n",
    "decision_tree.fit(X_train, y_train) # 모델 학습\n",
    "decision_y_predict = decision_tree.predict(X_test) # 예측\n",
    "\n",
    "print(classification_report(y_test, decision_y_predict)) # 보고서 출력"
   ]
  },
  {
   "cell_type": "markdown",
   "id": "009deac7-2eb8-44d2-b7f5-a71c78aeaa0f",
   "metadata": {},
   "source": [
    "#### Random Forest 사용해보기"
   ]
  },
  {
   "cell_type": "code",
   "execution_count": 15,
   "id": "f6490d0f-3fa7-4b92-821f-5e4ff9491d65",
   "metadata": {},
   "outputs": [
    {
     "name": "stdout",
     "output_type": "stream",
     "text": [
      "              precision    recall  f1-score   support\n",
      "\n",
      "           0       1.00      0.98      0.99        43\n",
      "           1       0.93      1.00      0.97        42\n",
      "           2       1.00      1.00      1.00        40\n",
      "           3       1.00      1.00      1.00        34\n",
      "           4       0.93      1.00      0.96        37\n",
      "           5       0.90      0.96      0.93        28\n",
      "           6       1.00      0.96      0.98        28\n",
      "           7       0.94      0.97      0.96        33\n",
      "           8       1.00      0.84      0.91        43\n",
      "           9       0.94      0.94      0.94        32\n",
      "\n",
      "    accuracy                           0.96       360\n",
      "   macro avg       0.96      0.96      0.96       360\n",
      "weighted avg       0.97      0.96      0.96       360\n",
      "\n"
     ]
    }
   ],
   "source": [
    "random_forest = RandomForestClassifier(random_state=32)\n",
    "\n",
    "random_forest.fit(X_train, y_train)\n",
    "random_forest_y_predict = random_forest.predict(X_test)\n",
    "\n",
    "print(classification_report(y_test, random_forest_y_predict))"
   ]
  },
  {
   "cell_type": "markdown",
   "id": "32533b79-b327-4f33-a77a-b1be68625a63",
   "metadata": {},
   "source": [
    "#### SVM 사용해 보기"
   ]
  },
  {
   "cell_type": "code",
   "execution_count": 16,
   "id": "8440504c-11ce-4aa6-9212-155563255f9e",
   "metadata": {},
   "outputs": [
    {
     "name": "stdout",
     "output_type": "stream",
     "text": [
      "              precision    recall  f1-score   support\n",
      "\n",
      "           0       1.00      1.00      1.00        43\n",
      "           1       0.95      1.00      0.98        42\n",
      "           2       1.00      1.00      1.00        40\n",
      "           3       1.00      1.00      1.00        34\n",
      "           4       1.00      1.00      1.00        37\n",
      "           5       0.93      1.00      0.97        28\n",
      "           6       1.00      1.00      1.00        28\n",
      "           7       1.00      1.00      1.00        33\n",
      "           8       1.00      0.93      0.96        43\n",
      "           9       1.00      0.97      0.98        32\n",
      "\n",
      "    accuracy                           0.99       360\n",
      "   macro avg       0.99      0.99      0.99       360\n",
      "weighted avg       0.99      0.99      0.99       360\n",
      "\n"
     ]
    }
   ],
   "source": [
    "svm_model = svm.SVC(random_state=32)\n",
    "\n",
    "svm_model.fit(X_train, y_train)\n",
    "svm_model_y_predict = svm_model.predict(X_test)\n",
    "\n",
    "print(classification_report(y_test, svm_model_y_predict))"
   ]
  },
  {
   "cell_type": "markdown",
   "id": "fba4218b-a08b-48a6-832b-7bb3496ed4fa",
   "metadata": {},
   "source": [
    "#### SGD Classifier 사용해 보기"
   ]
  },
  {
   "cell_type": "code",
   "execution_count": 17,
   "id": "7c7e2d8e-6d09-49e1-bf2b-df8172186775",
   "metadata": {},
   "outputs": [
    {
     "name": "stdout",
     "output_type": "stream",
     "text": [
      "              precision    recall  f1-score   support\n",
      "\n",
      "           0       1.00      1.00      1.00        43\n",
      "           1       0.85      0.95      0.90        42\n",
      "           2       0.98      1.00      0.99        40\n",
      "           3       0.89      0.94      0.91        34\n",
      "           4       1.00      0.97      0.99        37\n",
      "           5       0.93      1.00      0.97        28\n",
      "           6       0.96      0.93      0.95        28\n",
      "           7       0.97      0.97      0.97        33\n",
      "           8       0.88      0.88      0.88        43\n",
      "           9       0.96      0.72      0.82        32\n",
      "\n",
      "    accuracy                           0.94       360\n",
      "   macro avg       0.94      0.94      0.94       360\n",
      "weighted avg       0.94      0.94      0.94       360\n",
      "\n"
     ]
    }
   ],
   "source": [
    "sgd_model = SGDClassifier(random_state=32)\n",
    "\n",
    "sgd_model.fit(X_train, y_train)\n",
    "sgd_model_y_predict = sgd_model.predict(X_test)\n",
    "\n",
    "print(classification_report(y_test, sgd_model_y_predict))"
   ]
  },
  {
   "cell_type": "markdown",
   "id": "5962edac-8121-4c29-a2d6-bf7876fd2e19",
   "metadata": {},
   "source": [
    "#### Logistic Regression 사용해 보기"
   ]
  },
  {
   "cell_type": "code",
   "execution_count": 18,
   "id": "f8ce76af-bcb5-43cd-84e2-15807f248701",
   "metadata": {},
   "outputs": [
    {
     "name": "stdout",
     "output_type": "stream",
     "text": [
      "              precision    recall  f1-score   support\n",
      "\n",
      "           0       1.00      1.00      1.00        43\n",
      "           1       0.95      0.95      0.95        42\n",
      "           2       0.98      1.00      0.99        40\n",
      "           3       0.94      0.97      0.96        34\n",
      "           4       0.97      1.00      0.99        37\n",
      "           5       0.82      0.96      0.89        28\n",
      "           6       1.00      0.96      0.98        28\n",
      "           7       0.97      0.97      0.97        33\n",
      "           8       0.92      0.81      0.86        43\n",
      "           9       0.97      0.91      0.94        32\n",
      "\n",
      "    accuracy                           0.95       360\n",
      "   macro avg       0.95      0.95      0.95       360\n",
      "weighted avg       0.95      0.95      0.95       360\n",
      "\n"
     ]
    }
   ],
   "source": [
    "lr_model = LogisticRegression(random_state=32)\n",
    "\n",
    "lr_model.fit(X_train, y_train)\n",
    "lr_model_y_predict = lr_model.predict(X_test)\n",
    "\n",
    "print(classification_report(y_test, lr_model_y_predict))"
   ]
  },
  {
   "cell_type": "markdown",
   "id": "30307cb2-8405-4819-afe9-53b9fb00f277",
   "metadata": {},
   "source": [
    "### (6) 모델을 평가해 보기"
   ]
  },
  {
   "cell_type": "code",
   "execution_count": 19,
   "id": "dab9eb26-258b-49f9-bb7d-fb8a7ba350f8",
   "metadata": {},
   "outputs": [
    {
     "data": {
      "image/png": "[encoded data removed]",
      "text/plain": [
       "<Figure size 1000x600 with 1 Axes>"
      ]
     },
     "metadata": {},
     "output_type": "display_data"
    }
   ],
   "source": [
    "# 각 모델 학습 및 정확도 측정\n",
    "models = [decision_tree, random_forest, svm_model, sgd_model, lr_model]\n",
    "model_names = [\"Decision Tree\", \"Random Forest\", \"SVM\", \"SGD\", \"Logistic Regression\"]\n",
    "digits_accuracies = [] # 정확도 저장 리스트 생성\n",
    "\n",
    "for model, name in zip(models, model_names):\n",
    "    model.fit(X_train, y_train) # 학습\n",
    "    y_pred = model.predict(X_test) # 예측\n",
    "    accuracy = accuracy_score(y_test, y_pred) # 정확도 계산\n",
    "    digits_accuracies.append(accuracy) # 정확도 추가\n",
    "    \n",
    "# 정확도 시각화\n",
    "plt.figure(figsize=(10, 6))\n",
    "plt.plot(model_names, digits_accuracies, marker='o', linestyle='-', markersize=8)\n",
    "plt.xlabel('Model')\n",
    "plt.ylabel('Accuracy')\n",
    "plt.title('Model Accuracy Comparison')\n",
    "plt.grid(True) # 그리드 표시\n",
    "plt.ylim(0, 1.0)\n",
    "plt.xticks(rotation=45)\n",
    "plt.tight_layout()\n",
    "plt.show()"
   ]
  },
  {
   "cell_type": "markdown",
   "id": "2e1715f8-a3e9-4bd5-9c1e-745c15978473",
   "metadata": {},
   "source": [
    "1. 해석\n",
    "> 각 모델 별 정확도를 시각화한 결과, SVM 이 가장 높고, Decision Tree가 가장 정확도가 떨어지는 것으로 나타났다.\n",
    "> Precision 와 Recall 모두 높게 나온 것으로 보아, 다섯개의 모델 모두 예측을 잘 한것으로 보인다.\n",
    "> \n",
    "2. 선택한 평가지표: 정확도\n",
    "3. 이유\n",
    "    - 손글씨 분류 데이터의 target 데이터 클래스 간 분포를 확인한 결과, 균형이 있는 편이었다. 그래서 모델 성능 지표로 정확도를 선택했다.\n"
   ]
  },
  {
   "cell_type": "markdown",
   "id": "96339535-5b0e-40af-97b7-80a386072c10",
   "metadata": {},
   "source": [
    "## 2. 와인 데이터"
   ]
  },
  {
   "cell_type": "markdown",
   "id": "d3ec73fe-ec67-42c1-a591-8bfa6a61d059",
   "metadata": {},
   "source": [
    "### (1) 필요한 모듈 import하기\n"
   ]
  },
  {
   "cell_type": "code",
   "execution_count": 20,
   "id": "f784c9a0-e840-4780-9769-bec39041925b",
   "metadata": {},
   "outputs": [],
   "source": [
    "from sklearn.datasets import load_wine\n",
    "from sklearn.model_selection import train_test_split\n",
    "from sklearn.metrics import classification_report"
   ]
  },
  {
   "cell_type": "markdown",
   "id": "8e68843d-b18e-4579-9174-87243638588a",
   "metadata": {},
   "source": [
    "### (2) 데이터 준비"
   ]
  },
  {
   "cell_type": "code",
   "execution_count": 21,
   "id": "19c13ebf-437b-442b-b74b-0fdfee8e3aad",
   "metadata": {},
   "outputs": [],
   "source": [
    "wines = load_wine()"
   ]
  },
  {
   "cell_type": "markdown",
   "id": "46d181f1-9307-461a-a6a8-3eb05af23415",
   "metadata": {},
   "source": [
    "### (3) 데이터 이해하기\n"
   ]
  },
  {
   "cell_type": "code",
   "execution_count": 22,
   "id": "273fe297-f813-4669-9dc9-5672a23f8b5a",
   "metadata": {},
   "outputs": [
    {
     "data": {
      "text/plain": [
       "dict_keys(['data', 'target', 'frame', 'target_names', 'DESCR', 'feature_names'])"
      ]
     },
     "execution_count": 22,
     "metadata": {},
     "output_type": "execute_result"
    }
   ],
   "source": [
    "wines.keys()"
   ]
  },
  {
   "cell_type": "code",
   "execution_count": 23,
   "id": "87149d70-0f9e-494e-8e56-37ad36b95fd0",
   "metadata": {},
   "outputs": [],
   "source": [
    "wines_f = wines.data\n",
    "wines_t = wines.target\n",
    "wines_n = wines.target_names"
   ]
  },
  {
   "cell_type": "code",
   "execution_count": 24,
   "id": "d06fcedd-23ff-4aa7-bd65-ba1d4a78a47c",
   "metadata": {},
   "outputs": [
    {
     "data": {
      "text/plain": [
       "array(['class_0', 'class_1', 'class_2'], dtype='<U7')"
      ]
     },
     "execution_count": 24,
     "metadata": {},
     "output_type": "execute_result"
    }
   ],
   "source": [
    "wines_n"
   ]
  },
  {
   "cell_type": "code",
   "execution_count": 25,
   "id": "12cdb83f-3048-4e0a-906b-53c41e1d0fd5",
   "metadata": {},
   "outputs": [
    {
     "name": "stdout",
     "output_type": "stream",
     "text": [
      "178 178 3\n"
     ]
    }
   ],
   "source": [
    "print(len(wines_f), len(wines_t), len(wines_n))"
   ]
  },
  {
   "cell_type": "code",
   "execution_count": 26,
   "id": "31dd0461-2d72-4cfc-b753-90178e53e0b0",
   "metadata": {},
   "outputs": [
    {
     "data": {
      "text/html": [
       "<div>\n",
       "<style scoped>\n",
       "    .dataframe tbody tr th:only-of-type {\n",
       "        vertical-align: middle;\n",
       "    }\n",
       "\n",
       "    .dataframe tbody tr th {\n",
       "        vertical-align: top;\n",
       "    }\n",
       "\n",
       "    .dataframe thead th {\n",
       "        text-align: right;\n",
       "    }\n",
       "</style>\n",
       "<table border=\"1\" class=\"dataframe\">\n",
       "  <thead>\n",
       "    <tr style=\"text-align: right;\">\n",
       "      <th></th>\n",
       "      <th>alcohol</th>\n",
       "      <th>malic_acid</th>\n",
       "      <th>ash</th>\n",
       "      <th>alcalinity_of_ash</th>\n",
       "      <th>magnesium</th>\n",
       "      <th>total_phenols</th>\n",
       "      <th>flavanoids</th>\n",
       "      <th>nonflavanoid_phenols</th>\n",
       "      <th>proanthocyanins</th>\n",
       "      <th>color_intensity</th>\n",
       "      <th>hue</th>\n",
       "      <th>od280/od315_of_diluted_wines</th>\n",
       "      <th>proline</th>\n",
       "    </tr>\n",
       "  </thead>\n",
       "  <tbody>\n",
       "    <tr>\n",
       "      <th>0</th>\n",
       "      <td>14.23</td>\n",
       "      <td>1.71</td>\n",
       "      <td>2.43</td>\n",
       "      <td>15.6</td>\n",
       "      <td>127.0</td>\n",
       "      <td>2.80</td>\n",
       "      <td>3.06</td>\n",
       "      <td>0.28</td>\n",
       "      <td>2.29</td>\n",
       "      <td>5.64</td>\n",
       "      <td>1.04</td>\n",
       "      <td>3.92</td>\n",
       "      <td>1065.0</td>\n",
       "    </tr>\n",
       "    <tr>\n",
       "      <th>1</th>\n",
       "      <td>13.20</td>\n",
       "      <td>1.78</td>\n",
       "      <td>2.14</td>\n",
       "      <td>11.2</td>\n",
       "      <td>100.0</td>\n",
       "      <td>2.65</td>\n",
       "      <td>2.76</td>\n",
       "      <td>0.26</td>\n",
       "      <td>1.28</td>\n",
       "      <td>4.38</td>\n",
       "      <td>1.05</td>\n",
       "      <td>3.40</td>\n",
       "      <td>1050.0</td>\n",
       "    </tr>\n",
       "    <tr>\n",
       "      <th>2</th>\n",
       "      <td>13.16</td>\n",
       "      <td>2.36</td>\n",
       "      <td>2.67</td>\n",
       "      <td>18.6</td>\n",
       "      <td>101.0</td>\n",
       "      <td>2.80</td>\n",
       "      <td>3.24</td>\n",
       "      <td>0.30</td>\n",
       "      <td>2.81</td>\n",
       "      <td>5.68</td>\n",
       "      <td>1.03</td>\n",
       "      <td>3.17</td>\n",
       "      <td>1185.0</td>\n",
       "    </tr>\n",
       "    <tr>\n",
       "      <th>3</th>\n",
       "      <td>14.37</td>\n",
       "      <td>1.95</td>\n",
       "      <td>2.50</td>\n",
       "      <td>16.8</td>\n",
       "      <td>113.0</td>\n",
       "      <td>3.85</td>\n",
       "      <td>3.49</td>\n",
       "      <td>0.24</td>\n",
       "      <td>2.18</td>\n",
       "      <td>7.80</td>\n",
       "      <td>0.86</td>\n",
       "      <td>3.45</td>\n",
       "      <td>1480.0</td>\n",
       "    </tr>\n",
       "    <tr>\n",
       "      <th>4</th>\n",
       "      <td>13.24</td>\n",
       "      <td>2.59</td>\n",
       "      <td>2.87</td>\n",
       "      <td>21.0</td>\n",
       "      <td>118.0</td>\n",
       "      <td>2.80</td>\n",
       "      <td>2.69</td>\n",
       "      <td>0.39</td>\n",
       "      <td>1.82</td>\n",
       "      <td>4.32</td>\n",
       "      <td>1.04</td>\n",
       "      <td>2.93</td>\n",
       "      <td>735.0</td>\n",
       "    </tr>\n",
       "  </tbody>\n",
       "</table>\n",
       "</div>"
      ],
      "text/plain": [
       "   alcohol  malic_acid   ash  alcalinity_of_ash  magnesium  total_phenols  \\\n",
       "0    14.23        1.71  2.43               15.6      127.0           2.80   \n",
       "1    13.20        1.78  2.14               11.2      100.0           2.65   \n",
       "2    13.16        2.36  2.67               18.6      101.0           2.80   \n",
       "3    14.37        1.95  2.50               16.8      113.0           3.85   \n",
       "4    13.24        2.59  2.87               21.0      118.0           2.80   \n",
       "\n",
       "   flavanoids  nonflavanoid_phenols  proanthocyanins  color_intensity   hue  \\\n",
       "0        3.06                  0.28             2.29             5.64  1.04   \n",
       "1        2.76                  0.26             1.28             4.38  1.05   \n",
       "2        3.24                  0.30             2.81             5.68  1.03   \n",
       "3        3.49                  0.24             2.18             7.80  0.86   \n",
       "4        2.69                  0.39             1.82             4.32  1.04   \n",
       "\n",
       "   od280/od315_of_diluted_wines  proline  \n",
       "0                          3.92   1065.0  \n",
       "1                          3.40   1050.0  \n",
       "2                          3.17   1185.0  \n",
       "3                          3.45   1480.0  \n",
       "4                          2.93    735.0  "
      ]
     },
     "execution_count": 26,
     "metadata": {},
     "output_type": "execute_result"
    }
   ],
   "source": [
    "df_wines = pd.DataFrame(data = wines_f, columns =  wines.feature_names)\n",
    "df_wines.head()"
   ]
  },
  {
   "cell_type": "code",
   "execution_count": 27,
   "id": "bac075be-4946-4557-bf29-e4392122f30f",
   "metadata": {},
   "outputs": [
    {
     "data": {
      "text/plain": [
       "array([59, 71, 48])"
      ]
     },
     "execution_count": 27,
     "metadata": {},
     "output_type": "execute_result"
    }
   ],
   "source": [
    "# target 데이터 각 클래스 샘플 수 출력\n",
    "w_class_counts = np.bincount(wines.target)\n",
    "w_class_counts"
   ]
  },
  {
   "cell_type": "markdown",
   "id": "5c5ef888-54a4-4c6e-bf9b-cfd36b9b4c17",
   "metadata": {},
   "source": [
    "### (4) train, test 데이터 분리"
   ]
  },
  {
   "cell_type": "code",
   "execution_count": 28,
   "id": "d3d4ed37-db80-417f-a680-475945dd6ab3",
   "metadata": {},
   "outputs": [],
   "source": [
    "X_train, X_test, y_train, y_test = train_test_split(\n",
    "    wines_f, wines_t, test_size=0.2, random_state=7)"
   ]
  },
  {
   "cell_type": "code",
   "execution_count": 29,
   "id": "1d23e3ea-87c2-46f6-ba1d-44138a923973",
   "metadata": {},
   "outputs": [
    {
     "name": "stdout",
     "output_type": "stream",
     "text": [
      "(142, 13) (36, 13) (142,) (36,)\n"
     ]
    }
   ],
   "source": [
    "print(X_train.shape, X_test.shape, y_train.shape, y_test.shape)"
   ]
  },
  {
   "cell_type": "markdown",
   "id": "5848b8fa-ee95-441a-aa14-f7f5c9461999",
   "metadata": {},
   "source": [
    "### (5) 다양한 모델로 학습시켜보기\n"
   ]
  },
  {
   "cell_type": "markdown",
   "id": "1468b23d-fe88-4f99-b6ec-77cdba8b84c8",
   "metadata": {},
   "source": [
    "#### Decision Tree 사용해 보기"
   ]
  },
  {
   "cell_type": "code",
   "execution_count": 30,
   "id": "c0c3ed54-bda7-49ba-bd3f-36c56987071d",
   "metadata": {},
   "outputs": [
    {
     "name": "stdout",
     "output_type": "stream",
     "text": [
      "              precision    recall  f1-score   support\n",
      "\n",
      "           0       1.00      1.00      1.00         7\n",
      "           1       0.89      1.00      0.94        17\n",
      "           2       1.00      0.83      0.91        12\n",
      "\n",
      "    accuracy                           0.94        36\n",
      "   macro avg       0.96      0.94      0.95        36\n",
      "weighted avg       0.95      0.94      0.94        36\n",
      "\n"
     ]
    }
   ],
   "source": [
    "decision_tree = DecisionTreeClassifier(random_state=32)\n",
    "\n",
    "decision_tree.fit(X_train, y_train)\n",
    "decision_y_predict = decision_tree.predict(X_test)\n",
    "\n",
    "print(classification_report(y_test, decision_y_predict))"
   ]
  },
  {
   "cell_type": "markdown",
   "id": "79404900-f7b5-43c0-a6f8-0e7ca8b3dd08",
   "metadata": {},
   "source": [
    "#### Random Forest 사용해보기"
   ]
  },
  {
   "cell_type": "code",
   "execution_count": 31,
   "id": "18015625-4095-4942-8ee6-eabdf56e8182",
   "metadata": {},
   "outputs": [
    {
     "name": "stdout",
     "output_type": "stream",
     "text": [
      "              precision    recall  f1-score   support\n",
      "\n",
      "           0       1.00      1.00      1.00         7\n",
      "           1       1.00      1.00      1.00        17\n",
      "           2       1.00      1.00      1.00        12\n",
      "\n",
      "    accuracy                           1.00        36\n",
      "   macro avg       1.00      1.00      1.00        36\n",
      "weighted avg       1.00      1.00      1.00        36\n",
      "\n"
     ]
    }
   ],
   "source": [
    "random_forest = RandomForestClassifier(random_state=32)\n",
    "\n",
    "random_forest.fit(X_train, y_train)\n",
    "random_forest_y_predict = random_forest.predict(X_test)\n",
    "\n",
    "print(classification_report(y_test, random_forest_y_predict))"
   ]
  },
  {
   "cell_type": "markdown",
   "id": "7d5c0b10-1e45-40e1-9bb7-db9148611743",
   "metadata": {},
   "source": [
    "#### SVM 사용해 보기"
   ]
  },
  {
   "cell_type": "code",
   "execution_count": 32,
   "id": "494406e8-3898-4c6e-b2db-1030b2c0a4c2",
   "metadata": {},
   "outputs": [
    {
     "name": "stdout",
     "output_type": "stream",
     "text": [
      "              precision    recall  f1-score   support\n",
      "\n",
      "           0       0.86      0.86      0.86         7\n",
      "           1       0.58      0.88      0.70        17\n",
      "           2       0.33      0.08      0.13        12\n",
      "\n",
      "    accuracy                           0.61        36\n",
      "   macro avg       0.59      0.61      0.56        36\n",
      "weighted avg       0.55      0.61      0.54        36\n",
      "\n"
     ]
    }
   ],
   "source": [
    "svm_model = svm.SVC(random_state=32)\n",
    "\n",
    "svm_model.fit(X_train, y_train)\n",
    "svm_model_y_predict = svm_model.predict(X_test)\n",
    "\n",
    "print(classification_report(y_test, svm_model_y_predict))"
   ]
  },
  {
   "cell_type": "markdown",
   "id": "fdb1638c-271e-4ce0-8d4d-317584b21bf9",
   "metadata": {},
   "source": [
    "#### SGD Classifier 사용해 보기"
   ]
  },
  {
   "cell_type": "code",
   "execution_count": 33,
   "id": "46291ff1-0d0c-4a9e-81f9-de5289feabf2",
   "metadata": {},
   "outputs": [
    {
     "name": "stdout",
     "output_type": "stream",
     "text": [
      "              precision    recall  f1-score   support\n",
      "\n",
      "           0       0.78      1.00      0.88         7\n",
      "           1       0.59      0.94      0.73        17\n",
      "           2       0.00      0.00      0.00        12\n",
      "\n",
      "    accuracy                           0.64        36\n",
      "   macro avg       0.46      0.65      0.53        36\n",
      "weighted avg       0.43      0.64      0.51        36\n",
      "\n"
     ]
    }
   ],
   "source": [
    "sgd_model = SGDClassifier(random_state=32)\n",
    "\n",
    "sgd_model.fit(X_train, y_train)\n",
    "sgd_model_y_predict = sgd_model.predict(X_test)\n",
    "\n",
    "print(classification_report(y_test, sgd_model_y_predict))"
   ]
  },
  {
   "cell_type": "markdown",
   "id": "7b8c4f4b-a011-44e5-8a2e-cd721878e099",
   "metadata": {},
   "source": [
    "#### Logistic Regression 사용해 보기"
   ]
  },
  {
   "cell_type": "code",
   "execution_count": 34,
   "id": "188a7600-25be-4169-87d5-45ff2e19327e",
   "metadata": {},
   "outputs": [
    {
     "name": "stdout",
     "output_type": "stream",
     "text": [
      "              precision    recall  f1-score   support\n",
      "\n",
      "           0       1.00      0.86      0.92         7\n",
      "           1       0.94      1.00      0.97        17\n",
      "           2       1.00      1.00      1.00        12\n",
      "\n",
      "    accuracy                           0.97        36\n",
      "   macro avg       0.98      0.95      0.96        36\n",
      "weighted avg       0.97      0.97      0.97        36\n",
      "\n"
     ]
    }
   ],
   "source": [
    "lr_model = LogisticRegression(random_state=32)\n",
    "\n",
    "lr_model.fit(X_train, y_train)\n",
    "lr_model_y_predict = lr_model.predict(X_test)\n",
    "\n",
    "print(classification_report(y_test, lr_model_y_predict))"
   ]
  },
  {
   "cell_type": "markdown",
   "id": "2ac9f253-c0a1-4425-a3e8-24cd4a49c454",
   "metadata": {},
   "source": [
    "### (6) 모델을 평가해 보기"
   ]
  },
  {
   "cell_type": "code",
   "execution_count": 35,
   "id": "8783a5b6-8e89-4b50-9cb2-49aae9720098",
   "metadata": {},
   "outputs": [
    {
     "data": {
      "image/png": "[encoded data removed]",
      "text/plain": [
       "<Figure size 1000x600 with 1 Axes>"
      ]
     },
     "metadata": {},
     "output_type": "display_data"
    }
   ],
   "source": [
    "# 각 모델 학습 및 정확도 측정\n",
    "models = [decision_tree, random_forest, svm_model, sgd_model, lr_model]\n",
    "model_names = [\"Decision Tree\", \"Random Forest\", \"SVM\", \"SGD\", \"Logistic Regression\"]\n",
    "wine_f1 = [] # 정확도 저장 리스트 생성\n",
    "\n",
    "for model, name in zip(models, model_names):\n",
    "    model.fit(X_train, y_train) # 학습\n",
    "    y_pred = model.predict(X_test) # 예측\n",
    "    report = classification_report(y_test, y_pred, output_dict = True)\n",
    "    wine_f1_score = report['weighted avg']['f1-score'] # f1-score\n",
    "    wine_f1.append(wine_f1_score) # f1-score 추가\n",
    "    \n",
    "# 정확도 시각화\n",
    "plt.figure(figsize=(10, 6))\n",
    "plt.plot(model_names, wine_f1, marker='o', linestyle='-', markersize=8)\n",
    "plt.xlabel('Model')\n",
    "plt.ylabel('F1-Score')\n",
    "plt.title('Model F1-Score Comparison')\n",
    "plt.grid(True) # 그리드 표시\n",
    "plt.ylim(0, 1.0)\n",
    "plt.xticks(rotation=45)\n",
    "plt.tight_layout()\n",
    "plt.show()"
   ]
  },
  {
   "cell_type": "markdown",
   "id": "6f88b19b-7bde-422a-95f9-88e617785c43",
   "metadata": {},
   "source": [
    "1. 해석\n",
    "> wine 데이터의 target 데이터 클래스 간 분포를 확인한 결과, 클래스가 불균형한 편이었다.\n",
    "> Precision 와 Recall 모두 높게 나온 것으로 보아, 다섯개의 모델 모두 예측을 잘 한것으로 보인다.\n",
    "> \n",
    "2. 선택한 평가지표: f1-score\n",
    "3. 이유\n",
    "    - f1-score는 1에 가까울수록 모델이 매우 우수한 성능을 보임을 의미한다. 시각화 결과, f1-score가 가장 높은 모델은 Random Forest 이다.\n"
   ]
  },
  {
   "cell_type": "markdown",
   "id": "e09ca08c-1e33-48a7-b0a6-28783e9a76d9",
   "metadata": {},
   "source": [
    "## 3. 유방암 데이터"
   ]
  },
  {
   "cell_type": "markdown",
   "id": "540eaa4e-cae8-4e31-8c5b-a885125fbbeb",
   "metadata": {},
   "source": [
    "### (1) 필요한 모듈 import하기"
   ]
  },
  {
   "cell_type": "code",
   "execution_count": 36,
   "id": "8cafea5c-021c-42d9-95a9-214810b2a0b0",
   "metadata": {},
   "outputs": [],
   "source": [
    "from sklearn.datasets import load_breast_cancer"
   ]
  },
  {
   "cell_type": "markdown",
   "id": "6c8e9554-5cbb-49a1-8842-f87777ec3db1",
   "metadata": {},
   "source": [
    "### (2) 데이터 준비"
   ]
  },
  {
   "cell_type": "code",
   "execution_count": 37,
   "id": "0c4579ee-91f3-4df4-a771-a0b64bf51c7d",
   "metadata": {},
   "outputs": [],
   "source": [
    "breast_cancer = load_breast_cancer()"
   ]
  },
  {
   "cell_type": "markdown",
   "id": "fe240bf2-d751-40cf-96ae-98c5b752e7b3",
   "metadata": {},
   "source": [
    "### (3) 데이터 이해하기"
   ]
  },
  {
   "cell_type": "code",
   "execution_count": 38,
   "id": "5a6a6016-ff8f-44d9-a60d-bb783e7105e9",
   "metadata": {},
   "outputs": [
    {
     "data": {
      "text/plain": [
       "dict_keys(['data', 'target', 'frame', 'target_names', 'DESCR', 'feature_names', 'filename', 'data_module'])"
      ]
     },
     "execution_count": 38,
     "metadata": {},
     "output_type": "execute_result"
    }
   ],
   "source": [
    "breast_cancer.keys()"
   ]
  },
  {
   "cell_type": "code",
   "execution_count": 39,
   "id": "ebca30b2-9f8f-4101-8bd5-6c72ff685dd8",
   "metadata": {},
   "outputs": [],
   "source": [
    "breast_cancer_f = breast_cancer.data\n",
    "breast_cancer_t = breast_cancer.target\n",
    "breast_cancer_n = breast_cancer.target_names"
   ]
  },
  {
   "cell_type": "code",
   "execution_count": 40,
   "id": "ef635ecc-c774-4a02-b27a-ebb31f9bde40",
   "metadata": {},
   "outputs": [
    {
     "data": {
      "text/plain": [
       "array(['malignant', 'benign'], dtype='<U9')"
      ]
     },
     "execution_count": 40,
     "metadata": {},
     "output_type": "execute_result"
    }
   ],
   "source": [
    "breast_cancer_n"
   ]
  },
  {
   "cell_type": "code",
   "execution_count": 41,
   "id": "dbc417b9-3403-4dad-82e2-0ad5a9c2aa34",
   "metadata": {},
   "outputs": [
    {
     "name": "stdout",
     "output_type": "stream",
     "text": [
      "569 569 2\n"
     ]
    }
   ],
   "source": [
    "print(len(breast_cancer_f), len(breast_cancer_t), len(breast_cancer_n))"
   ]
  },
  {
   "cell_type": "code",
   "execution_count": 42,
   "id": "ea1cd049-b72c-4109-86af-e20af2caf565",
   "metadata": {},
   "outputs": [
    {
     "name": "stdout",
     "output_type": "stream",
     "text": [
      ".. _breast_cancer_dataset:\n",
      "\n",
      "Breast cancer wisconsin (diagnostic) dataset\n",
      "--------------------------------------------\n",
      "\n",
      "**Data Set Characteristics:**\n",
      "\n",
      "    :Number of Instances: 569\n",
      "\n",
      "    :Number of Attributes: 30 numeric, predictive attributes and the class\n",
      "\n",
      "    :Attribute Information:\n",
      "        - radius (mean of distances from center to points on the perimeter)\n",
      "        - texture (standard deviation of gray-scale values)\n",
      "        - perimeter\n",
      "        - area\n",
      "        - smoothness (local variation in radius lengths)\n",
      "        - compactness (perimeter^2 / area - 1.0)\n",
      "        - concavity (severity of concave portions of the contour)\n",
      "        - concave points (number of concave portions of the contour)\n",
      "        - symmetry\n",
      "        - fractal dimension (\"coastline approximation\" - 1)\n",
      "\n",
      "        The mean, standard error, and \"worst\" or largest (mean of the three\n",
      "        worst/largest values) of these features were computed for each image,\n",
      "        resulting in 30 features.  For instance, field 0 is Mean Radius, field\n",
      "        10 is Radius SE, field 20 is Worst Radius.\n",
      "\n",
      "        - class:\n",
      "                - WDBC-Malignant\n",
      "                - WDBC-Benign\n",
      "\n",
      "    :Summary Statistics:\n",
      "\n",
      "    ===================================== ====== ======\n",
      "                                           Min    Max\n",
      "    ===================================== ====== ======\n",
      "    radius (mean):                        6.981  28.11\n",
      "    texture (mean):                       9.71   39.28\n",
      "    perimeter (mean):                     43.79  188.5\n",
      "    area (mean):                          143.5  2501.0\n",
      "    smoothness (mean):                    0.053  0.163\n",
      "    compactness (mean):                   0.019  0.345\n",
      "    concavity (mean):                     0.0    0.427\n",
      "    concave points (mean):                0.0    0.201\n",
      "    symmetry (mean):                      0.106  0.304\n",
      "    fractal dimension (mean):             0.05   0.097\n",
      "    radius (standard error):              0.112  2.873\n",
      "    texture (standard error):             0.36   4.885\n",
      "    perimeter (standard error):           0.757  21.98\n",
      "    area (standard error):                6.802  542.2\n",
      "    smoothness (standard error):          0.002  0.031\n",
      "    compactness (standard error):         0.002  0.135\n",
      "    concavity (standard error):           0.0    0.396\n",
      "    concave points (standard error):      0.0    0.053\n",
      "    symmetry (standard error):            0.008  0.079\n",
      "    fractal dimension (standard error):   0.001  0.03\n",
      "    radius (worst):                       7.93   36.04\n",
      "    texture (worst):                      12.02  49.54\n",
      "    perimeter (worst):                    50.41  251.2\n",
      "    area (worst):                         185.2  4254.0\n",
      "    smoothness (worst):                   0.071  0.223\n",
      "    compactness (worst):                  0.027  1.058\n",
      "    concavity (worst):                    0.0    1.252\n",
      "    concave points (worst):               0.0    0.291\n",
      "    symmetry (worst):                     0.156  0.664\n",
      "    fractal dimension (worst):            0.055  0.208\n",
      "    ===================================== ====== ======\n",
      "\n",
      "    :Missing Attribute Values: None\n",
      "\n",
      "    :Class Distribution: 212 - Malignant, 357 - Benign\n",
      "\n",
      "    :Creator:  Dr. William H. Wolberg, W. Nick Street, Olvi L. Mangasarian\n",
      "\n",
      "    :Donor: Nick Street\n",
      "\n",
      "    :Date: November, 1995\n",
      "\n",
      "This is a copy of UCI ML Breast Cancer Wisconsin (Diagnostic) datasets.\n",
      "https://goo.gl/U2Uwz2\n",
      "\n",
      "Features are computed from a digitized image of a fine needle\n",
      "aspirate (FNA) of a breast mass.  They describe\n",
      "characteristics of the cell nuclei present in the image.\n",
      "\n",
      "Separating plane described above was obtained using\n",
      "Multisurface Method-Tree (MSM-T) [K. P. Bennett, \"Decision Tree\n",
      "Construction Via Linear Programming.\" Proceedings of the 4th\n",
      "Midwest Artificial Intelligence and Cognitive Science Society,\n",
      "pp. 97-101, 1992], a classification method which uses linear\n",
      "programming to construct a decision tree.  Relevant features\n",
      "were selected using an exhaustive search in the space of 1-4\n",
      "features and 1-3 separating planes.\n",
      "\n",
      "The actual linear program used to obtain the separating plane\n",
      "in the 3-dimensional space is that described in:\n",
      "[K. P. Bennett and O. L. Mangasarian: \"Robust Linear\n",
      "Programming Discrimination of Two Linearly Inseparable Sets\",\n",
      "Optimization Methods and Software 1, 1992, 23-34].\n",
      "\n",
      "This database is also available through the UW CS ftp server:\n",
      "\n",
      "ftp ftp.cs.wisc.edu\n",
      "cd math-prog/cpo-dataset/machine-learn/WDBC/\n",
      "\n",
      ".. topic:: References\n",
      "\n",
      "   - W.N. Street, W.H. Wolberg and O.L. Mangasarian. Nuclear feature extraction \n",
      "     for breast tumor diagnosis. IS&T/SPIE 1993 International Symposium on \n",
      "     Electronic Imaging: Science and Technology, volume 1905, pages 861-870,\n",
      "     San Jose, CA, 1993.\n",
      "   - O.L. Mangasarian, W.N. Street and W.H. Wolberg. Breast cancer diagnosis and \n",
      "     prognosis via linear programming. Operations Research, 43(4), pages 570-577, \n",
      "     July-August 1995.\n",
      "   - W.H. Wolberg, W.N. Street, and O.L. Mangasarian. Machine learning techniques\n",
      "     to diagnose breast cancer from fine-needle aspirates. Cancer Letters 77 (1994) \n",
      "     163-171.\n"
     ]
    }
   ],
   "source": [
    "print(breast_cancer.DESCR)"
   ]
  },
  {
   "cell_type": "code",
   "execution_count": 43,
   "id": "8530c686-7499-4b7f-b0ce-bf4f7984f7e1",
   "metadata": {},
   "outputs": [
    {
     "data": {
      "text/plain": [
       "array([212, 357])"
      ]
     },
     "execution_count": 43,
     "metadata": {},
     "output_type": "execute_result"
    }
   ],
   "source": [
    "# target 데이터 각 클래스 샘플 수 출력\n",
    "bc_class_counts = np.bincount(breast_cancer.target)\n",
    "bc_class_counts"
   ]
  },
  {
   "cell_type": "markdown",
   "id": "a61a9955-acbe-4616-a99b-031cf14253f0",
   "metadata": {},
   "source": [
    "### (4) train, test 데이터 분리"
   ]
  },
  {
   "cell_type": "code",
   "execution_count": 44,
   "id": "778ddf6d-4727-4c20-a9ee-cb6de6016929",
   "metadata": {},
   "outputs": [],
   "source": [
    "X_train, X_test, y_train, y_test = train_test_split(\n",
    "    breast_cancer_f, breast_cancer_t, test_size=0.2, random_state=7)"
   ]
  },
  {
   "cell_type": "code",
   "execution_count": 45,
   "id": "86b6b1d4-81cf-4d2e-9ffb-c42e164911ad",
   "metadata": {},
   "outputs": [
    {
     "name": "stdout",
     "output_type": "stream",
     "text": [
      "(455, 30) (114, 30) (455,) (114,)\n"
     ]
    }
   ],
   "source": [
    "print(X_train.shape, X_test.shape, y_train.shape, y_test.shape)"
   ]
  },
  {
   "cell_type": "markdown",
   "id": "a0ec6cd8-4e28-4c69-8a8f-75a5f2e67096",
   "metadata": {},
   "source": [
    "### (5) 다양한 모델로 학습시켜보기"
   ]
  },
  {
   "cell_type": "markdown",
   "id": "fd5c65b5-de5a-4f9b-bfd8-976b84132428",
   "metadata": {},
   "source": [
    "#### Decision Tree 사용해 보기"
   ]
  },
  {
   "cell_type": "code",
   "execution_count": 46,
   "id": "f9a18a19-f11e-40e1-997b-e1c17383d0f3",
   "metadata": {},
   "outputs": [
    {
     "name": "stdout",
     "output_type": "stream",
     "text": [
      "              precision    recall  f1-score   support\n",
      "\n",
      "           0       0.92      0.82      0.87        40\n",
      "           1       0.91      0.96      0.93        74\n",
      "\n",
      "    accuracy                           0.91       114\n",
      "   macro avg       0.91      0.89      0.90       114\n",
      "weighted avg       0.91      0.91      0.91       114\n",
      "\n"
     ]
    }
   ],
   "source": [
    "decision_tree = DecisionTreeClassifier(random_state=32)\n",
    "\n",
    "decision_tree.fit(X_train, y_train)\n",
    "decision_y_predict = decision_tree.predict(X_test)\n",
    "\n",
    "print(classification_report(y_test, decision_y_predict))"
   ]
  },
  {
   "cell_type": "markdown",
   "id": "2d602cf9-4dcf-4c61-b355-a2c86d1f3d18",
   "metadata": {},
   "source": [
    "#### Random Forest 사용해보기"
   ]
  },
  {
   "cell_type": "code",
   "execution_count": 47,
   "id": "e8f552a8-3887-4eed-b01f-25a28e849fb4",
   "metadata": {},
   "outputs": [
    {
     "name": "stdout",
     "output_type": "stream",
     "text": [
      "              precision    recall  f1-score   support\n",
      "\n",
      "           0       1.00      1.00      1.00        40\n",
      "           1       1.00      1.00      1.00        74\n",
      "\n",
      "    accuracy                           1.00       114\n",
      "   macro avg       1.00      1.00      1.00       114\n",
      "weighted avg       1.00      1.00      1.00       114\n",
      "\n"
     ]
    }
   ],
   "source": [
    "random_forest = RandomForestClassifier(random_state=32)\n",
    "\n",
    "random_forest.fit(X_train, y_train)\n",
    "random_forest_y_predict = random_forest.predict(X_test)\n",
    "\n",
    "print(classification_report(y_test, random_forest_y_predict))"
   ]
  },
  {
   "cell_type": "markdown",
   "id": "5087a838-d2ed-441a-9a13-1d09c67f08da",
   "metadata": {},
   "source": [
    "#### SVM 사용해 보기"
   ]
  },
  {
   "cell_type": "code",
   "execution_count": 48,
   "id": "48e58090-713a-4a06-9277-f31bdb5e0681",
   "metadata": {},
   "outputs": [
    {
     "name": "stdout",
     "output_type": "stream",
     "text": [
      "              precision    recall  f1-score   support\n",
      "\n",
      "           0       1.00      0.72      0.84        40\n",
      "           1       0.87      1.00      0.93        74\n",
      "\n",
      "    accuracy                           0.90       114\n",
      "   macro avg       0.94      0.86      0.89       114\n",
      "weighted avg       0.92      0.90      0.90       114\n",
      "\n"
     ]
    }
   ],
   "source": [
    "svm_model = svm.SVC(random_state=32)\n",
    "\n",
    "svm_model.fit(X_train, y_train)\n",
    "svm_model_y_predict = svm_model.predict(X_test)\n",
    "\n",
    "print(classification_report(y_test, svm_model_y_predict))"
   ]
  },
  {
   "cell_type": "markdown",
   "id": "e5cb93bb-e608-4d9c-ad17-d980adce6e83",
   "metadata": {},
   "source": [
    "#### SGD Classifier 사용해 보기"
   ]
  },
  {
   "cell_type": "code",
   "execution_count": 49,
   "id": "ebbaa0ca-68d6-4ce3-a1e4-f988a53dde1e",
   "metadata": {},
   "outputs": [
    {
     "name": "stdout",
     "output_type": "stream",
     "text": [
      "              precision    recall  f1-score   support\n",
      "\n",
      "           0       1.00      0.70      0.82        40\n",
      "           1       0.86      1.00      0.92        74\n",
      "\n",
      "    accuracy                           0.89       114\n",
      "   macro avg       0.93      0.85      0.87       114\n",
      "weighted avg       0.91      0.89      0.89       114\n",
      "\n"
     ]
    }
   ],
   "source": [
    "sgd_model = SGDClassifier(random_state=32)\n",
    "\n",
    "sgd_model.fit(X_train, y_train)\n",
    "sgd_model_y_predict = sgd_model.predict(X_test)\n",
    "\n",
    "print(classification_report(y_test, sgd_model_y_predict))"
   ]
  },
  {
   "cell_type": "markdown",
   "id": "6bad46b9-4dee-46a1-a7e4-d1aef3bd7aa4",
   "metadata": {},
   "source": [
    "#### Logistic Regression 사용해 보기"
   ]
  },
  {
   "cell_type": "code",
   "execution_count": 50,
   "id": "2c6f438e-4075-4024-83a2-43b7e0077ea7",
   "metadata": {},
   "outputs": [
    {
     "name": "stdout",
     "output_type": "stream",
     "text": [
      "              precision    recall  f1-score   support\n",
      "\n",
      "           0       1.00      0.85      0.92        40\n",
      "           1       0.93      1.00      0.96        74\n",
      "\n",
      "    accuracy                           0.95       114\n",
      "   macro avg       0.96      0.93      0.94       114\n",
      "weighted avg       0.95      0.95      0.95       114\n",
      "\n"
     ]
    }
   ],
   "source": [
    "lr_model = LogisticRegression(random_state=32)\n",
    "\n",
    "lr_model.fit(X_train, y_train)\n",
    "lr_model_y_predict = lr_model.predict(X_test)\n",
    "\n",
    "print(classification_report(y_test, lr_model_y_predict))"
   ]
  },
  {
   "cell_type": "markdown",
   "id": "b2dfde82-c4ec-47ce-a41f-4f2f4464ce03",
   "metadata": {},
   "source": [
    "### (6) 모델을 평가해 보기"
   ]
  },
  {
   "cell_type": "code",
   "execution_count": 51,
   "id": "372c6daf-a774-4b63-b106-ee5f3b02764a",
   "metadata": {},
   "outputs": [
    {
     "data": {
      "image/png": "[encoded data removed]",
      "text/plain": [
       "<Figure size 1000x600 with 1 Axes>"
      ]
     },
     "metadata": {},
     "output_type": "display_data"
    }
   ],
   "source": [
    "# 각 모델 학습 및 정확도 측정\n",
    "models = [decision_tree, random_forest, svm_model, sgd_model, lr_model]\n",
    "model_names = [\"Decision Tree\", \"Random Forest\", \"SVM\", \"SGD\", \"Logistic Regression\"]\n",
    "cancer_f1 = [] # f1-score 저장 리스트 생성\n",
    "\n",
    "for model, name in zip(models, model_names):\n",
    "    model.fit(X_train, y_train) # 학습\n",
    "    y_pred = model.predict(X_test) # 예측\n",
    "    report = classification_report(y_test, y_pred, output_dict = True)\n",
    "    cancer_f1_score = report['weighted avg']['f1-score'] # f1-score\n",
    "    cancer_f1.append(cancer_f1_score) # f1-score 추가\n",
    "    \n",
    "# 정확도 시각화\n",
    "plt.figure(figsize=(10, 6))\n",
    "plt.plot(model_names, cancer_f1, marker='o', linestyle='-', markersize=8)\n",
    "plt.xlabel('Model')\n",
    "plt.ylabel('F1-Score')\n",
    "plt.title('Model F1-Score Comparison')\n",
    "plt.grid(True) # 그리드 표시\n",
    "plt.ylim(0, 1.0)\n",
    "plt.xticks(rotation=45)\n",
    "plt.tight_layout()\n",
    "plt.show()"
   ]
  },
  {
   "cell_type": "markdown",
   "id": "0e0c7193-90a6-42dd-bf26-3ec8a8eb9c57",
   "metadata": {},
   "source": [
    "1. 해석\n",
    "> 유방암 데이터의 target 데이터 클래스 간 분포를 확인한 결과, 클래스가 불균형한 편이었다.\n",
    "> Precision 와 Recall 모두 높게 나온 것으로 보아, 다섯개의 모델 모두 예측을 잘 한것으로 보인다.\n",
    "> \n",
    "2. 선택한 평가지표: f1-score\n",
    "3. 이유\n",
    "    - f1-score는 1에 가까울수록 모델이 매우 우수한 성능을 보임을 의미한다. 시각화 결과, f1-score가 가장 높은 모델은 Random Forest 이다.\n"
   ]
  },
  {
   "cell_type": "markdown",
   "id": "c591424d-39c2-468c-ab86-fd98a5baf82a",
   "metadata": {},
   "source": [
    "## 회고 - 김민지\n",
    "### 어려웠던 점 / 느낀점\r\n",
    "> - 이번 프로젝트는 여러 데이터에 다양한 분류 모델을 각각 적용시키고 모델 성능을 평가했다. 프로젝트를 하면서서 크게 어려웠던 점은 없었으나, 모델 성능을 평가할 때 사용할 지표를 선택하는 것이 조금 어려웠다. 특히, 오차 행렬에서 예측 결과를 네 가지로 구분하는데 각각 개념을 완벽하게 이해하고 암기하려고 하는 점이 살짝 힘들었다. 하지만 모델 성능 평가는 가장 중요하기 때문에 해당 내용은 완벽하게 숙지를 해야할 것 같다.  \r\n",
    "\r\n",
    "\r\n",
    "### 학습한 내용\r\n",
    "> - 평소에 Random Forest 모델을 자주 사용했었는데, 이번 프로젝트를 통해 그 외에 다양한 분류 모델을 사용해봤다. 각 모델이 어떤 원리로 동작하는지 완전히 알지는 못하지만 Random Forest 모델이 대체적으로 우수한 성능을 보이는 것을 확인했다. 그래서 예전에 이런 글을 봤는데.. 'Random Forest는 빈 깡통 모델이어도 성능이 괜찮다'라는 말에 공감이 갔다.\r\n",
    "> - 데이터 분석의 마지막 단계(?)인 모델링 단계의 전체적인 흐름을 파악할 수 있었다. 모델을 돌리기 위해 데이터를 어떻게 준비하는지부터 모델 성능을 평가하는지 까지의 코드 흐름을 파악하는 데 도움이 많이 됐다. 어떤 데이터를 사용하든, 어떤 모델을 사용하든 그 흐름은 비슷하다는 것을 깨달았다. 여기서 달라진다면... 하이퍼 파라미터 튜닝이나 교차 검증 등을 추가할 수 있을 것 같다."
   ]
  },
  {
   "cell_type": "markdown",
   "id": "aa014d9c-fdb6-4387-8687-7c80125fb2ad",
   "metadata": {},
   "source": [
    "## 회고 - 허지은 \n",
    "\n",
    "## 프로젝트에서 배운점과 느낀점\n",
    "> 분류모델에 대해 자세히 알 수 있었다.\n",
    "> sklearn을 사용해서 간단한 모델들을 만들어 볼수 있었다.\n",
    "> Decision Tree, Random Forest, SVM, SGD, Logistic regression을 사용할 수 있게 되었다. \n",
    "    > Decision Tree : 의사결정 나무로 범주나 연속형 수치 모두 예측할 수 있음, 예측값의 종류는 terminal노드의 갯수와 동일 \n",
    "    > Random Forest :  Decision Tree를 여러개 합쳐놓은 것(앙상블 기법), Decision Tree의 단점을 보완할 수 있음 \n",
    "> 다양한 지표들을 확인하여 평가지표를 선택할 수 있다.\n",
    "    > precision : 음성인데 양성이라고 판단한 경우.\n",
    "    > recall : 양성인데 음성이라고 판단한 경우.\n",
    "    > recall과 precision의 값을 합친것이 F1 score.\n",
    "\n",
    "## 오류해결과정\n",
    "> Logistic Regression모델을 학습시키던 중 경고문이 떠서 max_iter를 사용해 반복횟수를 정해주었다. 정해진 반복수가 충분하지 않을 경우에 clasifier_report를 작성할때 경고문이 뜰수 있기때문에 충분한 반복수를 설정해 줘야 한다. \n",
    "> wine data에서 random forest의 정확도가 1.0으로 나오는 경우를 확인했다. 오버피팅의 우려가 있어 다른 random state로 변경해 보았지만 SGD의 정확도가 0.75이상이 되면 random state의 정확도가 1.0으로 나오는것을 확인했다.\n",
    "\n",
    "## 아쉬운점이나 더 적용하고 싶은 점 \n",
    "> SVM, SGD, Logiscit Regression은 모델이 어떻게 동작하는지 정확히 파악하지 못하고 작성한 것이 아쉽다.\n",
    "> 순도를 확인하는 엔트로피와 지니계수에 대해 알아보지 못한것이 아쉬웠다. \n"
   ]
  },
  {
   "cell_type": "markdown",
   "id": "b4794a3e-380d-48b2-9434-63e574f23b6f",
   "metadata": {},
   "source": [
    "## 회고 - 이동원\n",
    "### 어려웠던 점 / 느낀점\n",
    "> - 이번 프로젝트는 여러 데이터에 다양한 분류 모델을 각각 적용시키고 모델 성능을 평가했다. 프로젝트를 하면서서 크게 어려웠던 점은 없었다. 오히려 석사 과정 1학기때 날림으로 배웠던 내용들을 다시 되돌아보는 시간을 거칠 수 있어서 너무 좋았습니다. 그리고 무엇보다도 팀원분들이 너무나도 잘 도와주셔서 무사히 잘 마무리 할 수 있었습니다.\n",
    "\n",
    "\n",
    "### 학습한 내용\n",
    "> - 드디어 Random Forest의 개념을 완벽하게 설명할 수 있게되었습니다."
   ]
  },
  {
   "cell_type": "markdown",
   "id": "43d02f46-032f-47fe-b313-cd752a277997",
   "metadata": {},
   "source": [
    "## 참고\r\n",
    "- https://blog.naver.com/fbfbf1/222453580598"
   ]
  }
 ],
 "metadata": {
  "kernelspec": {
   "display_name": "Python 3 (ipykernel)",
   "language": "python",
   "name": "python3"
  },
  "language_info": {
   "codemirror_mode": {
    "name": "ipython",
    "version": 3
   },
   "file_extension": ".py",
   "mimetype": "text/x-python",
   "name": "python",
   "nbconvert_exporter": "python",
   "pygments_lexer": "ipython3",
   "version": "3.11.4"
  }
 },
 "nbformat": 4,
 "nbformat_minor": 5
}
