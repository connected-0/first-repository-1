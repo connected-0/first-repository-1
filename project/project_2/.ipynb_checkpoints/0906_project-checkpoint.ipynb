{
 "cells": [
  {
   "cell_type": "code",
   "execution_count": 1,
   "id": "bc463d96",
   "metadata": {},
   "outputs": [
    {
     "name": "stdout",
     "output_type": "stream",
     "text": [
      "1.0\n"
     ]
    }
   ],
   "source": [
    "# 버전 확인\n",
    "import sklearn\n",
    "\n",
    "print(sklearn.__version__)"
   ]
  },
  {
   "cell_type": "markdown",
   "id": "17b6ecb4",
   "metadata": {},
   "source": [
    "## 프로젝트 1 : 손글씨 분류"
   ]
  },
  {
   "cell_type": "markdown",
   "id": "72e22fb0",
   "metadata": {},
   "source": [
    "### 라이브러리 호출"
   ]
  },
  {
   "cell_type": "code",
   "execution_count": 96,
   "id": "10af6cf7",
   "metadata": {},
   "outputs": [],
   "source": [
    "import pandas as pd\n",
    "import numpy as np\n",
    "import matplotlib.pyplot as plt\n",
    "import seaborn\n",
    "\n",
    "from sklearn.datasets import load_digits\n",
    "from sklearn.model_selection import train_test_split\n",
    "from sklearn.metrics import classification_report\n",
    "from sklearn.metrics import accuracy_score\n",
    "\n",
    "from sklearn.tree import DecisionTreeClassifier \n",
    "from sklearn.ensemble import RandomForestClassifier\n",
    "from sklearn import svm\n",
    "from sklearn.linear_model import SGDClassifier\n",
    "from sklearn.linear_model import LogisticRegression\n",
    "\n",
    "import warnings\n",
    "warnings.filterwarnings(\"ignore\")"
   ]
  },
  {
   "cell_type": "markdown",
   "id": "c8633612",
   "metadata": {},
   "source": [
    "### 데이터 준비"
   ]
  },
  {
   "cell_type": "code",
   "execution_count": 97,
   "id": "6010be96",
   "metadata": {},
   "outputs": [],
   "source": [
    "digits = load_digits()"
   ]
  },
  {
   "cell_type": "markdown",
   "id": "2162451f",
   "metadata": {},
   "source": [
    "### 데이터 이해하기"
   ]
  },
  {
   "cell_type": "code",
   "execution_count": 98,
   "id": "49e08258",
   "metadata": {},
   "outputs": [],
   "source": [
    "# Feature / Label Data 지정\n",
    "digits_data = digits.data\n",
    "digits_label = digits.target"
   ]
  },
  {
   "cell_type": "code",
   "execution_count": 99,
   "id": "4feb7e95",
   "metadata": {},
   "outputs": [
    {
     "data": {
      "text/plain": [
       "array([0, 1, 2, 3, 4, 5, 6, 7, 8, 9])"
      ]
     },
     "execution_count": 99,
     "metadata": {},
     "output_type": "execute_result"
    }
   ],
   "source": [
    "# Target Names 출력\n",
    "digits.target_names"
   ]
  },
  {
   "cell_type": "code",
   "execution_count": 100,
   "id": "c43f9abf",
   "metadata": {},
   "outputs": [
    {
     "data": {
      "text/plain": [
       "array([178, 182, 177, 183, 181, 182, 181, 179, 174, 180])"
      ]
     },
     "execution_count": 100,
     "metadata": {},
     "output_type": "execute_result"
    }
   ],
   "source": [
    "# target 데이터 각 클래스 샘플 수 출력\n",
    "class_counts = np.bincount(digits.target)\n",
    "class_counts"
   ]
  },
  {
   "cell_type": "markdown",
   "id": "b5a046b7",
   "metadata": {},
   "source": [
    "target 데이터는 0, 1, 2, 3, 4, 5, 6, 7, 8, 9로 이루어져 있고, 각 클래스별 샘플 수는 균형적으로 분포되어 있는 편이다. 따라서, 추후 모델 성능 평가를 진행할 때 정확도(Accuracy)를 사용해도 될 것 같다."
   ]
  },
  {
   "cell_type": "code",
   "execution_count": 101,
   "id": "63d6b6b5",
   "metadata": {},
   "outputs": [
    {
     "name": "stdout",
     "output_type": "stream",
     "text": [
      ".. _digits_dataset:\n",
      "\n",
      "Optical recognition of handwritten digits dataset\n",
      "--------------------------------------------------\n",
      "\n",
      "**Data Set Characteristics:**\n",
      "\n",
      "    :Number of Instances: 1797\n",
      "    :Number of Attributes: 64\n",
      "    :Attribute Information: 8x8 image of integer pixels in the range 0..16.\n",
      "    :Missing Attribute Values: None\n",
      "    :Creator: E. Alpaydin (alpaydin '@' boun.edu.tr)\n",
      "    :Date: July; 1998\n",
      "\n",
      "This is a copy of the test set of the UCI ML hand-written digits datasets\n",
      "https://archive.ics.uci.edu/ml/datasets/Optical+Recognition+of+Handwritten+Digits\n",
      "\n",
      "The data set contains images of hand-written digits: 10 classes where\n",
      "each class refers to a digit.\n",
      "\n",
      "Preprocessing programs made available by NIST were used to extract\n",
      "normalized bitmaps of handwritten digits from a preprinted form. From a\n",
      "total of 43 people, 30 contributed to the training set and different 13\n",
      "to the test set. 32x32 bitmaps are divided into nonoverlapping blocks of\n",
      "4x4 and the number of on pixels are counted in each block. This generates\n",
      "an input matrix of 8x8 where each element is an integer in the range\n",
      "0..16. This reduces dimensionality and gives invariance to small\n",
      "distortions.\n",
      "\n",
      "For info on NIST preprocessing routines, see M. D. Garris, J. L. Blue, G.\n",
      "T. Candela, D. L. Dimmick, J. Geist, P. J. Grother, S. A. Janet, and C.\n",
      "L. Wilson, NIST Form-Based Handprint Recognition System, NISTIR 5469,\n",
      "1994.\n",
      "\n",
      ".. topic:: References\n",
      "\n",
      "  - C. Kaynak (1995) Methods of Combining Multiple Classifiers and Their\n",
      "    Applications to Handwritten Digit Recognition, MSc Thesis, Institute of\n",
      "    Graduate Studies in Science and Engineering, Bogazici University.\n",
      "  - E. Alpaydin, C. Kaynak (1998) Cascading Classifiers, Kybernetika.\n",
      "  - Ken Tang and Ponnuthurai N. Suganthan and Xi Yao and A. Kai Qin.\n",
      "    Linear dimensionalityreduction using relevance weighted LDA. School of\n",
      "    Electrical and Electronic Engineering Nanyang Technological University.\n",
      "    2005.\n",
      "  - Claudio Gentile. A New Approximate Maximal Margin Classification\n",
      "    Algorithm. NIPS. 2000.\n",
      "\n"
     ]
    }
   ],
   "source": [
    "# 데이터 Describe\n",
    "print(digits.DESCR)"
   ]
  },
  {
   "cell_type": "markdown",
   "id": "bda6bf9e",
   "metadata": {},
   "source": [
    "### train/test 데이터 분리"
   ]
  },
  {
   "cell_type": "code",
   "execution_count": 102,
   "id": "c2ab809a",
   "metadata": {},
   "outputs": [],
   "source": [
    "X_train, X_test, y_train, y_test = train_test_split(digits_data, # train data\n",
    "                                                    digits_label, # test data\n",
    "                                                    test_size=0.2, # train/test 비율 8:2\n",
    "                                                    random_state=7) # 데이터 섞기"
   ]
  },
  {
   "cell_type": "code",
   "execution_count": 103,
   "id": "aef61410",
   "metadata": {},
   "outputs": [
    {
     "name": "stdout",
     "output_type": "stream",
     "text": [
      "(1437, 64) (360, 64) (1437,) (360,)\n"
     ]
    }
   ],
   "source": [
    "# 각 데이터 형태 확인\n",
    "print(X_train.shape, X_test.shape, y_train.shape, y_test.shape)"
   ]
  },
  {
   "cell_type": "markdown",
   "id": "5ddb8523",
   "metadata": {},
   "source": [
    "### 다양한 모델 학습"
   ]
  },
  {
   "cell_type": "markdown",
   "id": "cf285942",
   "metadata": {},
   "source": [
    "- Decision Tree"
   ]
  },
  {
   "cell_type": "code",
   "execution_count": 104,
   "id": "754bbb67",
   "metadata": {},
   "outputs": [
    {
     "name": "stdout",
     "output_type": "stream",
     "text": [
      "              precision    recall  f1-score   support\n",
      "\n",
      "           0       1.00      0.98      0.99        43\n",
      "           1       0.81      0.81      0.81        42\n",
      "           2       0.79      0.82      0.80        40\n",
      "           3       0.79      0.91      0.85        34\n",
      "           4       0.83      0.95      0.89        37\n",
      "           5       0.90      0.96      0.93        28\n",
      "           6       0.84      0.93      0.88        28\n",
      "           7       0.96      0.82      0.89        33\n",
      "           8       0.88      0.65      0.75        43\n",
      "           9       0.78      0.78      0.78        32\n",
      "\n",
      "    accuracy                           0.86       360\n",
      "   macro avg       0.86      0.86      0.86       360\n",
      "weighted avg       0.86      0.86      0.85       360\n",
      "\n"
     ]
    }
   ],
   "source": [
    "decision_tree = DecisionTreeClassifier(random_state=32) # 모델 생성\n",
    "decision_tree.fit(X_train, y_train) # 훈련\n",
    "dt_y_pred = decision_tree.predict(X_test) # 예측\n",
    "\n",
    "print(classification_report(y_test, dt_y_pred)) # 결과 지표 확인"
   ]
  },
  {
   "cell_type": "markdown",
   "id": "1fbb0557",
   "metadata": {},
   "source": [
    "- Random Forest"
   ]
  },
  {
   "cell_type": "code",
   "execution_count": 105,
   "id": "b5f524be",
   "metadata": {},
   "outputs": [
    {
     "name": "stdout",
     "output_type": "stream",
     "text": [
      "              precision    recall  f1-score   support\n",
      "\n",
      "           0       1.00      0.98      0.99        43\n",
      "           1       0.93      1.00      0.97        42\n",
      "           2       1.00      1.00      1.00        40\n",
      "           3       1.00      1.00      1.00        34\n",
      "           4       0.93      1.00      0.96        37\n",
      "           5       0.90      0.96      0.93        28\n",
      "           6       1.00      0.96      0.98        28\n",
      "           7       0.94      0.97      0.96        33\n",
      "           8       1.00      0.84      0.91        43\n",
      "           9       0.94      0.94      0.94        32\n",
      "\n",
      "    accuracy                           0.96       360\n",
      "   macro avg       0.96      0.96      0.96       360\n",
      "weighted avg       0.97      0.96      0.96       360\n",
      "\n"
     ]
    }
   ],
   "source": [
    "random_forest = RandomForestClassifier(random_state=32) # 모델 생성\n",
    "random_forest.fit(X_train, y_train) # 훈련\n",
    "rf_y_pred = random_forest.predict(X_test) # 예측\n",
    "\n",
    "print(classification_report(y_test, rf_y_pred)) # 결과 지표 확인"
   ]
  },
  {
   "cell_type": "markdown",
   "id": "19421940",
   "metadata": {},
   "source": [
    "- SVM"
   ]
  },
  {
   "cell_type": "code",
   "execution_count": 106,
   "id": "33ed4e13",
   "metadata": {},
   "outputs": [
    {
     "name": "stdout",
     "output_type": "stream",
     "text": [
      "              precision    recall  f1-score   support\n",
      "\n",
      "           0       1.00      1.00      1.00        43\n",
      "           1       0.95      1.00      0.98        42\n",
      "           2       1.00      1.00      1.00        40\n",
      "           3       1.00      1.00      1.00        34\n",
      "           4       1.00      1.00      1.00        37\n",
      "           5       0.93      1.00      0.97        28\n",
      "           6       1.00      1.00      1.00        28\n",
      "           7       1.00      1.00      1.00        33\n",
      "           8       1.00      0.93      0.96        43\n",
      "           9       1.00      0.97      0.98        32\n",
      "\n",
      "    accuracy                           0.99       360\n",
      "   macro avg       0.99      0.99      0.99       360\n",
      "weighted avg       0.99      0.99      0.99       360\n",
      "\n"
     ]
    }
   ],
   "source": [
    "svm_model = svm.SVC() # 모델 생성\n",
    "svm_model.fit(X_train, y_train) # 훈련\n",
    "svm_y_pred = svm_model.predict(X_test) # 예측\n",
    "\n",
    "print(classification_report(y_test, svm_y_pred)) # 결과 지표 확인"
   ]
  },
  {
   "cell_type": "markdown",
   "id": "4de87368",
   "metadata": {},
   "source": [
    "- SGD Classifier"
   ]
  },
  {
   "cell_type": "code",
   "execution_count": 107,
   "id": "995f7f36",
   "metadata": {},
   "outputs": [
    {
     "name": "stdout",
     "output_type": "stream",
     "text": [
      "              precision    recall  f1-score   support\n",
      "\n",
      "           0       1.00      1.00      1.00        43\n",
      "           1       0.94      0.79      0.86        42\n",
      "           2       1.00      1.00      1.00        40\n",
      "           3       0.94      0.88      0.91        34\n",
      "           4       0.92      0.97      0.95        37\n",
      "           5       0.93      0.96      0.95        28\n",
      "           6       0.96      0.89      0.93        28\n",
      "           7       0.97      0.88      0.92        33\n",
      "           8       0.78      0.93      0.85        43\n",
      "           9       0.89      0.97      0.93        32\n",
      "\n",
      "    accuracy                           0.93       360\n",
      "   macro avg       0.93      0.93      0.93       360\n",
      "weighted avg       0.93      0.93      0.93       360\n",
      "\n"
     ]
    }
   ],
   "source": [
    "sgd_model = SGDClassifier() # 모델 생성\n",
    "sgd_model.fit(X_train, y_train) # 훈련\n",
    "sgd_y_pred = sgd_model.predict(X_test) # 예측\n",
    "\n",
    "print(classification_report(y_test, sgd_y_pred)) # 결과 지표 확인"
   ]
  },
  {
   "cell_type": "markdown",
   "id": "960f0b79",
   "metadata": {},
   "source": [
    "- Logistic Regression"
   ]
  },
  {
   "cell_type": "code",
   "execution_count": 108,
   "id": "60acba2d",
   "metadata": {},
   "outputs": [
    {
     "name": "stdout",
     "output_type": "stream",
     "text": [
      "              precision    recall  f1-score   support\n",
      "\n",
      "           0       1.00      1.00      1.00        43\n",
      "           1       0.95      0.95      0.95        42\n",
      "           2       0.98      1.00      0.99        40\n",
      "           3       0.94      0.97      0.96        34\n",
      "           4       0.97      1.00      0.99        37\n",
      "           5       0.82      0.96      0.89        28\n",
      "           6       1.00      0.96      0.98        28\n",
      "           7       0.97      0.97      0.97        33\n",
      "           8       0.92      0.81      0.86        43\n",
      "           9       0.97      0.91      0.94        32\n",
      "\n",
      "    accuracy                           0.95       360\n",
      "   macro avg       0.95      0.95      0.95       360\n",
      "weighted avg       0.95      0.95      0.95       360\n",
      "\n"
     ]
    }
   ],
   "source": [
    "logistic_model = LogisticRegression() # 모델 생성\n",
    "logistic_model.fit(X_train, y_train) # 훈련\n",
    "lr_y_pred = logistic_model.predict(X_test) # 예측\n",
    "\n",
    "print(classification_report(y_test, lr_y_pred)) # 결과 지표 확인"
   ]
  },
  {
   "cell_type": "markdown",
   "id": "64f1763a",
   "metadata": {},
   "source": [
    "### 모델 평가"
   ]
  },
  {
   "cell_type": "markdown",
   "id": "9a3e2b4b",
   "metadata": {},
   "source": [
    "학습된 모델들의 테스트데이터 예측 결과를 어떻게 해석해야 할까요? 모델의 성능을 평가하는 지표로는 무엇이 좋을까요? sklearn.metrics 에서 제공하는 평가지표 중 적절한 것을 선택해 보세요. 선택하신 이유도 설명해 주세요."
   ]
  },
  {
   "cell_type": "code",
   "execution_count": 109,
   "id": "c6d369eb",
   "metadata": {},
   "outputs": [
    {
     "data": {
      "image/png": "[encoded data removed]",
      "text/plain": [
       "<Figure size 720x432 with 1 Axes>"
      ]
     },
     "metadata": {
      "needs_background": "light"
     },
     "output_type": "display_data"
    }
   ],
   "source": [
    "# 각 모델 학습 및 정확도 측정\n",
    "models = [decision_tree, random_forest, svm_model, sgd_model, logistic_model]\n",
    "model_names = [\"Decision Tree\", \"Random Forest\", \"SVM\", \"SGD\", \"Logistic Regression\"]\n",
    "digits_accuracies = [] # 정확도 저장 리스트 생성\n",
    "\n",
    "for model, name in zip(models, model_names):\n",
    "    model.fit(X_train, y_train) # 학습\n",
    "    y_pred = model.predict(X_test) # 예측\n",
    "    accuracy = accuracy_score(y_test, y_pred) # 정확도 계산\n",
    "    digits_accuracies.append(accuracy) # 정확도 추가\n",
    "    \n",
    "# 정확도 시각화\n",
    "plt.figure(figsize=(10, 6))\n",
    "plt.plot(model_names, digits_accuracies, marker='o', linestyle='-', markersize=8)\n",
    "plt.xlabel('Model')\n",
    "plt.ylabel('Accuracy')\n",
    "plt.title('Model Accuracy Comparison')\n",
    "plt.grid(True) # 그리드 표시\n",
    "plt.ylim(0, 1.0)\n",
    "plt.xticks(rotation=45)\n",
    "plt.tight_layout()\n",
    "plt.show()"
   ]
  },
  {
   "cell_type": "markdown",
   "id": "16849622",
   "metadata": {},
   "source": [
    "손글씨 분류 데이터의 target 데이터 클래스 간 분포를 확인한 결과, 균형이 있는 편이었다. 그래서 모델 성능 지표로 정확도를 선택했다. 각 모델 별 정확도를 시각화한 결과, SVM 모델의 정확도가 가장 높게 나타났다. "
   ]
  },
  {
   "cell_type": "markdown",
   "id": "874bbede",
   "metadata": {},
   "source": [
    "## 프로젝트 2 : 와인 분류"
   ]
  },
  {
   "cell_type": "markdown",
   "id": "02bcdbfd",
   "metadata": {},
   "source": [
    "### 라이브러리 호출"
   ]
  },
  {
   "cell_type": "code",
   "execution_count": 110,
   "id": "50d435ba",
   "metadata": {},
   "outputs": [],
   "source": [
    "# 다른 라이브러리는 첫 줄에서 호출했으므로 생략\n",
    "from sklearn.datasets import load_wine"
   ]
  },
  {
   "cell_type": "markdown",
   "id": "f0bc3425",
   "metadata": {},
   "source": [
    "### 데이터 준비"
   ]
  },
  {
   "cell_type": "code",
   "execution_count": 111,
   "id": "808c451f",
   "metadata": {},
   "outputs": [],
   "source": [
    "wine = load_wine()"
   ]
  },
  {
   "cell_type": "markdown",
   "id": "60037e3d",
   "metadata": {},
   "source": [
    "### 데이터 이해하기"
   ]
  },
  {
   "cell_type": "code",
   "execution_count": 112,
   "id": "2b03e3aa",
   "metadata": {},
   "outputs": [],
   "source": [
    "# Feature / Label Data 지정\n",
    "wine_data = wine.data\n",
    "wine_label = wine.target"
   ]
  },
  {
   "cell_type": "code",
   "execution_count": 113,
   "id": "c9c6eca3",
   "metadata": {},
   "outputs": [
    {
     "data": {
      "text/plain": [
       "array(['class_0', 'class_1', 'class_2'], dtype='<U7')"
      ]
     },
     "execution_count": 113,
     "metadata": {},
     "output_type": "execute_result"
    }
   ],
   "source": [
    "# Target Names 출력\n",
    "wine.target_names"
   ]
  },
  {
   "cell_type": "code",
   "execution_count": 114,
   "id": "d59d2105",
   "metadata": {},
   "outputs": [
    {
     "data": {
      "text/plain": [
       "array([59, 71, 48])"
      ]
     },
     "execution_count": 114,
     "metadata": {},
     "output_type": "execute_result"
    }
   ],
   "source": [
    "# target 데이터 각 클래스 샘플 수 출력\n",
    "class_counts = np.bincount(wine.target)\n",
    "class_counts"
   ]
  },
  {
   "cell_type": "markdown",
   "id": "e8e4c634",
   "metadata": {},
   "source": [
    "클래스 간의 분포가 약간 불균형한 것 같다. 이처럼 클래스 간의 불균형이 있는 경우 정확도보다는 정밀도(Precision)나 재현율(Recall) 또는 정밀도와 재현율의 조화 평균인 F1-Score 지표를 사용하는 것이 좋을 것 같다."
   ]
  },
  {
   "cell_type": "code",
   "execution_count": 115,
   "id": "2c30d26f",
   "metadata": {},
   "outputs": [
    {
     "name": "stdout",
     "output_type": "stream",
     "text": [
      ".. _digits_dataset:\n",
      "\n",
      "Optical recognition of handwritten digits dataset\n",
      "--------------------------------------------------\n",
      "\n",
      "**Data Set Characteristics:**\n",
      "\n",
      "    :Number of Instances: 1797\n",
      "    :Number of Attributes: 64\n",
      "    :Attribute Information: 8x8 image of integer pixels in the range 0..16.\n",
      "    :Missing Attribute Values: None\n",
      "    :Creator: E. Alpaydin (alpaydin '@' boun.edu.tr)\n",
      "    :Date: July; 1998\n",
      "\n",
      "This is a copy of the test set of the UCI ML hand-written digits datasets\n",
      "https://archive.ics.uci.edu/ml/datasets/Optical+Recognition+of+Handwritten+Digits\n",
      "\n",
      "The data set contains images of hand-written digits: 10 classes where\n",
      "each class refers to a digit.\n",
      "\n",
      "Preprocessing programs made available by NIST were used to extract\n",
      "normalized bitmaps of handwritten digits from a preprinted form. From a\n",
      "total of 43 people, 30 contributed to the training set and different 13\n",
      "to the test set. 32x32 bitmaps are divided into nonoverlapping blocks of\n",
      "4x4 and the number of on pixels are counted in each block. This generates\n",
      "an input matrix of 8x8 where each element is an integer in the range\n",
      "0..16. This reduces dimensionality and gives invariance to small\n",
      "distortions.\n",
      "\n",
      "For info on NIST preprocessing routines, see M. D. Garris, J. L. Blue, G.\n",
      "T. Candela, D. L. Dimmick, J. Geist, P. J. Grother, S. A. Janet, and C.\n",
      "L. Wilson, NIST Form-Based Handprint Recognition System, NISTIR 5469,\n",
      "1994.\n",
      "\n",
      ".. topic:: References\n",
      "\n",
      "  - C. Kaynak (1995) Methods of Combining Multiple Classifiers and Their\n",
      "    Applications to Handwritten Digit Recognition, MSc Thesis, Institute of\n",
      "    Graduate Studies in Science and Engineering, Bogazici University.\n",
      "  - E. Alpaydin, C. Kaynak (1998) Cascading Classifiers, Kybernetika.\n",
      "  - Ken Tang and Ponnuthurai N. Suganthan and Xi Yao and A. Kai Qin.\n",
      "    Linear dimensionalityreduction using relevance weighted LDA. School of\n",
      "    Electrical and Electronic Engineering Nanyang Technological University.\n",
      "    2005.\n",
      "  - Claudio Gentile. A New Approximate Maximal Margin Classification\n",
      "    Algorithm. NIPS. 2000.\n",
      "\n"
     ]
    }
   ],
   "source": [
    "# 데이터 Describe\n",
    "print(digits.DESCR)"
   ]
  },
  {
   "cell_type": "markdown",
   "id": "335b9605",
   "metadata": {},
   "source": [
    "### train/test 데이터 분리"
   ]
  },
  {
   "cell_type": "code",
   "execution_count": 116,
   "id": "03ec46af",
   "metadata": {},
   "outputs": [],
   "source": [
    "X_train, X_test, y_train, y_test = train_test_split(wine_data, # train data\n",
    "                                                    wine_label, # test data\n",
    "                                                    test_size=0.2, # train/test 비율 8:2\n",
    "                                                    random_state=7) # 데이터 섞기"
   ]
  },
  {
   "cell_type": "code",
   "execution_count": 117,
   "id": "d0a1c72a",
   "metadata": {},
   "outputs": [
    {
     "name": "stdout",
     "output_type": "stream",
     "text": [
      "(142, 13) (36, 13) (142,) (36,)\n"
     ]
    }
   ],
   "source": [
    "# 각 데이터 형태 확인\n",
    "print(X_train.shape, X_test.shape, y_train.shape, y_test.shape)"
   ]
  },
  {
   "cell_type": "markdown",
   "id": "ae6c2333",
   "metadata": {},
   "source": [
    "### 다양한 모델 학습"
   ]
  },
  {
   "cell_type": "markdown",
   "id": "a96d4d4d",
   "metadata": {},
   "source": [
    "- Decision Tree"
   ]
  },
  {
   "cell_type": "code",
   "execution_count": 118,
   "id": "fffc7d09",
   "metadata": {},
   "outputs": [
    {
     "name": "stdout",
     "output_type": "stream",
     "text": [
      "              precision    recall  f1-score   support\n",
      "\n",
      "           0       1.00      1.00      1.00         7\n",
      "           1       0.89      1.00      0.94        17\n",
      "           2       1.00      0.83      0.91        12\n",
      "\n",
      "    accuracy                           0.94        36\n",
      "   macro avg       0.96      0.94      0.95        36\n",
      "weighted avg       0.95      0.94      0.94        36\n",
      "\n"
     ]
    }
   ],
   "source": [
    "decision_tree = DecisionTreeClassifier(random_state=32) # 모델 생성\n",
    "decision_tree.fit(X_train, y_train) # 훈련\n",
    "dt_y_pred = decision_tree.predict(X_test) # 예측\n",
    "\n",
    "print(classification_report(y_test, dt_y_pred)) # 결과 지표 확인"
   ]
  },
  {
   "cell_type": "markdown",
   "id": "571bdacc",
   "metadata": {},
   "source": [
    "- Random Forest"
   ]
  },
  {
   "cell_type": "code",
   "execution_count": 119,
   "id": "74a9f1a3",
   "metadata": {},
   "outputs": [
    {
     "name": "stdout",
     "output_type": "stream",
     "text": [
      "              precision    recall  f1-score   support\n",
      "\n",
      "           0       1.00      1.00      1.00         7\n",
      "           1       1.00      1.00      1.00        17\n",
      "           2       1.00      1.00      1.00        12\n",
      "\n",
      "    accuracy                           1.00        36\n",
      "   macro avg       1.00      1.00      1.00        36\n",
      "weighted avg       1.00      1.00      1.00        36\n",
      "\n"
     ]
    }
   ],
   "source": [
    "random_forest = RandomForestClassifier(random_state=32) # 모델 생성\n",
    "random_forest.fit(X_train, y_train) # 훈련\n",
    "rf_y_pred = random_forest.predict(X_test) # 예측\n",
    "\n",
    "print(classification_report(y_test, rf_y_pred)) # 결과 지표 확인"
   ]
  },
  {
   "cell_type": "markdown",
   "id": "f03950dc",
   "metadata": {},
   "source": [
    "- SVM"
   ]
  },
  {
   "cell_type": "code",
   "execution_count": 120,
   "id": "93c4e50c",
   "metadata": {},
   "outputs": [
    {
     "name": "stdout",
     "output_type": "stream",
     "text": [
      "              precision    recall  f1-score   support\n",
      "\n",
      "           0       0.86      0.86      0.86         7\n",
      "           1       0.58      0.88      0.70        17\n",
      "           2       0.33      0.08      0.13        12\n",
      "\n",
      "    accuracy                           0.61        36\n",
      "   macro avg       0.59      0.61      0.56        36\n",
      "weighted avg       0.55      0.61      0.54        36\n",
      "\n"
     ]
    }
   ],
   "source": [
    "svm_model = svm.SVC() # 모델 생성\n",
    "svm_model.fit(X_train, y_train) # 훈련\n",
    "svm_y_pred = svm_model.predict(X_test) # 예측\n",
    "\n",
    "print(classification_report(y_test, svm_y_pred)) # 결과 지표 확인"
   ]
  },
  {
   "cell_type": "markdown",
   "id": "94c00d83",
   "metadata": {},
   "source": [
    "- SGD Classifier"
   ]
  },
  {
   "cell_type": "code",
   "execution_count": 121,
   "id": "a1d8c3ca",
   "metadata": {},
   "outputs": [
    {
     "name": "stdout",
     "output_type": "stream",
     "text": [
      "              precision    recall  f1-score   support\n",
      "\n",
      "           0       0.28      1.00      0.44         7\n",
      "           1       0.91      0.59      0.71        17\n",
      "           2       0.00      0.00      0.00        12\n",
      "\n",
      "    accuracy                           0.47        36\n",
      "   macro avg       0.40      0.53      0.38        36\n",
      "weighted avg       0.48      0.47      0.42        36\n",
      "\n"
     ]
    }
   ],
   "source": [
    "sgd_model = SGDClassifier() # 모델 생성\n",
    "sgd_model.fit(X_train, y_train) # 훈련\n",
    "sgd_y_pred = sgd_model.predict(X_test) # 예측\n",
    "\n",
    "print(classification_report(y_test, sgd_y_pred)) # 결과 지표 확인"
   ]
  },
  {
   "cell_type": "markdown",
   "id": "2879eb20",
   "metadata": {},
   "source": [
    "- Logistic Regression"
   ]
  },
  {
   "cell_type": "code",
   "execution_count": 122,
   "id": "a18290d9",
   "metadata": {},
   "outputs": [
    {
     "name": "stdout",
     "output_type": "stream",
     "text": [
      "              precision    recall  f1-score   support\n",
      "\n",
      "           0       1.00      0.86      0.92         7\n",
      "           1       0.94      1.00      0.97        17\n",
      "           2       1.00      1.00      1.00        12\n",
      "\n",
      "    accuracy                           0.97        36\n",
      "   macro avg       0.98      0.95      0.96        36\n",
      "weighted avg       0.97      0.97      0.97        36\n",
      "\n"
     ]
    }
   ],
   "source": [
    "logistic_model = LogisticRegression() # 모델 생성\n",
    "logistic_model.fit(X_train, y_train) # 훈련\n",
    "lr_y_pred = logistic_model.predict(X_test) # 예측\n",
    "\n",
    "print(classification_report(y_test, lr_y_pred)) # 결과 지표 확인"
   ]
  },
  {
   "cell_type": "markdown",
   "id": "fc303649",
   "metadata": {},
   "source": [
    "### 모델 평가"
   ]
  },
  {
   "cell_type": "markdown",
   "id": "b2496db4",
   "metadata": {},
   "source": [
    "학습된 모델들의 테스트데이터 예측 결과를 어떻게 해석해야 할까요? 모델의 성능을 평가하는 지표로는 무엇이 좋을까요? sklearn.metrics 에서 제공하는 평가지표 중 적절한 것을 선택해 보세요. 선택하신 이유도 설명해 주세요."
   ]
  },
  {
   "cell_type": "code",
   "execution_count": 123,
   "id": "76264e38",
   "metadata": {},
   "outputs": [
    {
     "data": {
      "image/png": "[encoded data removed]",
      "text/plain": [
       "<Figure size 720x432 with 1 Axes>"
      ]
     },
     "metadata": {
      "needs_background": "light"
     },
     "output_type": "display_data"
    }
   ],
   "source": [
    "# 각 모델 학습 및 정확도 측정\n",
    "models = [decision_tree, random_forest, svm_model, sgd_model, logistic_model]\n",
    "model_names = [\"Decision Tree\", \"Random Forest\", \"SVM\", \"SGD\", \"Logistic Regression\"]\n",
    "wine_f1 = [] # 정확도 저장 리스트 생성\n",
    "\n",
    "for model, name in zip(models, model_names):\n",
    "    model.fit(X_train, y_train) # 학습\n",
    "    y_pred = model.predict(X_test) # 예측\n",
    "    report = classification_report(y_test, y_pred, output_dict = True)\n",
    "    wine_f1_score = report['weighted avg']['f1-score']\n",
    "    wine_f1.append(wine_f1_score) # 정확도 추가\n",
    "    \n",
    "# 정확도 시각화\n",
    "plt.figure(figsize=(10, 6))\n",
    "plt.plot(model_names, wine_f1, marker='o', linestyle='-', markersize=8)\n",
    "plt.xlabel('Model')\n",
    "plt.ylabel('F1-Score')\n",
    "plt.title('Model F1-Score Comparison')\n",
    "plt.grid(True) # 그리드 표시\n",
    "plt.ylim(0, 1.0)\n",
    "plt.xticks(rotation=45)\n",
    "plt.tight_layout()\n",
    "plt.show()"
   ]
  },
  {
   "cell_type": "markdown",
   "id": "ba30dc7b",
   "metadata": {},
   "source": [
    "wine 데이터의 target 데이터 클래스 간 분포를 확인한 결과, 클래스가 불균형한 편이었다. 그래서 모델 성능 지표로 f1-score를 선택했다. f1-score는 1에 가까울수록 모델이 매우 우수한 성능을 보임을 의미한다. 시각화 결과, f1-score가 가장 높은 모델은 Random Forest 이다."
   ]
  },
  {
   "cell_type": "markdown",
   "id": "0eb525be",
   "metadata": {},
   "source": [
    "## 프로젝트 3 : 유방암 여부 진단"
   ]
  },
  {
   "cell_type": "markdown",
   "id": "be1db914",
   "metadata": {},
   "source": [
    "### 라이브러리 호출"
   ]
  },
  {
   "cell_type": "code",
   "execution_count": 124,
   "id": "04d9223c",
   "metadata": {},
   "outputs": [],
   "source": [
    "# 다른 라이브러리는 첫 줄에서 호출했으므로 생략\n",
    "from sklearn.datasets import load_breast_cancer"
   ]
  },
  {
   "cell_type": "markdown",
   "id": "f8410912",
   "metadata": {},
   "source": [
    "### 데이터 준비"
   ]
  },
  {
   "cell_type": "code",
   "execution_count": 125,
   "id": "10747274",
   "metadata": {},
   "outputs": [],
   "source": [
    "breast_cancer = load_breast_cancer()"
   ]
  },
  {
   "cell_type": "markdown",
   "id": "b9137ae1",
   "metadata": {},
   "source": [
    "### 데이터 이해하기"
   ]
  },
  {
   "cell_type": "code",
   "execution_count": 126,
   "id": "a8672afc",
   "metadata": {},
   "outputs": [],
   "source": [
    "# Feature / Label Data 지정\n",
    "breast_cancer_data = breast_cancer.data\n",
    "breast_cancer_label = breast_cancer.target"
   ]
  },
  {
   "cell_type": "code",
   "execution_count": 127,
   "id": "dbe0d428",
   "metadata": {},
   "outputs": [
    {
     "data": {
      "text/plain": [
       "array(['malignant', 'benign'], dtype='<U9')"
      ]
     },
     "execution_count": 127,
     "metadata": {},
     "output_type": "execute_result"
    }
   ],
   "source": [
    "# Target Names 출력\n",
    "breast_cancer.target_names"
   ]
  },
  {
   "cell_type": "code",
   "execution_count": 128,
   "id": "9e2f0227",
   "metadata": {},
   "outputs": [
    {
     "data": {
      "text/plain": [
       "array([212, 357])"
      ]
     },
     "execution_count": 128,
     "metadata": {},
     "output_type": "execute_result"
    }
   ],
   "source": [
    "# target 데이터 각 클래스 샘플 수 출력\n",
    "class_counts = np.bincount(breast_cancer.target)\n",
    "class_counts"
   ]
  },
  {
   "cell_type": "markdown",
   "id": "bea51f0c",
   "metadata": {},
   "source": [
    "클래스 간의 분포가 약간 불균형한 것 같다."
   ]
  },
  {
   "cell_type": "code",
   "execution_count": 129,
   "id": "51691bf8",
   "metadata": {
    "scrolled": false
   },
   "outputs": [
    {
     "name": "stdout",
     "output_type": "stream",
     "text": [
      ".. _breast_cancer_dataset:\n",
      "\n",
      "Breast cancer wisconsin (diagnostic) dataset\n",
      "--------------------------------------------\n",
      "\n",
      "**Data Set Characteristics:**\n",
      "\n",
      "    :Number of Instances: 569\n",
      "\n",
      "    :Number of Attributes: 30 numeric, predictive attributes and the class\n",
      "\n",
      "    :Attribute Information:\n",
      "        - radius (mean of distances from center to points on the perimeter)\n",
      "        - texture (standard deviation of gray-scale values)\n",
      "        - perimeter\n",
      "        - area\n",
      "        - smoothness (local variation in radius lengths)\n",
      "        - compactness (perimeter^2 / area - 1.0)\n",
      "        - concavity (severity of concave portions of the contour)\n",
      "        - concave points (number of concave portions of the contour)\n",
      "        - symmetry\n",
      "        - fractal dimension (\"coastline approximation\" - 1)\n",
      "\n",
      "        The mean, standard error, and \"worst\" or largest (mean of the three\n",
      "        worst/largest values) of these features were computed for each image,\n",
      "        resulting in 30 features.  For instance, field 0 is Mean Radius, field\n",
      "        10 is Radius SE, field 20 is Worst Radius.\n",
      "\n",
      "        - class:\n",
      "                - WDBC-Malignant\n",
      "                - WDBC-Benign\n",
      "\n",
      "    :Summary Statistics:\n",
      "\n",
      "    ===================================== ====== ======\n",
      "                                           Min    Max\n",
      "    ===================================== ====== ======\n",
      "    radius (mean):                        6.981  28.11\n",
      "    texture (mean):                       9.71   39.28\n",
      "    perimeter (mean):                     43.79  188.5\n",
      "    area (mean):                          143.5  2501.0\n",
      "    smoothness (mean):                    0.053  0.163\n",
      "    compactness (mean):                   0.019  0.345\n",
      "    concavity (mean):                     0.0    0.427\n",
      "    concave points (mean):                0.0    0.201\n",
      "    symmetry (mean):                      0.106  0.304\n",
      "    fractal dimension (mean):             0.05   0.097\n",
      "    radius (standard error):              0.112  2.873\n",
      "    texture (standard error):             0.36   4.885\n",
      "    perimeter (standard error):           0.757  21.98\n",
      "    area (standard error):                6.802  542.2\n",
      "    smoothness (standard error):          0.002  0.031\n",
      "    compactness (standard error):         0.002  0.135\n",
      "    concavity (standard error):           0.0    0.396\n",
      "    concave points (standard error):      0.0    0.053\n",
      "    symmetry (standard error):            0.008  0.079\n",
      "    fractal dimension (standard error):   0.001  0.03\n",
      "    radius (worst):                       7.93   36.04\n",
      "    texture (worst):                      12.02  49.54\n",
      "    perimeter (worst):                    50.41  251.2\n",
      "    area (worst):                         185.2  4254.0\n",
      "    smoothness (worst):                   0.071  0.223\n",
      "    compactness (worst):                  0.027  1.058\n",
      "    concavity (worst):                    0.0    1.252\n",
      "    concave points (worst):               0.0    0.291\n",
      "    symmetry (worst):                     0.156  0.664\n",
      "    fractal dimension (worst):            0.055  0.208\n",
      "    ===================================== ====== ======\n",
      "\n",
      "    :Missing Attribute Values: None\n",
      "\n",
      "    :Class Distribution: 212 - Malignant, 357 - Benign\n",
      "\n",
      "    :Creator:  Dr. William H. Wolberg, W. Nick Street, Olvi L. Mangasarian\n",
      "\n",
      "    :Donor: Nick Street\n",
      "\n",
      "    :Date: November, 1995\n",
      "\n",
      "This is a copy of UCI ML Breast Cancer Wisconsin (Diagnostic) datasets.\n",
      "https://goo.gl/U2Uwz2\n",
      "\n",
      "Features are computed from a digitized image of a fine needle\n",
      "aspirate (FNA) of a breast mass.  They describe\n",
      "characteristics of the cell nuclei present in the image.\n",
      "\n",
      "Separating plane described above was obtained using\n",
      "Multisurface Method-Tree (MSM-T) [K. P. Bennett, \"Decision Tree\n",
      "Construction Via Linear Programming.\" Proceedings of the 4th\n",
      "Midwest Artificial Intelligence and Cognitive Science Society,\n",
      "pp. 97-101, 1992], a classification method which uses linear\n",
      "programming to construct a decision tree.  Relevant features\n",
      "were selected using an exhaustive search in the space of 1-4\n",
      "features and 1-3 separating planes.\n",
      "\n",
      "The actual linear program used to obtain the separating plane\n",
      "in the 3-dimensional space is that described in:\n",
      "[K. P. Bennett and O. L. Mangasarian: \"Robust Linear\n",
      "Programming Discrimination of Two Linearly Inseparable Sets\",\n",
      "Optimization Methods and Software 1, 1992, 23-34].\n",
      "\n",
      "This database is also available through the UW CS ftp server:\n",
      "\n",
      "ftp ftp.cs.wisc.edu\n",
      "cd math-prog/cpo-dataset/machine-learn/WDBC/\n",
      "\n",
      ".. topic:: References\n",
      "\n",
      "   - W.N. Street, W.H. Wolberg and O.L. Mangasarian. Nuclear feature extraction \n",
      "     for breast tumor diagnosis. IS&T/SPIE 1993 International Symposium on \n",
      "     Electronic Imaging: Science and Technology, volume 1905, pages 861-870,\n",
      "     San Jose, CA, 1993.\n",
      "   - O.L. Mangasarian, W.N. Street and W.H. Wolberg. Breast cancer diagnosis and \n",
      "     prognosis via linear programming. Operations Research, 43(4), pages 570-577, \n",
      "     July-August 1995.\n",
      "   - W.H. Wolberg, W.N. Street, and O.L. Mangasarian. Machine learning techniques\n",
      "     to diagnose breast cancer from fine-needle aspirates. Cancer Letters 77 (1994) \n",
      "     163-171.\n"
     ]
    }
   ],
   "source": [
    "# 데이터 Describe\n",
    "print(breast_cancer.DESCR)"
   ]
  },
  {
   "cell_type": "markdown",
   "id": "1014382e",
   "metadata": {},
   "source": [
    "### train/test 데이터 분리"
   ]
  },
  {
   "cell_type": "code",
   "execution_count": 130,
   "id": "4a011ad7",
   "metadata": {},
   "outputs": [],
   "source": [
    "X_train, X_test, y_train, y_test = train_test_split(breast_cancer_data, # train data\n",
    "                                                    breast_cancer_label, # test data\n",
    "                                                    test_size=0.2, # train/test 비율 8:2\n",
    "                                                    random_state=7) # 데이터 섞기"
   ]
  },
  {
   "cell_type": "code",
   "execution_count": 131,
   "id": "f81f9669",
   "metadata": {},
   "outputs": [
    {
     "name": "stdout",
     "output_type": "stream",
     "text": [
      "(455, 30) (114, 30) (455,) (114,)\n"
     ]
    }
   ],
   "source": [
    "# 각 데이터 형태 확인\n",
    "print(X_train.shape, X_test.shape, y_train.shape, y_test.shape)"
   ]
  },
  {
   "cell_type": "markdown",
   "id": "650204ba",
   "metadata": {},
   "source": [
    "### 다양한 모델 학습"
   ]
  },
  {
   "cell_type": "markdown",
   "id": "32bf85db",
   "metadata": {},
   "source": [
    "- Decision Tree"
   ]
  },
  {
   "cell_type": "code",
   "execution_count": 132,
   "id": "a0685335",
   "metadata": {},
   "outputs": [
    {
     "name": "stdout",
     "output_type": "stream",
     "text": [
      "              precision    recall  f1-score   support\n",
      "\n",
      "           0       0.92      0.82      0.87        40\n",
      "           1       0.91      0.96      0.93        74\n",
      "\n",
      "    accuracy                           0.91       114\n",
      "   macro avg       0.91      0.89      0.90       114\n",
      "weighted avg       0.91      0.91      0.91       114\n",
      "\n"
     ]
    }
   ],
   "source": [
    "decision_tree = DecisionTreeClassifier(random_state=32) # 모델 생성\n",
    "decision_tree.fit(X_train, y_train) # 훈련\n",
    "dt_y_pred = decision_tree.predict(X_test) # 예측\n",
    "\n",
    "print(classification_report(y_test, dt_y_pred)) # 결과 지표 확인"
   ]
  },
  {
   "cell_type": "markdown",
   "id": "ddb00e54",
   "metadata": {},
   "source": [
    "- Random Forest"
   ]
  },
  {
   "cell_type": "code",
   "execution_count": 133,
   "id": "8364bd29",
   "metadata": {},
   "outputs": [
    {
     "name": "stdout",
     "output_type": "stream",
     "text": [
      "              precision    recall  f1-score   support\n",
      "\n",
      "           0       1.00      1.00      1.00        40\n",
      "           1       1.00      1.00      1.00        74\n",
      "\n",
      "    accuracy                           1.00       114\n",
      "   macro avg       1.00      1.00      1.00       114\n",
      "weighted avg       1.00      1.00      1.00       114\n",
      "\n"
     ]
    }
   ],
   "source": [
    "random_forest = RandomForestClassifier(random_state=32) # 모델 생성\n",
    "random_forest.fit(X_train, y_train) # 훈련\n",
    "rf_y_pred = random_forest.predict(X_test) # 예측\n",
    "\n",
    "print(classification_report(y_test, rf_y_pred)) # 결과 지표 확인"
   ]
  },
  {
   "cell_type": "markdown",
   "id": "7718f584",
   "metadata": {},
   "source": [
    "- SVM"
   ]
  },
  {
   "cell_type": "code",
   "execution_count": 134,
   "id": "895dfbad",
   "metadata": {},
   "outputs": [
    {
     "name": "stdout",
     "output_type": "stream",
     "text": [
      "              precision    recall  f1-score   support\n",
      "\n",
      "           0       1.00      0.72      0.84        40\n",
      "           1       0.87      1.00      0.93        74\n",
      "\n",
      "    accuracy                           0.90       114\n",
      "   macro avg       0.94      0.86      0.89       114\n",
      "weighted avg       0.92      0.90      0.90       114\n",
      "\n"
     ]
    }
   ],
   "source": [
    "svm_model = svm.SVC() # 모델 생성\n",
    "svm_model.fit(X_train, y_train) # 훈련\n",
    "svm_y_pred = svm_model.predict(X_test) # 예측\n",
    "\n",
    "print(classification_report(y_test, svm_y_pred)) # 결과 지표 확인"
   ]
  },
  {
   "cell_type": "markdown",
   "id": "75e1853f",
   "metadata": {},
   "source": [
    "- SGD Classifier"
   ]
  },
  {
   "cell_type": "code",
   "execution_count": 135,
   "id": "12755451",
   "metadata": {},
   "outputs": [
    {
     "name": "stdout",
     "output_type": "stream",
     "text": [
      "              precision    recall  f1-score   support\n",
      "\n",
      "           0       0.94      0.78      0.85        40\n",
      "           1       0.89      0.97      0.93        74\n",
      "\n",
      "    accuracy                           0.90       114\n",
      "   macro avg       0.91      0.87      0.89       114\n",
      "weighted avg       0.91      0.90      0.90       114\n",
      "\n"
     ]
    }
   ],
   "source": [
    "sgd_model = SGDClassifier() # 모델 생성\n",
    "sgd_model.fit(X_train, y_train) # 훈련\n",
    "sgd_y_pred = sgd_model.predict(X_test) # 예측\n",
    "\n",
    "print(classification_report(y_test, sgd_y_pred)) # 결과 지표 확인"
   ]
  },
  {
   "cell_type": "markdown",
   "id": "65bbc4b6",
   "metadata": {},
   "source": [
    "- Logistic Regression"
   ]
  },
  {
   "cell_type": "code",
   "execution_count": 136,
   "id": "54466892",
   "metadata": {},
   "outputs": [
    {
     "name": "stdout",
     "output_type": "stream",
     "text": [
      "              precision    recall  f1-score   support\n",
      "\n",
      "           0       1.00      0.82      0.90        40\n",
      "           1       0.91      1.00      0.95        74\n",
      "\n",
      "    accuracy                           0.94       114\n",
      "   macro avg       0.96      0.91      0.93       114\n",
      "weighted avg       0.94      0.94      0.94       114\n",
      "\n"
     ]
    }
   ],
   "source": [
    "logistic_model = LogisticRegression() # 모델 생성\n",
    "logistic_model.fit(X_train, y_train) # 훈련\n",
    "lr_y_pred = logistic_model.predict(X_test) # 예측\n",
    "\n",
    "print(classification_report(y_test, lr_y_pred)) # 결과 지표 확인"
   ]
  },
  {
   "cell_type": "markdown",
   "id": "0041d8e3",
   "metadata": {},
   "source": [
    "### 모델 평가"
   ]
  },
  {
   "cell_type": "markdown",
   "id": "18a887ea",
   "metadata": {},
   "source": [
    "학습된 모델들의 테스트데이터 예측 결과를 어떻게 해석해야 할까요? 모델의 성능을 평가하는 지표로는 무엇이 좋을까요? sklearn.metrics 에서 제공하는 평가지표 중 적절한 것을 선택해 보세요. 선택하신 이유도 설명해 주세요."
   ]
  },
  {
   "cell_type": "code",
   "execution_count": 137,
   "id": "a380abe5",
   "metadata": {},
   "outputs": [
    {
     "data": {
      "image/png": "[encoded data removed]",
      "text/plain": [
       "<Figure size 720x432 with 1 Axes>"
      ]
     },
     "metadata": {
      "needs_background": "light"
     },
     "output_type": "display_data"
    }
   ],
   "source": [
    "# 각 모델 학습 및 정확도 측정\n",
    "models = [decision_tree, random_forest, svm_model, sgd_model, logistic_model]\n",
    "model_names = [\"Decision Tree\", \"Random Forest\", \"SVM\", \"SGD\", \"Logistic Regression\"]\n",
    "cancer_f1 = [] # 정확도 저장 리스트 생성\n",
    "\n",
    "for model, name in zip(models, model_names):\n",
    "    model.fit(X_train, y_train) # 학습\n",
    "    y_pred = model.predict(X_test) # 예측\n",
    "    report = classification_report(y_test, y_pred, output_dict = True)\n",
    "    cancer_f1_score = report['weighted avg']['f1-score']\n",
    "    cancer_f1.append(cancer_f1_score) # 정확도 추가\n",
    "    \n",
    "# 정확도 시각화\n",
    "plt.figure(figsize=(10, 6))\n",
    "plt.plot(model_names, cancer_recall, marker='o', linestyle='-', markersize=8)\n",
    "plt.xlabel('Model')\n",
    "plt.ylabel('F1-Score')\n",
    "plt.title('Model F1-Score Comparison')\n",
    "plt.grid(True) # 그리드 표시\n",
    "plt.ylim(0, 1.0)\n",
    "plt.xticks(rotation=45)\n",
    "plt.tight_layout()\n",
    "plt.show()"
   ]
  },
  {
   "cell_type": "markdown",
   "id": "d2dee0c8",
   "metadata": {},
   "source": [
    "유방암 데이터의 target 데이터 클래스 간 분포를 확인한 결과, 클래스가 불균형한 편이었다. 그래서 모델 성능 지표로 f1-score를 선택했다. f1-score는 1에 가까울수록 모델이 매우 우수한 성능을 보임을 의미한다. 시각화 결과, f1-score가 가장 높은 모델은 Random Forest 이다."
   ]
  },
  {
   "cell_type": "markdown",
   "id": "0be66c4c",
   "metadata": {},
   "source": [
    "## 회고"
   ]
  },
  {
   "cell_type": "markdown",
   "id": "15312e24",
   "metadata": {},
   "source": [
    "### 어려웠던 점 / 느낀점\n",
    "> - 이번 프로젝트는 여러 데이터에 다양한 분류 모델을 각각 적용시키고 모델 성능을 평가했다. 프로젝트를 하면서서 크게 어려웠던 점은 없었으나, 모델 성능을 평가할 때 사용할 지표를 선택하는 것이 조금 어려웠다. 특히, 오차 행렬에서 예측 결과를 네 가지로 구분하는데 각각 개념을 완벽하게 이해하고 암기하려고 하는 점이 살짝 힘들었다. 하지만 모델 성능 평가는 가장 중요하기 때문에 해당 내용은 완벽하게 숙지를 해야할 것 같다.  \n",
    "\n",
    "\n",
    "### 학습한 내용\n",
    "> - 평소에 Random Forest 모델을 자주 사용했었는데, 이번 프로젝트를 통해 그 외에 다양한 분류 모델을 사용해봤다. 각 모델이 어떤 원리로 동작하는지 완전히 알지는 못하지만 Random Forest 모델이 대체적으로 우수한 성능을 보이는 것을 확인했다. 그래서 예전에 이런 글을 봤는데.. 'Random Forest는 빈 깡통 모델이어도 성능이 괜찮다'라는 말에 공감이 갔다.\n",
    "> - 데이터 분석의 마지막 단계(?)인 모델링 단계의 전체적인 흐름을 파악할 수 있었다. 모델을 돌리기 위해 데이터를 어떻게 준비하는지부터 모델 성능을 평가하는지 까지의 코드 흐름을 파악하는 데 도움이 많이 됐다. 어떤 데이터를 사용하든, 어떤 모델을 사용하든 그 흐름은 비슷하다는 것을 깨달았다. 여기서 달라진다면... 하이퍼 파라미터 튜닝이나 교차 검증 등을 추가할 수 있을 것 같다."
   ]
  },
  {
   "cell_type": "markdown",
   "id": "54693717",
   "metadata": {},
   "source": [
    "## 참고\n",
    "- https://blog.naver.com/fbfbf1/222453580598"
   ]
  }
 ],
 "metadata": {
  "kernelspec": {
   "display_name": "Python 3 (ipykernel)",
   "language": "python",
   "name": "python3"
  },
  "language_info": {
   "codemirror_mode": {
    "name": "ipython",
    "version": 3
   },
   "file_extension": ".py",
   "mimetype": "text/x-python",
   "name": "python",
   "nbconvert_exporter": "python",
   "pygments_lexer": "ipython3",
   "version": "3.9.7"
  }
 },
 "nbformat": 4,
 "nbformat_minor": 5
}
