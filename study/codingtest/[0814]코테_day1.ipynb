{
 "cells": [
  {
   "cell_type": "markdown",
   "id": "e25d009c",
   "metadata": {},
   "source": [
    "## Q1\n",
    "피보나치 수열의 n번째 자리까지 구현하는 코드를 작성해주세요."
   ]
  },
  {
   "cell_type": "markdown",
   "id": "2d619e18",
   "metadata": {},
   "source": [
    "▶ 내 코드"
   ]
  },
  {
   "cell_type": "code",
   "execution_count": 10,
   "id": "712a25a6",
   "metadata": {
    "scrolled": true
   },
   "outputs": [
    {
     "name": "stdout",
     "output_type": "stream",
     "text": [
      "숫자를 입력하세요: 5\n",
      "[1, 1, 2, 3, 5]\n"
     ]
    }
   ],
   "source": [
    "fibo = []\n",
    "\n",
    "n = int(input('숫자를 입력하세요: '))\n",
    "\n",
    "def solution(n):\n",
    "    for i in range(1, n+1):\n",
    "        if i <= 2:\n",
    "            fibo.append(1)\n",
    "        else: \n",
    "            fibo_num = fibo[-2] + fibo[-1]\n",
    "            fibo.append(fibo_num)\n",
    "    return fibo\n",
    "\n",
    "result = solution(n)\n",
    "print(result)"
   ]
  },
  {
   "cell_type": "markdown",
   "id": "c2a57b40",
   "metadata": {},
   "source": [
    "- **코드 구현 배경**    \n",
    "\n",
    "처음 두 숫자는 1, 그 다음 숫자부터는 앞의 두 수의 합이라는 공식을 생각했다.   \n",
    "빈 리스트를 만들고 조건을 주어 숫자를 하나씩 추가하는 방식으로 코드를 구현했다.  \n",
    "피보나치 수를 구하는 방법은 리스트 인덱싱을 사용하는 방법으로 진행했다."
   ]
  },
  {
   "cell_type": "markdown",
   "id": "67cb01df",
   "metadata": {},
   "source": [
    "▶ 스터디원 코드"
   ]
  },
  {
   "cell_type": "code",
   "execution_count": 2,
   "id": "0f00b54a",
   "metadata": {},
   "outputs": [
    {
     "name": "stdout",
     "output_type": "stream",
     "text": [
      "숫자를 입력하세요: 5\n",
      "[1, 1, 2, 3, 5]\n"
     ]
    }
   ],
   "source": [
    "n = int(input('숫자를 입력하세요: '))\n",
    "\n",
    "def solution(n):\n",
    "    x, y = 0, 1\n",
    "    fibo = [1]\n",
    "    while len(fibo) < n:\n",
    "        z = x + y\n",
    "        fibo.append(z)\n",
    "        x, y = y, z\n",
    "    return fibo\n",
    "\n",
    "result = solution(n)\n",
    "print(result)"
   ]
  },
  {
   "cell_type": "markdown",
   "id": "dc6f04ca",
   "metadata": {},
   "source": [
    "- **느낀 점**  \n",
    "\n",
    "다른 그루분들의 코드 리뷰를 듣고, 내 코드에서 부족했던 점을 발견했다.  \n",
    "음수나 0 등 피보나치 수열에 올 수 없는 값의 경우는 생각하지 않았다는 것을 깨달았다.  \n",
    "\n",
    "다른 분들의 코드를 참고한 결과, 이 부분에 대해 두 가지 해결법이 있었다.  \n",
    "첫 번째, 위의 수가 입력된 경우 에러 메세지를 출력하는 조건문을 추가한다.  \n",
    "두 번째, fibo = \\[1\\]로 세팅을 한다.  \n",
    "\n",
    "피보나치 수열 코드를 작성하는 법은 다양하다.  \n",
    "수업 때 배웠던 재귀함수를 사용할 수도 있고, 내 코드처럼 인덱싱을 사용할 수도 있다.  \n",
    "오늘 스터디를 통해 인덱싱을 사용하지 않고 단순 연산만으로도 피보나치 수열 코드를 작성할 수 있다는 점을 알게됐다."
   ]
  },
  {
   "cell_type": "markdown",
   "id": "130867a0",
   "metadata": {},
   "source": [
    "## Q2\n",
    "문자열 my_string이 매개변수로 주어집니다. my_string안의 모든 자연수들의 합을 return하도록 solution 함수를 완성해주세요."
   ]
  },
  {
   "cell_type": "markdown",
   "id": "8c2465bd",
   "metadata": {},
   "source": [
    "▶ 내 코드"
   ]
  },
  {
   "cell_type": "code",
   "execution_count": 3,
   "id": "1fe2a4ab",
   "metadata": {},
   "outputs": [
    {
     "name": "stdout",
     "output_type": "stream",
     "text": [
      "10\n"
     ]
    }
   ],
   "source": [
    "def solution(my_string):\n",
    "    numbers = []\n",
    "    for char in my_string:\n",
    "        if char.isdigit(): \n",
    "            numbers.append(int(char))\n",
    "    return sum(numbers)\n",
    "\n",
    "result = solution(\"aAb1B2cC34oOp\")\n",
    "print(result)"
   ]
  },
  {
   "cell_type": "markdown",
   "id": "c19dfb9f",
   "metadata": {},
   "source": [
    "- **코드 구현 배경** \n",
    "\n",
    "처음 코드를 작성할 때, my_string에 있는 문자열을 하나씩 추출하는 방법은 알았지만,  \n",
    "문자열 타입의 숫자만 숫자로 바꾸는 방법을 도저히 생각해낼 수 없었다.  \n",
    "결국, 인터넷에 검색을 해서 문제를 풀었다.  \n",
    "검색한 결과, isdigit() 메서드를 사용하면 문자열 내 숫자를 판별할 수 있다는 사실을 알게됐다.  \n",
    "그래서 isdigit() 메서드를 사용하여 코드를 완성했다."
   ]
  },
  {
   "cell_type": "markdown",
   "id": "2ef75d72",
   "metadata": {},
   "source": [
    "▶ 스터디원 코드"
   ]
  },
  {
   "cell_type": "code",
   "execution_count": 4,
   "id": "dbbbc27f",
   "metadata": {},
   "outputs": [
    {
     "name": "stdout",
     "output_type": "stream",
     "text": [
      "10\n"
     ]
    }
   ],
   "source": [
    "def solution(my_string):\n",
    "    accum = 0\n",
    "    for i in my_string:\n",
    "        try:\n",
    "            accum = accum + int(i)\n",
    "        except:\n",
    "            continue\n",
    "    return accum\n",
    "\n",
    "result = solution(\"aAb1B2cC34oOp\")\n",
    "print(result)"
   ]
  },
  {
   "cell_type": "markdown",
   "id": "8863c73b",
   "metadata": {},
   "source": [
    "- **느낀 점**  \n",
    "\n",
    "다른 그루분들의 코드 리뷰를 통해, '수업 때 배웠던 try-except를 사용해서도 풀 수 있었구나!'하고 깨달았다.  \n",
    "try-except를 떠올리지 못한 점이 아쉬웠다. 그만큼 공부를 제대로 하지 않았다는 점에서 반성하게 됐다..  \n",
    "\n",
    "추가적으로, if my_string\\[i\\] in '0123456789': 라는 조건문을 사용하여 푼 그루님도 있었다.  \n",
    "생각보다 단순하게 풀 수 있었던 문제여서 놀라웠다."
   ]
  }
 ],
 "metadata": {
  "kernelspec": {
   "display_name": "Python 3 (ipykernel)",
   "language": "python",
   "name": "python3"
  },
  "language_info": {
   "codemirror_mode": {
    "name": "ipython",
    "version": 3
   },
   "file_extension": ".py",
   "mimetype": "text/x-python",
   "name": "python",
   "nbconvert_exporter": "python",
   "pygments_lexer": "ipython3",
   "version": "3.9.7"
  },
  "toc": {
   "base_numbering": 1,
   "nav_menu": {},
   "number_sections": true,
   "sideBar": true,
   "skip_h1_title": false,
   "title_cell": "Table of Contents",
   "title_sidebar": "Contents",
   "toc_cell": false,
   "toc_position": {},
   "toc_section_display": true,
   "toc_window_display": false
  },
  "varInspector": {
   "cols": {
    "lenName": 16,
    "lenType": 16,
    "lenVar": 40
   },
   "kernels_config": {
    "python": {
     "delete_cmd_postfix": "",
     "delete_cmd_prefix": "del ",
     "library": "var_list.py",
     "varRefreshCmd": "print(var_dic_list())"
    },
    "r": {
     "delete_cmd_postfix": ") ",
     "delete_cmd_prefix": "rm(",
     "library": "var_list.r",
     "varRefreshCmd": "cat(var_dic_list()) "
    }
   },
   "types_to_exclude": [
    "module",
    "function",
    "builtin_function_or_method",
    "instance",
    "_Feature"
   ],
   "window_display": false
  }
 },
 "nbformat": 4,
 "nbformat_minor": 5
}
