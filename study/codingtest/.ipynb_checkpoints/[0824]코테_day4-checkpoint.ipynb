{
 "cells": [
  {
   "cell_type": "markdown",
   "id": "b53a18f2",
   "metadata": {},
   "source": [
    "## Q1\n",
    "문자열 myString이 주어집니다. myString에서 알파벳 \"a\"가 등장하면 전부 \"A\"로 변환하고, \"A\"가 아닌 모든 대문자 알파벳은 소문자 알파벳으로 변환하여 return 하는 solution 함수를 완성하세요."
   ]
  },
  {
   "cell_type": "markdown",
   "id": "7fa7a4f0",
   "metadata": {},
   "source": [
    "▶ 내 코드"
   ]
  },
  {
   "cell_type": "code",
   "execution_count": 1,
   "id": "f2faa52c",
   "metadata": {},
   "outputs": [],
   "source": [
    "def solution(myString):\n",
    "    answer = myString.lower()\n",
    "    return answer.replace('a', 'A')"
   ]
  },
  {
   "cell_type": "code",
   "execution_count": 4,
   "id": "90096ae6",
   "metadata": {},
   "outputs": [
    {
     "name": "stdout",
     "output_type": "stream",
     "text": [
      "AbstrAct AlgebrA\n"
     ]
    }
   ],
   "source": [
    "result = solution(\"abstract algebra\")\n",
    "print(result)"
   ]
  },
  {
   "cell_type": "markdown",
   "id": "f06f208d",
   "metadata": {},
   "source": [
    "- **코드 구현 배경**    \n",
    "\n",
    "대소문자 관련 조건이 나오자마자 upper() / lower() 함수가 떠올랐다. 문제는 소문자 a를 대문자 A로 나머지 알파벳은 모두 소문자로 바꾸는 것이므로 처음에 모든 문자를 소문자로 바꿔줬다. 그 후, a만 A로 대체하도록 코드를 구현했다.\n"
   ]
  },
  {
   "cell_type": "markdown",
   "id": "d860095b",
   "metadata": {},
   "source": [
    "▶ 스터디원 코드"
   ]
  },
  {
   "cell_type": "code",
   "execution_count": 3,
   "id": "75e31035",
   "metadata": {},
   "outputs": [],
   "source": [
    "def solution(myString):\n",
    "    return myString.lower().replace('a','A')"
   ]
  },
  {
   "cell_type": "markdown",
   "id": "332c5177",
   "metadata": {},
   "source": [
    "- **느낀 점**  \n",
    "\n",
    "내장함수를 알고 있다는 것은 정말 치트키인 것 같다. lower()함수를 몰랐더라면 코드가 훨씬 복잡해지지 않았을까 생각했다.  \n",
    "한편, 내가 작성한 코드도 꽤 간결한 편이었는데 2, 3번 째줄을 이어붙여서 작성할 수 있다는 것도 깨달았다."
   ]
  },
  {
   "cell_type": "markdown",
   "id": "34b81d6d",
   "metadata": {},
   "source": [
    "## Q2\n",
    "0부터 9까지의 숫자 중 일부가 들어있는 정수 배열 numbers가 매개변수로 주어집니다. numbers에서 찾을 수 없는 0부터 9까지의 숫자를 모두 찾아 더한 수를 return 하도록 solution 함수를 완성해주세요."
   ]
  },
  {
   "cell_type": "markdown",
   "id": "46d871aa",
   "metadata": {},
   "source": [
    "▶ 내 코드"
   ]
  },
  {
   "cell_type": "code",
   "execution_count": 5,
   "id": "abe124c7",
   "metadata": {},
   "outputs": [],
   "source": [
    "def solution(numbers):\n",
    "    answer = sum(range(10)) - sum(numbers)\n",
    "    return answer"
   ]
  },
  {
   "cell_type": "code",
   "execution_count": 8,
   "id": "852d29b7",
   "metadata": {},
   "outputs": [
    {
     "name": "stdout",
     "output_type": "stream",
     "text": [
      "14\n"
     ]
    }
   ],
   "source": [
    "result = solution([1,2,3,4,6,7,8,0])\n",
    "print(result)"
   ]
  },
  {
   "cell_type": "markdown",
   "id": "aef179a4",
   "metadata": {},
   "source": [
    "- **코드 구현 배경** \n",
    "\n",
    "단순하게 0~9 숫자를 모두 더한 값에서 numbers의 총 합만 빼주면 되겠다는 생각으로 문제를 풀었다. "
   ]
  },
  {
   "cell_type": "markdown",
   "id": "3a6afdfd",
   "metadata": {},
   "source": [
    "▶ 스터디원 코드"
   ]
  },
  {
   "cell_type": "code",
   "execution_count": 7,
   "id": "b175a29e",
   "metadata": {},
   "outputs": [],
   "source": [
    "def solution(numbers):\n",
    "    return 45 - sum(numbers)"
   ]
  },
  {
   "cell_type": "markdown",
   "id": "ecdf1ef8",
   "metadata": {},
   "source": [
    "- **느낀 점**  \n",
    "\n",
    "이 문제에서 주어진 조건만 제대로 파악한다면 코드를 완전 심플하게 구현이 가능했을 문제인 것 같다."
   ]
  },
  {
   "cell_type": "markdown",
   "id": "d57881ba",
   "metadata": {},
   "source": [
    "## Q3\n",
    "선분 세 개로 삼각형을 만들기 위해서는 다음과 같은 조건을 만족해야 합니다.\n",
    "\n",
    "가장 긴 변의 길이는 다른 두 변의 길이의 합보다 작아야 합니다.\n",
    "삼각형의 세 변의 길이가 담긴 배열 sides이 매개변수로 주어집니다. 세 변으로 삼각형을 만들 수 있다면 1, 만들 수 없다면 2를 return하도록 solution 함수를 완성해주세요."
   ]
  },
  {
   "cell_type": "markdown",
   "id": "e96a831e",
   "metadata": {},
   "source": [
    "▶ 내 코드"
   ]
  },
  {
   "cell_type": "code",
   "execution_count": 9,
   "id": "929ce5b0",
   "metadata": {},
   "outputs": [],
   "source": [
    "def solution(sides):\n",
    "    max_num = max(sides)\n",
    "    sides.remove(max_num)\n",
    "    remainder = sum(sides)\n",
    "    if max_num < remainder:\n",
    "        return 1\n",
    "    else:\n",
    "        return 2"
   ]
  },
  {
   "cell_type": "code",
   "execution_count": 12,
   "id": "3064966f",
   "metadata": {},
   "outputs": [
    {
     "name": "stdout",
     "output_type": "stream",
     "text": [
      "1\n"
     ]
    }
   ],
   "source": [
    "result = solution([199, 72, 222])\n",
    "print(result)"
   ]
  },
  {
   "cell_type": "markdown",
   "id": "b704a0f7",
   "metadata": {},
   "source": [
    "- **코드 구현 배경** \n",
    "\n",
    "가장 긴 변을 max()로 추출하고, 나머지 변은 remove()를 사용하여 가장 긴 변을 제거했다. 그 후, 가장 긴 변과 나머지 선분의 길이를 비교하여 결과를 도출했다."
   ]
  },
  {
   "cell_type": "markdown",
   "id": "a221e52d",
   "metadata": {},
   "source": [
    "▶ 스터디원 코드"
   ]
  },
  {
   "cell_type": "code",
   "execution_count": 11,
   "id": "3f43748c",
   "metadata": {},
   "outputs": [],
   "source": [
    "def solution(sides):\n",
    "    sides.sort()\n",
    "    if sides[0] + sides[1] <= sides[2]:\n",
    "        return 2\n",
    "    return 1"
   ]
  },
  {
   "cell_type": "markdown",
   "id": "165779af",
   "metadata": {},
   "source": [
    "- **느낀 점**  \n",
    "\n",
    "선분의 길이를 다루는 문제에서 sort()를 활용했다는 점이 인상깊었다. 나는 max()를 사용하여 가장 긴변과 나머지 선분을 정의했는데, sort()를 사용하니까 내 코드의 3줄 분량이 1줄로 구현이 가능하다는 점을 알았다. "
   ]
  },
  {
   "cell_type": "markdown",
   "id": "43e0e4c4",
   "metadata": {},
   "source": [
    "## Q4\n",
    "정수 배열 num_list와 정수 n이 매개변수로 주어집니다. num_list를 다음 설명과 같이 2차원 배열로 바꿔 return하도록 solution 함수를 완성해주세요.\n",
    "\n",
    "num_list가 \\[1, 2, 3, 4, 5, 6, 7, 8\\] 로 길이가 8이고 n이 2이므로 num_list를 2 * 4 배열로 다음과 같이 변경합니다. 2차원으로 바꿀 때에는 num_list의 원소들을 앞에서부터 n개씩 나눠 2차원 배열로 변경합니다."
   ]
  },
  {
   "cell_type": "markdown",
   "id": "316c5a84",
   "metadata": {},
   "source": [
    "▶ 내 코드"
   ]
  },
  {
   "cell_type": "code",
   "execution_count": 15,
   "id": "772a3b73",
   "metadata": {},
   "outputs": [],
   "source": [
    "import numpy as np\n",
    "def solution(num_list, n):\n",
    "    num_list = np.array(num_list)\n",
    "    return num_list.reshape(len(num_list)//n,n).tolist()"
   ]
  },
  {
   "cell_type": "code",
   "execution_count": 18,
   "id": "1f858077",
   "metadata": {},
   "outputs": [
    {
     "name": "stdout",
     "output_type": "stream",
     "text": [
      "[[1, 2], [3, 4], [5, 6], [7, 8]]\n"
     ]
    }
   ],
   "source": [
    "result = solution([1, 2, 3, 4, 5, 6, 7, 8], 2)\n",
    "print(result)"
   ]
  },
  {
   "cell_type": "markdown",
   "id": "76ca41b0",
   "metadata": {},
   "source": [
    "- **코드 구현 배경** \n",
    "\n",
    "input값과 output값을 보고 reshape()이 바로 떠올랐다. reshape()을 사용하기위해 주어진 데이터 타입을 ndarray로 바꿔주었다. 그리고 reshape()을 사용해 결과를 도출했으나 에러가 발생했다. 이유는 tolist()를 해주지 않았기 때문이었다. 찾아보니 ndarray 데이터 타입은 JSON으로 직렬화할 수 없는 데이터 타입인데 JSON으로 변환하려고 하면서 발생했다고 한다. 일반적인 파이썬의 기본 데이터 타입과는 다른 구조를 가지고 있어 JSON 직렬화를 지원하지 않는다고 한다. 그래서 np.array()로 Numpy 배열을 만든 다음, .tolist()로 다시 파이썬 리스트 형태로 변환하여 반환해야 한다는 사실을 알게 되었다."
   ]
  },
  {
   "cell_type": "markdown",
   "id": "3f243e6a",
   "metadata": {},
   "source": [
    "▶ 스터디원 코드"
   ]
  },
  {
   "cell_type": "code",
   "execution_count": 17,
   "id": "e6867609",
   "metadata": {},
   "outputs": [],
   "source": [
    "def solution(num_list, n):\n",
    "    return [num_list[i-n:i] for i in range(n, len(num_list)+1, n)]"
   ]
  },
  {
   "cell_type": "markdown",
   "id": "a2ae6553",
   "metadata": {},
   "source": [
    "- **느낀 점**  \n",
    "\n",
    "이 문제도 다양한 방법으로 풀이가 가능하다. 우선 나는 예정된 일정으로 스터디를 길게 이어갈 수 없는 상황이라 다른 스터디원의 코드 전부 보지 못했다. 그래도 퍼실님의 풀이한 코드를 볼 수 있었는데, 슬라이싱을 이용해서 이 문제를 해결할 수 있다는 점을 깨달았다. 배열 문제는 슬라이싱을 많이 다루는데 나는 이 문제를 풀 때 거기까지 생각하지 못했던 것 같다. "
   ]
  }
 ],
 "metadata": {
  "kernelspec": {
   "display_name": "Python 3 (ipykernel)",
   "language": "python",
   "name": "python3"
  },
  "language_info": {
   "codemirror_mode": {
    "name": "ipython",
    "version": 3
   },
   "file_extension": ".py",
   "mimetype": "text/x-python",
   "name": "python",
   "nbconvert_exporter": "python",
   "pygments_lexer": "ipython3",
   "version": "3.9.7"
  }
 },
 "nbformat": 4,
 "nbformat_minor": 5
}
