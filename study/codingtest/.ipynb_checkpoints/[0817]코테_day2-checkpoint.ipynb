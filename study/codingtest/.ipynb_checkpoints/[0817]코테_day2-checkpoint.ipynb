{
 "cells": [
  {
   "cell_type": "markdown",
   "id": "81b4895d",
   "metadata": {},
   "source": [
    "## Q1\n",
    "부분 문자열이란 문자열에서 연속된 일부분에 해당하는 문자열을 의미합니다. 예를 들어, 문자열 \"ana\", \"ban\", \"anana\", \"banana\", \"n\"는 모두 문자열 \"banana\"의 부분 문자열이지만, \"aaa\", \"bnana\", \"wxyz\"는 모두 \"banana\"의 부분 문자열이 아닙니다.\n",
    "\n",
    "문자열 my_string과 target이 매개변수로 주어질 때, target이 문자열 my_string의 부분 문자열이라면 1을, 아니라면 0을 return 하는 solution 함수를 작성해 주세요.  "
   ]
  },
  {
   "cell_type": "markdown",
   "id": "e7040e30",
   "metadata": {},
   "source": [
    "▶ 내 코드"
   ]
  },
  {
   "cell_type": "code",
   "execution_count": 5,
   "id": "59301848",
   "metadata": {},
   "outputs": [],
   "source": [
    "def solution(my_string, target):\n",
    "    if target in my_string:\n",
    "        return 1\n",
    "    else:\n",
    "        return 0"
   ]
  },
  {
   "cell_type": "code",
   "execution_count": 6,
   "id": "ded21221",
   "metadata": {},
   "outputs": [
    {
     "name": "stdout",
     "output_type": "stream",
     "text": [
      "1\n",
      "0\n"
     ]
    }
   ],
   "source": [
    "result1 = solution(\"banana\", \"ana\")\n",
    "print(result1)\n",
    "\n",
    "result2 = solution(\"banana\", \"wxyz\")\n",
    "print(result2)"
   ]
  },
  {
   "cell_type": "markdown",
   "id": "b6e19060",
   "metadata": {},
   "source": [
    "- **코드 구현 배경**    \n",
    "\n",
    "target이 my_string에 속한 값인지 판별해보자라는 단순한 생각으로 접근했다.  \n",
    "또한, 1일차에 스터디원 중 한 분이 if a in b: 라는 코드를 작성했던게 생각났다."
   ]
  },
  {
   "cell_type": "markdown",
   "id": "720e156a",
   "metadata": {},
   "source": [
    "▶ 스터디원 코드"
   ]
  },
  {
   "cell_type": "code",
   "execution_count": 7,
   "id": "d1bc4f28",
   "metadata": {},
   "outputs": [],
   "source": [
    "def solution(my_string, target):\n",
    "    return int(my_string in target)"
   ]
  },
  {
   "cell_type": "markdown",
   "id": "edb1aea4",
   "metadata": {},
   "source": [
    "- **느낀 점**  \n",
    "\n",
    "이 코드 리뷰를 하면서 느낀 점이 두 가지가 있다.  \n",
    "첫 번째는, True, False로 결과가 나오게 만들고 int()를 활용하면 훨씬 간편하게 코드 구현이 가능하다는 점이다.  \n",
    "두 번째는, if문에서 return 값이 확정됐다면, 굳이 else문을 작성하지 않는 것이 시간이나 코드 진행 구조를 축소시킬 수 있다는 것이다."
   ]
  },
  {
   "cell_type": "markdown",
   "id": "65b8dd9c",
   "metadata": {},
   "source": [
    "## Q2\n",
    "알파벳 소문자로 이루어진 문자열 myString이 주어집니다. 알파벳 순서에서 \"l\"보다 앞서는 모든 문자를 \"l\"로 바꾼 문자열을 return 하는 solution 함수를 완성해 주세요."
   ]
  },
  {
   "cell_type": "markdown",
   "id": "e4f97868",
   "metadata": {},
   "source": [
    "▶ 내 코드"
   ]
  },
  {
   "cell_type": "code",
   "execution_count": 8,
   "id": "5d00838b",
   "metadata": {},
   "outputs": [],
   "source": [
    "def solution2(myString):\n",
    "    word = []\n",
    "    for i in myString:\n",
    "        if i in 'abcdefghijk':\n",
    "            word.append('l')\n",
    "        else:\n",
    "            word.append(i)\n",
    "    return ''.join(word)"
   ]
  },
  {
   "cell_type": "code",
   "execution_count": 9,
   "id": "ecd3feb7",
   "metadata": {},
   "outputs": [
    {
     "name": "stdout",
     "output_type": "stream",
     "text": [
      "lllllvwxyz\n",
      "llnnllllmm\n"
     ]
    }
   ],
   "source": [
    "result3 = solution2(\"abcdevwxyz\")\n",
    "print(result3)\n",
    "\n",
    "result4 = solution2(\"jjnnllkkmm\")\n",
    "print(result4)"
   ]
  },
  {
   "cell_type": "markdown",
   "id": "87cf815e",
   "metadata": {},
   "source": [
    "- **코드 구현 배경** \n",
    "\n",
    "나는 이 코드에서 조건에 해당하는 알파벳이 포함되는지 여부를 판별하는 if문 까지 스스로 구현했었다. 하지만 판별하고 True에 해당하는 알파벳을 'l'로 대체를 어떻게 해야 할지 고민이 됐다. replace()까지는 생각이 났지만 완벽하게 구현하지 못 했다.  \n",
    "다른 스터디원의 도움을 받아, 빈 리스트를 생성하고 조건문을 사용하여 원하는 문자열 리스트를 만들고 join() 메서드를 사용해 문자열로 반환하는 코드를 작성할 수 있었다."
   ]
  },
  {
   "cell_type": "markdown",
   "id": "ceae6a6a",
   "metadata": {},
   "source": [
    "▶ 스터디원 코드"
   ]
  },
  {
   "cell_type": "code",
   "execution_count": 11,
   "id": "da1678ef",
   "metadata": {},
   "outputs": [],
   "source": [
    "def solution(myString):\n",
    "    x = 'abcdefghijk'\n",
    "    return ''.join('l' if i in x else i for i in myString)"
   ]
  },
  {
   "cell_type": "markdown",
   "id": "cf1b7453",
   "metadata": {},
   "source": [
    "- **느낀 점**  \n",
    "\n",
    "이 문제를 리스트컴프리헨션으로 해결한 스터디원이 있었다.  \n",
    "덕분에, 리스트컴프리헨션을 사용할 때의 규칙(?)에 대해 배웠다.  \n",
    "만약 if - else 문을 모두 사용하는 경우 if ~ else ~ for 문 순서로 작성하고,  \n",
    "if문만 사용하는 경우 for ~ if 문 순서로 작성해야 한다는 사실을 알게 됐다."
   ]
  }
 ],
 "metadata": {
  "kernelspec": {
   "display_name": "Python 3 (ipykernel)",
   "language": "python",
   "name": "python3"
  },
  "language_info": {
   "codemirror_mode": {
    "name": "ipython",
    "version": 3
   },
   "file_extension": ".py",
   "mimetype": "text/x-python",
   "name": "python",
   "nbconvert_exporter": "python",
   "pygments_lexer": "ipython3",
   "version": "3.9.7"
  }
 },
 "nbformat": 4,
 "nbformat_minor": 5
}
