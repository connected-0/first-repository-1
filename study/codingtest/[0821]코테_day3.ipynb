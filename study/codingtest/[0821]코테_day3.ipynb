{
 "cells": [
  {
   "cell_type": "markdown",
   "id": "5c1c5ff1",
   "metadata": {},
   "source": [
    "## Q1\n",
    "단어가 공백 한 개 이상으로 구분되어 있는 문자열 my_string이 매개변수로 주어질 때, my_string에 나온 단어를 앞에서부터 순서대로 담은 문자열 배열을 return 하는 solution 함수를 작성해 주세요."
   ]
  },
  {
   "cell_type": "markdown",
   "id": "245e71fe",
   "metadata": {},
   "source": [
    "▶ 내 코드"
   ]
  },
  {
   "cell_type": "code",
   "execution_count": 1,
   "id": "8fc57d6b",
   "metadata": {},
   "outputs": [],
   "source": [
    "def solution(my_string):\n",
    "    word = my_string.split(' ')\n",
    "    sentence = []\n",
    "    for i in word:\n",
    "        if i != \"\":\n",
    "            sentence.append(i)\n",
    "    return sentence"
   ]
  },
  {
   "cell_type": "code",
   "execution_count": 5,
   "id": "8dd263f8",
   "metadata": {},
   "outputs": [
    {
     "name": "stdout",
     "output_type": "stream",
     "text": [
      "['i', 'love', 'you']\n"
     ]
    }
   ],
   "source": [
    "result = solution(\" i    love  you\")\n",
    "print(result)"
   ]
  },
  {
   "cell_type": "markdown",
   "id": "c5929a66",
   "metadata": {},
   "source": [
    "- **코드 구현 배경**    \n",
    "\n",
    "주어진 문자열이 공백을 기준으로 떨어져 있는 것을 보고 바로 split() 함수가 떠올랐다."
   ]
  },
  {
   "cell_type": "markdown",
   "id": "2fb9f178",
   "metadata": {},
   "source": [
    "▶ 스터디원 코드"
   ]
  },
  {
   "cell_type": "code",
   "execution_count": 4,
   "id": "662af637",
   "metadata": {},
   "outputs": [],
   "source": [
    "def solution(my_string):\n",
    "    return my_string.split()"
   ]
  },
  {
   "cell_type": "markdown",
   "id": "af26a0e9",
   "metadata": {},
   "source": [
    "- **느낀 점**  \n",
    "\n",
    "처음 내 코드를 작성하고 바로 아쉬운 점이 생겼다. 이날 WRAPUP 발표 때, 리스트 컴프리헨션에 대해 발표를 했지만 아직도 제대로 활용하지 않는 점이 느껴졌다. 또한, split() 함수의 default 값이 공백이라는 것을 깨달았다. default 값이 공백이었다는 것을 알았다면 코드가 훨씬 간결해질 수 있었을텐데 아쉬웠다."
   ]
  },
  {
   "cell_type": "markdown",
   "id": "3d4ce62e",
   "metadata": {},
   "source": [
    "## Q2\n",
    "문자열 my_string이 매개변수로 주어집니다. my_string은 소문자, 대문자, 자연수로만 구성되어있습니다. my_string안의 자연수들의 합을 return하도록 solution 함수를 완성해주세요."
   ]
  },
  {
   "cell_type": "markdown",
   "id": "170bcb61",
   "metadata": {},
   "source": [
    "▶ 내 코드"
   ]
  },
  {
   "cell_type": "code",
   "execution_count": null,
   "id": "77df2abe",
   "metadata": {},
   "outputs": [],
   "source": [
    "def solution(my_string):\n",
    "    word = [i if i.isdigit() else '' for i in my_string]\n",
    "    sentence = ' '.join(word)\n",
    "    num = sentence.split()\n",
    "    # total = sum()\n",
    "    return sentence, num"
   ]
  },
  {
   "cell_type": "code",
   "execution_count": 7,
   "id": "c1454fdb",
   "metadata": {},
   "outputs": [
    {
     "name": "stdout",
     "output_type": "stream",
     "text": [
      "37\n"
     ]
    }
   ],
   "source": [
    "result = solution(\"aAb1B2cC34oOp\")\n",
    "print(result)"
   ]
  },
  {
   "cell_type": "markdown",
   "id": "c6b61345",
   "metadata": {},
   "source": [
    "- **코드 구현 배경** \n",
    "\n",
    "이 문제는 코드를 완전히 구현하지 못했다. 우선 작성된 부분까지의 코드를 설명하자면, 내 1단계 목표는 주어진 문자열에서 숫자인 문자만 추출해내는 것이었다. 그래서 isdigit() 함수를 사용해서 내가 원하던 형태까지 만들었지만, 그 다음 단계에서 막혔다. 2단계는 알파벳을 모두 공백으로 취급해서 1번 문제와 같은 형태를 만들어서 split()을 사용하는 거였다. 하지만 원하던 대로 되지 않았고 결국 스터디원의 코드를 참고했다."
   ]
  },
  {
   "cell_type": "markdown",
   "id": "e8b83c67",
   "metadata": {},
   "source": [
    "▶ 스터디원 코드"
   ]
  },
  {
   "cell_type": "code",
   "execution_count": 6,
   "id": "df138aa9",
   "metadata": {},
   "outputs": [],
   "source": [
    "def solution(my_string):\n",
    "    answer = 0\n",
    "    for i in ''.join(i if i.isdigit() else '.' for i in my_string).split('.'):\n",
    "        if i.isdigit():\n",
    "            answer += int(i)\n",
    "    return answer"
   ]
  },
  {
   "cell_type": "markdown",
   "id": "8659af4c",
   "metadata": {},
   "source": [
    "- **느낀 점**  \n",
    "\n",
    "어떤 함수를 사용할지는 알아챘으나 for문을 1번 사용하면 문제를 해결할 수 없다는 것을 알아채지 못했다. 이 부분을 알았더라면 문제를 풀 수 있지 않았을까 하는 생각을 했다. 또한, 리스트 컴프리헨션을 for문에 직접 적용할 수 있다는 것도 알게 되었다. 처음에 보기엔 조금 복잡해 보였지만, 확실히 심플해 보이긴 했다."
   ]
  }
 ],
 "metadata": {
  "kernelspec": {
   "display_name": "Python 3 (ipykernel)",
   "language": "python",
   "name": "python3"
  },
  "language_info": {
   "codemirror_mode": {
    "name": "ipython",
    "version": 3
   },
   "file_extension": ".py",
   "mimetype": "text/x-python",
   "name": "python",
   "nbconvert_exporter": "python",
   "pygments_lexer": "ipython3",
   "version": "3.9.7"
  }
 },
 "nbformat": 4,
 "nbformat_minor": 5
}
