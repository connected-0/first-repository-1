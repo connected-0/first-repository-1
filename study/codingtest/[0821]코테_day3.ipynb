{
 "cells": [
  {
   "cell_type": "markdown",
   "id": "1d4ef12c",
   "metadata": {},
   "source": [
    "## Q1\n"
   ]
  },
  {
   "cell_type": "markdown",
   "id": "1542921f",
   "metadata": {},
   "source": [
    "▶ 내 코드"
   ]
  },
  {
   "cell_type": "code",
   "execution_count": null,
   "id": "d1708015",
   "metadata": {},
   "outputs": [],
   "source": []
  },
  {
   "cell_type": "code",
   "execution_count": 4,
   "id": "5c6f6bf0",
   "metadata": {},
   "outputs": [
    {
     "name": "stdout",
     "output_type": "stream",
     "text": [
      "\n"
     ]
    }
   ],
   "source": [
    "result = \"\"\n",
    "print(result)"
   ]
  },
  {
   "cell_type": "markdown",
   "id": "43539cc3",
   "metadata": {},
   "source": [
    "- **코드 구현 배경**    \n",
    "\n",
    "블라블라"
   ]
  },
  {
   "cell_type": "markdown",
   "id": "cd7e62e7",
   "metadata": {},
   "source": [
    "▶ 스터디원 코드"
   ]
  },
  {
   "cell_type": "code",
   "execution_count": null,
   "id": "959b4536",
   "metadata": {},
   "outputs": [],
   "source": []
  },
  {
   "cell_type": "markdown",
   "id": "a0cee725",
   "metadata": {},
   "source": [
    "- **느낀 점**  \n",
    "\n",
    "블라블라"
   ]
  },
  {
   "cell_type": "markdown",
   "id": "29370bde",
   "metadata": {},
   "source": [
    "## Q2\n"
   ]
  },
  {
   "cell_type": "markdown",
   "id": "7c9e280e",
   "metadata": {},
   "source": [
    "▶ 내 코드"
   ]
  },
  {
   "cell_type": "code",
   "execution_count": null,
   "id": "5f1b0711",
   "metadata": {},
   "outputs": [],
   "source": []
  },
  {
   "cell_type": "code",
   "execution_count": 5,
   "id": "e317ff4e",
   "metadata": {},
   "outputs": [
    {
     "name": "stdout",
     "output_type": "stream",
     "text": [
      "\n"
     ]
    }
   ],
   "source": [
    "result = \"\"\n",
    "print(result)"
   ]
  },
  {
   "cell_type": "markdown",
   "id": "dddd88ce",
   "metadata": {},
   "source": [
    "- **코드 구현 배경** \n",
    "\n",
    "블라블라"
   ]
  },
  {
   "cell_type": "markdown",
   "id": "4c5e3cb7",
   "metadata": {},
   "source": [
    "▶ 스터디원 코드"
   ]
  },
  {
   "cell_type": "code",
   "execution_count": null,
   "id": "32e9f561",
   "metadata": {},
   "outputs": [],
   "source": []
  },
  {
   "cell_type": "markdown",
   "id": "f0595219",
   "metadata": {},
   "source": [
    "- **느낀 점**  \n",
    "\n",
    "블라블라"
   ]
  }
 ],
 "metadata": {
  "kernelspec": {
   "display_name": "Python 3 (ipykernel)",
   "language": "python",
   "name": "python3"
  },
  "language_info": {
   "codemirror_mode": {
    "name": "ipython",
    "version": 3
   },
   "file_extension": ".py",
   "mimetype": "text/x-python",
   "name": "python",
   "nbconvert_exporter": "python",
   "pygments_lexer": "ipython3",
   "version": "3.9.7"
  }
 },
 "nbformat": 4,
 "nbformat_minor": 5
}
