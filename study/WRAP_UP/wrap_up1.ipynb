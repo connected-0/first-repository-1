{
 "cells": [
  {
   "cell_type": "markdown",
   "id": "b6c8b802",
   "metadata": {},
   "source": [
    "# 리스트 컴프리헨션"
   ]
  },
  {
   "cell_type": "markdown",
   "id": "99692a4b",
   "metadata": {},
   "source": [
    "코딩 테스트 공부를 진행하면서 리스트 컴프리헨션이 정말 많이 사용된다는 사실을 알았다.  특히, 3줄 이상의 코드가 리스트 컴프리헨션을 사용하면 단 1줄로도 구현이 가능하다는 점이 흥미로웠다. 코드 길이를 축소하면서 훨씬 간결해지고 메모리 효율성이 좋기 때문에 코딩 테스트에서 자주 사용되는 것 같다.  \n",
    "\n",
    "이번 포스팅으로 리스트 컴프리헨션을 공부하고자 한다."
   ]
  },
  {
   "cell_type": "markdown",
   "id": "74ce4cdd",
   "metadata": {},
   "source": [
    "## 개념\n",
    "\n",
    "> **리스트 컴프리헨션(List Comprehension)** 이란 'for문과 if문을 사용하여 리스트를 생성하는 방식으로,  \n",
    "한 줄로 리스트를 초기화하거나 변환할 수 있는 것'을 말한다.  "
   ]
  },
  {
   "cell_type": "markdown",
   "id": "5c0c1567",
   "metadata": {},
   "source": [
    "일반적인 구문은 다음과 같다."
   ]
  },
  {
   "cell_type": "code",
   "execution_count": null,
   "id": "84108931",
   "metadata": {},
   "outputs": [],
   "source": [
    "list1 = [expression for item in iterable]\n",
    "\n",
    "list2 = [expression for item in iterable if condition]"
   ]
  },
  {
   "cell_type": "markdown",
   "id": "f8de1078",
   "metadata": {},
   "source": [
    "- **expression**: 표현식(변수명이 포함되어 있음)\n",
    "- **item**: 입력 iterable에서 가져온 각 항목(변수명)\n",
    "- **iterable**: 항목을 가져올 기존의 iterable 자료구조(리스트, 튜플, 문자열 등)\n",
    "- **condition**(선택): 필터링할 조건문"
   ]
  },
  {
   "cell_type": "markdown",
   "id": "9649ac8e",
   "metadata": {},
   "source": [
    "위처럼 for문만 사용하여 리스트를 생성할 수 도 있고, if문을 추가하여 필터링이 추가된 리스트를 생성할 수도 있다.  \n",
    "\n",
    "또한, 리스트 컴프리헨션이라고 해서 리스트만 사용할 수 있는 것이 아니라, 리스트(list), 튜플(tuple), 딕셔너리(dictionary), 세트(set)등 다양한 자료형도 모두 사용이 가능하다."
   ]
  },
  {
   "cell_type": "markdown",
   "id": "11206966",
   "metadata": {},
   "source": [
    "## 사용법\n",
    "> 위에서 정리한 개념과 예제 문제를 통해 리스트 컴프리헨션과 친해져 보자."
   ]
  },
  {
   "cell_type": "markdown",
   "id": "c447e109",
   "metadata": {},
   "source": [
    "### 조건문(Condition) 없는 경우"
   ]
  },
  {
   "cell_type": "markdown",
   "id": "4e5df20c",
   "metadata": {},
   "source": [
    "> 조건문을 주지 않는 경우, \\[expression **for** item **in** iterable\\] 형태로 작성하면 된다."
   ]
  },
  {
   "cell_type": "markdown",
   "id": "ec2a1107",
   "metadata": {},
   "source": [
    "- __예제__  \n",
    "1부터 10까지 각 수를 제곱하고 모두 더한 값을 구하라."
   ]
  },
  {
   "cell_type": "code",
   "execution_count": 21,
   "id": "be0c6e03",
   "metadata": {},
   "outputs": [
    {
     "name": "stdout",
     "output_type": "stream",
     "text": [
      "기존 코드로 구한 값: 385\n",
      "리스트 컴프리헨션 코드로 구한 값: 385\n"
     ]
    }
   ],
   "source": [
    "# 기존 코드\n",
    "list3 = [] # 빈 리스트 생성\n",
    "for i in range(1, 11): # 숫자 1부터 10까지의 루프 생성\n",
    "    list3.append(i*i) # 빈 리스트에 숫자의 제곱값 추가\n",
    "    \n",
    "total1 = sum(list3) # list3의 모든 원소 값을 더함\n",
    "\n",
    "# 리스트 컴프리헨션 코드\n",
    "total2 = sum([i*i for i in range(1, 11)]) # 기존 코드를 한 줄로 요약\n",
    "\n",
    "print(f'기존 코드로 구한 값: {total1}')\n",
    "print(f'리스트 컴프리헨션 코드로 구한 값: {total2}')"
   ]
  },
  {
   "cell_type": "markdown",
   "id": "b6421b63",
   "metadata": {},
   "source": [
    "이 예제를 보면 기존 코드는 4줄로 짜여있고, 리스트 컴프리헨션 코드는 단 한 줄로 짜여있는 것을 알 수 있다. 4줄로 짜여진 코드가 리스트 컴프리헨션 속에 어떻게 들어가 있는지 이해하는 것이 중요한 것 같다. 아래 링크를 참고하면 기존 코드와 리스트 컴프리헨션 코드를 비교하며 이해할 수 있다.  \n",
    "(참고: [리스트 컴프리헨션 - 제대로 파이썬](https://wikidocs.net/22805))\n",
    "\n",
    "리스트 컴프리헨션을 사용할 때, 조건(Condition)을 추가하여 필터링된 리스트를 생성할 수 있다. 조건문을 사용하는 경우 어떻게 표현하는지 알아보자!"
   ]
  },
  {
   "cell_type": "markdown",
   "id": "8b09ccb8",
   "metadata": {},
   "source": [
    "### 조건문(Condition) 있는 경우"
   ]
  },
  {
   "cell_type": "markdown",
   "id": "9bbd3108",
   "metadata": {},
   "source": [
    "> __if 문__  \n",
    "if문만 사용하는 경우, \\[expression **for** item **in** iterable **if** condition\\] 형태로  \n",
    "for문 뒤에 if문을 작성하면 된다. "
   ]
  },
  {
   "cell_type": "markdown",
   "id": "09fa2a95",
   "metadata": {},
   "source": [
    "- __예제__  \n",
    "주어진 숫자 리스트에서 홀수만 제곱값을 가지는 리스트를 생성하라.  \n",
    "numbers1 = \\[1, 2, 3, 4, 5, 6, 7, 8, 9, 10\\]"
   ]
  },
  {
   "cell_type": "code",
   "execution_count": 22,
   "id": "3aadc668",
   "metadata": {
    "scrolled": true
   },
   "outputs": [
    {
     "name": "stdout",
     "output_type": "stream",
     "text": [
      "기존 코드로 구한 값: [1, 9, 25, 49, 81]\n",
      "리스트 컴프리헨션 코드로 구한 값: [1, 9, 25, 49, 81]\n"
     ]
    }
   ],
   "source": [
    "# 기존 코드\n",
    "numbers1 = [1, 2, 3, 4, 5, 6, 7, 8, 9, 10]\n",
    "list4 = [] # 빈 리스트 생성\n",
    "for i in numbers1:\n",
    "    if i % 2 != 0:\n",
    "        list4.append(i**2) # 홀수 제곱값 리스트 생성\n",
    "        \n",
    "print(f'기존 코드로 구한 값: {list4}')\n",
    "        \n",
    "# 리스트 컴프리헨션 코드\n",
    "numbers1 = [1, 2, 3, 4, 5, 6, 7, 8, 9, 10]\n",
    "squared_odd = [i**2 for i in numbers1 if i % 2 != 0] # 홀수인 숫자를 추려 제곱값을 구함\n",
    "print(f'리스트 컴프리헨션 코드로 구한 값: {squared_odd}')"
   ]
  },
  {
   "cell_type": "markdown",
   "id": "1d378bb8",
   "metadata": {},
   "source": [
    "- __예제__  \n",
    "주어진 문자열 리스트에서 길이가 5이하인 문자열만 대문자로 변환하여 리스트를 생성하라.  \n",
    "fruit = \\['orange', 'banana', 'apple', 'grape', 'cherry'\\]"
   ]
  },
  {
   "cell_type": "code",
   "execution_count": 23,
   "id": "da20c5b9",
   "metadata": {},
   "outputs": [
    {
     "name": "stdout",
     "output_type": "stream",
     "text": [
      "기존 코드로 구한 값: ['APPLE', 'GRAPE']\n",
      "리스트 컴프리헨션 코드로 구한 값: ['APPLE', 'GRAPE']\n"
     ]
    }
   ],
   "source": [
    "# 기존 코드\n",
    "fruit = ['orange', 'banana', 'apple', 'grape', 'cherry']\n",
    "list5 = []\n",
    "for i in fruit:\n",
    "    if len(i) <= 5:\n",
    "        list5.append(i.upper())\n",
    "\n",
    "print(f'기존 코드로 구한 값: {list5}')\n",
    "        \n",
    "# 리스트 컴프리헨션 코드\n",
    "fruit = ['orange', 'banana', 'apple', 'grape', 'cherry']\n",
    "new_fruit = [i.upper() for i in fruit if len(i) <= 5]\n",
    "print(f'리스트 컴프리헨션 코드로 구한 값: {new_fruit}')"
   ]
  },
  {
   "cell_type": "markdown",
   "id": "f37f8afc",
   "metadata": {},
   "source": [
    "조건이 한 가지만 있는 경우, if문만 사용하여 필터링하면 된다.  \n",
    "이 경우에 리스트 컴프리헨션을 작성한다면, for문 다음에 if문을 작성해야 한다.\n",
    "\n",
    "그렇다면, 조건이 두 가지인 경우는 어떻게 작성할까.?\n",
    "for문 if문 else문 ?"
   ]
  },
  {
   "cell_type": "markdown",
   "id": "19c2d992",
   "metadata": {},
   "source": [
    "> __if-else 문__  \n",
    "if문만 사용하는 것과는 다르게 else문도 추가한다면, 작성 순서는 완전히 바뀐다.  \n",
    "if문만 사용할 때는 for문 오른쪽에 if문을 작성했다면,  \n",
    "else문을 사용할 때는 for문 왼쪽에 if-else문을 작성한다.  \n",
    "사용법은 다음과 같다.  \n",
    "\\[expression_true **if** condition **else** expression_false **for** item **in** iterable\\]"
   ]
  },
  {
   "cell_type": "markdown",
   "id": "e56e6343",
   "metadata": {},
   "source": [
    "- __예제__  \n",
    "주어진 숫자 리스트에서 홀수는 odd, 짝수는 even으로 분류하여 출력하라.  \n",
    "numbers2 = \\[15, 6, 489, 67, 4, 513, 48\\]"
   ]
  },
  {
   "cell_type": "code",
   "execution_count": 24,
   "id": "1dd9a35f",
   "metadata": {},
   "outputs": [
    {
     "name": "stdout",
     "output_type": "stream",
     "text": [
      "기존 코드로 구한 값: ['odd', 'even', 'odd', 'odd', 'even', 'odd', 'even']\n",
      "리스트 컴프리헨션 코드로 구한 값: ['odd', 'even', 'odd', 'odd', 'even', 'odd', 'even']\n"
     ]
    }
   ],
   "source": [
    "# 기존 코드\n",
    "numbers2 = [15, 6, 489, 67, 4, 513, 48]\n",
    "list6 = [] # odd와 even을 담을 빈 리스트 생성\n",
    "for i in numbers2:\n",
    "    if i % 2 != 0: # 홀수인 경우\n",
    "        list6.append('odd')\n",
    "    else: # 짝수인 경우\n",
    "        list6.append('even')\n",
    "        \n",
    "print(f'기존 코드로 구한 값: {list6}')\n",
    "        \n",
    "# 리스트 컴프리헨션 코드\n",
    "numbers2 = [15, 6, 489, 67, 4, 513, 48]\n",
    "odd_even = ['odd' if i % 2 != 0 else 'even' for i in numbers2]\n",
    "print(f'리스트 컴프리헨션 코드로 구한 값: {odd_even}')"
   ]
  },
  {
   "cell_type": "markdown",
   "id": "536b23a9",
   "metadata": {},
   "source": [
    "조건이 두 가지로 늘어나면서 기존 코드는 훨씬 더 길어진 것을 확인할 수 있다.  \n",
    "이 경우에 리스트 컴프리헨션을 사용하니까 코드의 간결성이 눈에 띄게 느껴진다.\n",
    "\n",
    "그런데 조건문 중에 elif문도 있다. 리스트 컴프리헨션 코드에 elif문은 어떻게 표현할 수 있을까.?"
   ]
  },
  {
   "cell_type": "markdown",
   "id": "fcabb6c4",
   "metadata": {},
   "source": [
    "> __elif 문__  \n",
    "elif문은 조건을 더 추가하는 경우에 사용한다. 예를 들면, 숫자 리스트에서 0, 양수, 음수를 분류하는 문제에 elif문을 사용한다.  \n",
    "\n",
    "> 기존 코드로 위 문제를 구현한다면 이렇게 구현될 것이다.  \n",
    "__if__ 0이면 0을 출력  \n",
    "__elif__ 짝수면 positive를 출력  \n",
    "__else__ 그 외엔 모두 negative를 출력  \n",
    "\n",
    "> 리스트 컴프리헨션으로 이 문제를 구현한다면, elif를 사용하는 것이 아니라 if-else를 두 번 사용하여 구현해야 한다.  \n",
    "사용법은 다음과 같다.  \n",
    "\\[expression_if_condition1 **if** condition1 **else** expression_if_condition2 **if** condition2 **else** expression_if_condition3 **for** item **in** iterable\\]\n",
    "\n"
   ]
  },
  {
   "cell_type": "markdown",
   "id": "b57e5d99",
   "metadata": {},
   "source": [
    "- __예제__  \n",
    "주어진 숫자 리스트에서 0은 zero, 양수는 positive, 음수는 negative로 분류하여 출력하라.  \n",
    "numbers = \\[-1, 2, -3, 0, 4, -5\\]"
   ]
  },
  {
   "cell_type": "code",
   "execution_count": 25,
   "id": "67d04714",
   "metadata": {},
   "outputs": [
    {
     "name": "stdout",
     "output_type": "stream",
     "text": [
      "기존 코드로 구한 값: ['odd', 'even', 'odd', 'odd', 'even', 'odd', 'even']\n",
      "리스트 컴프리헨션 코드로 구한 값: ['negative', 'positive', 'negative', 'zero', 'positive', 'negative']\n"
     ]
    }
   ],
   "source": [
    "# 기존 코드\n",
    "numbers3 = [-1, 2, -3, 0, 4, -5]\n",
    "list7 = [] # positive, negative, 0을 담을 빈 리스트 생성\n",
    "for i in numbers3:\n",
    "    if i > 0: # 양수인 경우\n",
    "        list7.append('positive')\n",
    "    elif i < 0: # 음수인 경우\n",
    "        list7.append('negative')\n",
    "    else: # 0인 경우\n",
    "        list7.append('zero')\n",
    "        \n",
    "print(f'기존 코드로 구한 값: {list6}')\n",
    "\n",
    "# 리스트 컴프리헨션 코드\n",
    "numbers3 = [-1, 2, -3, 0, 4, -5]\n",
    "classification = ['positive' if i > 0 else 'negative' if i < 0 else 'zero' for i in numbers3]\n",
    "print(f'리스트 컴프리헨션 코드로 구한 값: {classification}')"
   ]
  },
  {
   "cell_type": "markdown",
   "id": "464b1cd4",
   "metadata": {},
   "source": [
    "- 리스트 컴프리헨션을 사용하면 코드를 간결하게 작성할 수 있고, 성능이 좋을 때가 많다. \n",
    "- 하지만, 너무 복잡하게 작성하면 코드의 가독성이 떨어질 수 있으므로 적절하게 사용하는 것이 중요하다.  "
   ]
  }
 ],
 "metadata": {
  "kernelspec": {
   "display_name": "Python 3 (ipykernel)",
   "language": "python",
   "name": "python3"
  },
  "language_info": {
   "codemirror_mode": {
    "name": "ipython",
    "version": 3
   },
   "file_extension": ".py",
   "mimetype": "text/x-python",
   "name": "python",
   "nbconvert_exporter": "python",
   "pygments_lexer": "ipython3",
   "version": "3.9.7"
  }
 },
 "nbformat": 4,
 "nbformat_minor": 5
}
